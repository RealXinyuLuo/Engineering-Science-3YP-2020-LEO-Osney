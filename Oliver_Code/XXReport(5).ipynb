{
 "cells": [
  {
   "cell_type": "code",
   "execution_count": 1,
   "metadata": {},
   "outputs": [],
   "source": [
    "import pandas as pd\n",
    "import numpy as np\n",
    "import matplotlib.pyplot as plt\n",
    "import datetime"
   ]
  },
  {
   "cell_type": "code",
   "execution_count": 2,
   "metadata": {},
   "outputs": [],
   "source": [
    "import Demand\n",
    "import Date"
   ]
  },
  {
   "cell_type": "code",
   "execution_count": 3,
   "metadata": {},
   "outputs": [],
   "source": [
    "# datewanted = Date.getdatewanted(1)\n",
    "T = Demand.getHEATdemand(1)"
   ]
  },
  {
   "cell_type": "code",
   "execution_count": 4,
   "metadata": {},
   "outputs": [
    {
     "data": {
      "text/html": [
       "<div>\n",
       "<style scoped>\n",
       "    .dataframe tbody tr th:only-of-type {\n",
       "        vertical-align: middle;\n",
       "    }\n",
       "\n",
       "    .dataframe tbody tr th {\n",
       "        vertical-align: top;\n",
       "    }\n",
       "\n",
       "    .dataframe thead th {\n",
       "        text-align: right;\n",
       "    }\n",
       "</style>\n",
       "<table border=\"1\" class=\"dataframe\">\n",
       "  <thead>\n",
       "    <tr style=\"text-align: right;\">\n",
       "      <th></th>\n",
       "      <th>Heating Demand (kWh)</th>\n",
       "    </tr>\n",
       "  </thead>\n",
       "  <tbody>\n",
       "    <tr>\n",
       "      <th>00:00</th>\n",
       "      <td>26.066684</td>\n",
       "    </tr>\n",
       "    <tr>\n",
       "      <th>01:00</th>\n",
       "      <td>20.659165</td>\n",
       "    </tr>\n",
       "    <tr>\n",
       "      <th>02:00</th>\n",
       "      <td>21.280299</td>\n",
       "    </tr>\n",
       "    <tr>\n",
       "      <th>03:00</th>\n",
       "      <td>23.655223</td>\n",
       "    </tr>\n",
       "    <tr>\n",
       "      <th>04:00</th>\n",
       "      <td>23.253313</td>\n",
       "    </tr>\n",
       "    <tr>\n",
       "      <th>05:00</th>\n",
       "      <td>20.841851</td>\n",
       "    </tr>\n",
       "    <tr>\n",
       "      <th>06:00</th>\n",
       "      <td>18.393853</td>\n",
       "    </tr>\n",
       "    <tr>\n",
       "      <th>07:00</th>\n",
       "      <td>0.000000</td>\n",
       "    </tr>\n",
       "    <tr>\n",
       "      <th>08:00</th>\n",
       "      <td>0.000000</td>\n",
       "    </tr>\n",
       "    <tr>\n",
       "      <th>09:00</th>\n",
       "      <td>0.000000</td>\n",
       "    </tr>\n",
       "    <tr>\n",
       "      <th>10:00</th>\n",
       "      <td>0.000000</td>\n",
       "    </tr>\n",
       "    <tr>\n",
       "      <th>11:00</th>\n",
       "      <td>0.000000</td>\n",
       "    </tr>\n",
       "    <tr>\n",
       "      <th>12:00</th>\n",
       "      <td>0.000000</td>\n",
       "    </tr>\n",
       "    <tr>\n",
       "      <th>13:00</th>\n",
       "      <td>0.000000</td>\n",
       "    </tr>\n",
       "    <tr>\n",
       "      <th>14:00</th>\n",
       "      <td>0.000000</td>\n",
       "    </tr>\n",
       "    <tr>\n",
       "      <th>15:00</th>\n",
       "      <td>0.000000</td>\n",
       "    </tr>\n",
       "    <tr>\n",
       "      <th>16:00</th>\n",
       "      <td>0.000000</td>\n",
       "    </tr>\n",
       "    <tr>\n",
       "      <th>17:00</th>\n",
       "      <td>0.000000</td>\n",
       "    </tr>\n",
       "    <tr>\n",
       "      <th>18:00</th>\n",
       "      <td>0.000000</td>\n",
       "    </tr>\n",
       "    <tr>\n",
       "      <th>19:00</th>\n",
       "      <td>0.000000</td>\n",
       "    </tr>\n",
       "    <tr>\n",
       "      <th>20:00</th>\n",
       "      <td>0.000000</td>\n",
       "    </tr>\n",
       "    <tr>\n",
       "      <th>21:00</th>\n",
       "      <td>0.000000</td>\n",
       "    </tr>\n",
       "    <tr>\n",
       "      <th>22:00</th>\n",
       "      <td>0.000000</td>\n",
       "    </tr>\n",
       "    <tr>\n",
       "      <th>23:00</th>\n",
       "      <td>0.000000</td>\n",
       "    </tr>\n",
       "    <tr>\n",
       "      <th>24:00</th>\n",
       "      <td>0.000000</td>\n",
       "    </tr>\n",
       "  </tbody>\n",
       "</table>\n",
       "</div>"
      ],
      "text/plain": [
       "       Heating Demand (kWh)\n",
       "00:00             26.066684\n",
       "01:00             20.659165\n",
       "02:00             21.280299\n",
       "03:00             23.655223\n",
       "04:00             23.253313\n",
       "05:00             20.841851\n",
       "06:00             18.393853\n",
       "07:00              0.000000\n",
       "08:00              0.000000\n",
       "09:00              0.000000\n",
       "10:00              0.000000\n",
       "11:00              0.000000\n",
       "12:00              0.000000\n",
       "13:00              0.000000\n",
       "14:00              0.000000\n",
       "15:00              0.000000\n",
       "16:00              0.000000\n",
       "17:00              0.000000\n",
       "18:00              0.000000\n",
       "19:00              0.000000\n",
       "20:00              0.000000\n",
       "21:00              0.000000\n",
       "22:00              0.000000\n",
       "23:00              0.000000\n",
       "24:00              0.000000"
      ]
     },
     "execution_count": 4,
     "metadata": {},
     "output_type": "execute_result"
    }
   ],
   "source": [
    "T.loc[24] = 0\n",
    "T.rename(index={24:'24:00'}, inplace=True)\n",
    "T"
   ]
  },
  {
   "cell_type": "code",
   "execution_count": 5,
   "metadata": {},
   "outputs": [],
   "source": [
    "T['TESA Int Gen - Occupants(weekday)'] = [0,0,0,0,0,0,0,0,130,130,130,130,130,130,130,130,130,0,0,0,0,0,0,0,0]\n",
    "T['TESA Int Gen - Occupants(weekday)'] = T['TESA Int Gen - Occupants(weekday)']*750/1000\n",
    "\n"
   ]
  },
  {
   "cell_type": "code",
   "execution_count": 6,
   "metadata": {},
   "outputs": [],
   "source": [
    "T['TESA Int Gen - Occupants(weekend)'] = [0,0,0,0,0,0,0,0,0,0,0,0,0,0,0,0,0,0,0,0,0,0,0,0,0]\n",
    "\n"
   ]
  },
  {
   "cell_type": "code",
   "execution_count": 7,
   "metadata": {},
   "outputs": [],
   "source": [
    "T['TESA Int Gen - Lighting(weekday)'] = [0,0,0,0,0,0,0,0,10.8,10.8,10.8,10.8,10.8,10.8,10.8,10.8,10.8,0,0,0,0,0,0,0,0]\n",
    "\n"
   ]
  },
  {
   "cell_type": "code",
   "execution_count": 8,
   "metadata": {},
   "outputs": [],
   "source": [
    "T['TESA Int Gen - Lighting(weekend)'] = [0,0,0,0,0,0,0,0,0,0,0,0,0,0,0,0,0,0,0,0,0,0,0,0,0]\n"
   ]
  },
  {
   "cell_type": "code",
   "execution_count": 9,
   "metadata": {},
   "outputs": [],
   "source": [
    "T['TESA Int Gen - Monitors(weekday)'] = [0,0,0,0,0,0,0,0,17.475,17.475,17.475,17.475,17.475,17.475,17.475,17.475,17.475,0,0,0,0,0,0,0,0]\n",
    "\n",
    "\n"
   ]
  },
  {
   "cell_type": "code",
   "execution_count": 10,
   "metadata": {},
   "outputs": [],
   "source": [
    "T['TESA Int Gen - Monitors(weekend)'] = [0,0,0,0,0,0,0,0,0,0,0,0,0,0,0,0,0,0,0,0,0,0,0,0,0]\n",
    "\n",
    "\n"
   ]
  },
  {
   "cell_type": "code",
   "execution_count": 11,
   "metadata": {},
   "outputs": [],
   "source": [
    "T['TESA Int Gen - Computers(weekday)'] = [12.225,12.225,12.225,12.225,12.225,12.225,12.225,12.225,61.125,61.125,61.125,61.125,61.125,61.125,61.125,61.125,61.125,12.225,12.225,12.225,12.225,12.225,12.225,12.225,12.225]\n",
    "\n"
   ]
  },
  {
   "cell_type": "code",
   "execution_count": 12,
   "metadata": {},
   "outputs": [],
   "source": [
    "T['TESA Int Gen - Computers(weekend)'] = [0,0,0,0,0,0,0,0,0,0,0,0,0,0,0,0,0,0,0,0,0,0,0,0,0]\n"
   ]
  },
  {
   "cell_type": "code",
   "execution_count": 13,
   "metadata": {},
   "outputs": [],
   "source": [
    "T['TESA Total Int Gen - weekend'] = T['TESA Int Gen - Computers(weekend)']+T['TESA Int Gen - Monitors(weekend)']+T['TESA Int Gen - Lighting(weekend)']+T['TESA Int Gen - Occupants(weekend)']\n",
    "T['TESA Total Int Gen - weekday'] = T['TESA Int Gen - Computers(weekday)']+T['TESA Int Gen - Monitors(weekday)']+T['TESA Int Gen - Lighting(weekday)']+T['TESA Int Gen - Occupants(weekday)']\n",
    "\n"
   ]
  },
  {
   "cell_type": "code",
   "execution_count": 14,
   "metadata": {},
   "outputs": [
    {
     "data": {
      "image/png": "[encoded data removed]",
      "text/plain": [
       "<Figure size 1080x360 with 4 Axes>"
      ]
     },
     "metadata": {
      "needs_background": "light"
     },
     "output_type": "display_data"
    }
   ],
   "source": [
    "x = [0,1,2,3,4,5,6,7,8,9,10,11,12,13,14,15,16,17,18,19,20,21,22,23,24]\n",
    "color1 = 'maroon'\n",
    "color2 = 'dodgerblue'\n",
    "fig, ax = plt.subplots(2,2,sharey=True,sharex=True,figsize=[15,5])\n",
    "\n",
    "ax[0,0].step(x, T['TESA Int Gen - Lighting(weekday)'],color=color1, label='weekday', alpha = 5)\n",
    "ax[0,0].step(x, T['TESA Int Gen - Lighting(weekend)'],color=color2, label='weekend')\n",
    "ax[0,0].set_ylabel('(kWh)')\n",
    "ax[0,0].legend()\n",
    "ax[0,0].title.set_text('Lighting')\n",
    "ax[0,0].spines['top'].set_visible(False)\n",
    "ax[0,0].spines['right'].set_visible(False)\n",
    "ax[0,0].grid(lw=0.5)\n",
    "\n",
    "ax[0,1].step(x, T['TESA Int Gen - Occupants(weekday)'],color=color1, label='weekday')\n",
    "ax[0,1].step(x, T['TESA Int Gen - Occupants(weekend)'],color=color2, label='weekend')\n",
    "ax[0,1].legend()\n",
    "ax[0,1].title.set_text('Occupants')\n",
    "ax[0,1].spines['top'].set_visible(False)\n",
    "ax[0,1].spines['right'].set_visible(False)\n",
    "ax[0,1].grid(lw=0.5)\n",
    "\n",
    "ax[1,0].step(x, T['TESA Int Gen - Monitors(weekday)']+T['TESA Int Gen - Computers(weekday)'],color=color1, label='weekday')\n",
    "ax[1,0].step(x, T['TESA Int Gen - Monitors(weekend)']+T['TESA Int Gen - Computers(weekend)'],color=color2, label='weekend')\n",
    "ax[1,0].set_xticks((0,3,6,9,12,15,18,21,24))\n",
    "ax[1,0].set_xticklabels(('00:00','','06:00','','12:00','','18:00','','24:00'))\n",
    "ax[1,0].set_xlabel('time throughout the day')\n",
    "ax[1,0].set_ylabel('(kWh)')\n",
    "ax[1,0].legend()\n",
    "ax[1,0].title.set_text('Monitors + Computers')\n",
    "ax[1,0].spines['top'].set_visible(False)\n",
    "ax[1,0].spines['right'].set_visible(False)\n",
    "ax[1,0].grid(lw=0.5)\n",
    "\n",
    "ax[1,1].step(x, T['TESA Total Int Gen - weekday'],color=color1,label='weekday')\n",
    "ax[1,1].step(x, T['TESA Total Int Gen - weekend'],color=color2, label='weekend')\n",
    "ax[1,1].set_xlabel('time throughout the day')\n",
    "ax[1,1].legend()\n",
    "ax[1,1].title.set_text('Total')\n",
    "ax[1,1].spines['top'].set_visible(False)\n",
    "ax[1,1].spines['right'].set_visible(False)\n",
    "ax[1,1].grid(lw=0.5)\n",
    "\n",
    "# fig.suptitle('Time throughout the day', y=0)\n",
    "# fig.ylabel('Internal Generation (kW)')\n",
    "# fig.ylabel('Time throughout the day')"
   ]
  },
  {
   "cell_type": "code",
   "execution_count": 15,
   "metadata": {},
   "outputs": [],
   "source": [
    "def hello(daywanted):\n",
    "    \n",
    "    T = Demand.getHEATdemand(daywanted)\n",
    "    \n",
    "    T['TESA Int Gen - Occupants(weekday)'] = [0,0,0,0,0,0,0,0,130,130,130,130,130,130,130,130,130,0,0,0,0,0,0,0]\n",
    "    T['TESA Int Gen - Occupants(weekday)'] = T['TESA Int Gen - Occupants(weekday)']*750/1000\n",
    "    T['TESA Int Gen - Occupants(weekend)'] = [0,0,0,0,0,0,0,0,0,0,0,0,0,0,0,0,0,0,0,0,0,0,0,0]\n",
    "    T['TESA Int Gen - Lighting(weekday)'] = [0,0,0,0,0,0,0,0,10.8,10.8,10.8,10.8,10.8,10.8,10.8,10.8,10.8,0,0,0,0,0,0,0]\n",
    "    T['TESA Int Gen - Lighting(weekend)'] = [0,0,0,0,0,0,0,0,0,0,0,0,0,0,0,0,0,0,0,0,0,0,0,0]\n",
    "    T['TESA Int Gen - Monitors(weekday)'] = [0,0,0,0,0,0,0,0,17.475,17.475,17.475,17.475,17.475,17.475,17.475,17.475,17.475,0,0,0,0,0,0,0]\n",
    "    T['TESA Int Gen - Monitors(weekend)'] = [0,0,0,0,0,0,0,0,0,0,0,0,0,0,0,0,0,0,0,0,0,0,0,0]\n",
    "    T['TESA Int Gen - Computers(weekday)'] = [12.225,12.225,12.225,12.225,12.225,12.225,12.225,12.225,61.125,61.125,61.125,61.125,61.125,61.125,61.125,61.125,61.125,12.225,12.225,12.225,12.225,12.225,12.225,12.225]\n",
    "    T['TESA Int Gen - Computers(weekend)'] = [0,0,0,0,0,0,0,0,0,0,0,0,0,0,0,0,0,0,0,0,0,0,0,0]\n",
    "    T['TESA Total Int Gen - weekend'] = T['TESA Int Gen - Computers(weekend)']+T['TESA Int Gen - Monitors(weekend)']+T['TESA Int Gen - Lighting(weekend)']+T['TESA Int Gen - Occupants(weekend)']\n",
    "    T['TESA Total Int Gen - weekday'] = T['TESA Int Gen - Computers(weekday)']+T['TESA Int Gen - Monitors(weekday)']+T['TESA Int Gen - Lighting(weekday)']+T['TESA Int Gen - Occupants(weekday)']\n",
    "    \n",
    "    "
   ]
  },
  {
   "cell_type": "code",
   "execution_count": 16,
   "metadata": {},
   "outputs": [
    {
     "data": {
      "text/html": [
       "<div>\n",
       "<style scoped>\n",
       "    .dataframe tbody tr th:only-of-type {\n",
       "        vertical-align: middle;\n",
       "    }\n",
       "\n",
       "    .dataframe tbody tr th {\n",
       "        vertical-align: top;\n",
       "    }\n",
       "\n",
       "    .dataframe thead th {\n",
       "        text-align: right;\n",
       "    }\n",
       "</style>\n",
       "<table border=\"1\" class=\"dataframe\">\n",
       "  <thead>\n",
       "    <tr style=\"text-align: right;\">\n",
       "      <th></th>\n",
       "      <th>Heating Demand (kWh)</th>\n",
       "    </tr>\n",
       "  </thead>\n",
       "  <tbody>\n",
       "    <tr>\n",
       "      <th>00:00</th>\n",
       "      <td>26.066684</td>\n",
       "    </tr>\n",
       "    <tr>\n",
       "      <th>01:00</th>\n",
       "      <td>20.659165</td>\n",
       "    </tr>\n",
       "    <tr>\n",
       "      <th>02:00</th>\n",
       "      <td>21.280299</td>\n",
       "    </tr>\n",
       "    <tr>\n",
       "      <th>03:00</th>\n",
       "      <td>23.655223</td>\n",
       "    </tr>\n",
       "    <tr>\n",
       "      <th>04:00</th>\n",
       "      <td>23.253313</td>\n",
       "    </tr>\n",
       "    <tr>\n",
       "      <th>05:00</th>\n",
       "      <td>20.841851</td>\n",
       "    </tr>\n",
       "    <tr>\n",
       "      <th>06:00</th>\n",
       "      <td>18.393853</td>\n",
       "    </tr>\n",
       "    <tr>\n",
       "      <th>07:00</th>\n",
       "      <td>0.000000</td>\n",
       "    </tr>\n",
       "    <tr>\n",
       "      <th>08:00</th>\n",
       "      <td>0.000000</td>\n",
       "    </tr>\n",
       "    <tr>\n",
       "      <th>09:00</th>\n",
       "      <td>0.000000</td>\n",
       "    </tr>\n",
       "    <tr>\n",
       "      <th>10:00</th>\n",
       "      <td>0.000000</td>\n",
       "    </tr>\n",
       "    <tr>\n",
       "      <th>11:00</th>\n",
       "      <td>0.000000</td>\n",
       "    </tr>\n",
       "    <tr>\n",
       "      <th>12:00</th>\n",
       "      <td>0.000000</td>\n",
       "    </tr>\n",
       "    <tr>\n",
       "      <th>13:00</th>\n",
       "      <td>0.000000</td>\n",
       "    </tr>\n",
       "    <tr>\n",
       "      <th>14:00</th>\n",
       "      <td>0.000000</td>\n",
       "    </tr>\n",
       "    <tr>\n",
       "      <th>15:00</th>\n",
       "      <td>0.000000</td>\n",
       "    </tr>\n",
       "    <tr>\n",
       "      <th>16:00</th>\n",
       "      <td>0.000000</td>\n",
       "    </tr>\n",
       "    <tr>\n",
       "      <th>17:00</th>\n",
       "      <td>0.000000</td>\n",
       "    </tr>\n",
       "    <tr>\n",
       "      <th>18:00</th>\n",
       "      <td>0.000000</td>\n",
       "    </tr>\n",
       "    <tr>\n",
       "      <th>19:00</th>\n",
       "      <td>0.000000</td>\n",
       "    </tr>\n",
       "    <tr>\n",
       "      <th>20:00</th>\n",
       "      <td>0.000000</td>\n",
       "    </tr>\n",
       "    <tr>\n",
       "      <th>21:00</th>\n",
       "      <td>0.000000</td>\n",
       "    </tr>\n",
       "    <tr>\n",
       "      <th>22:00</th>\n",
       "      <td>0.000000</td>\n",
       "    </tr>\n",
       "    <tr>\n",
       "      <th>23:00</th>\n",
       "      <td>0.000000</td>\n",
       "    </tr>\n",
       "  </tbody>\n",
       "</table>\n",
       "</div>"
      ],
      "text/plain": [
       "       Heating Demand (kWh)\n",
       "00:00             26.066684\n",
       "01:00             20.659165\n",
       "02:00             21.280299\n",
       "03:00             23.655223\n",
       "04:00             23.253313\n",
       "05:00             20.841851\n",
       "06:00             18.393853\n",
       "07:00              0.000000\n",
       "08:00              0.000000\n",
       "09:00              0.000000\n",
       "10:00              0.000000\n",
       "11:00              0.000000\n",
       "12:00              0.000000\n",
       "13:00              0.000000\n",
       "14:00              0.000000\n",
       "15:00              0.000000\n",
       "16:00              0.000000\n",
       "17:00              0.000000\n",
       "18:00              0.000000\n",
       "19:00              0.000000\n",
       "20:00              0.000000\n",
       "21:00              0.000000\n",
       "22:00              0.000000\n",
       "23:00              0.000000"
      ]
     },
     "execution_count": 16,
     "metadata": {},
     "output_type": "execute_result"
    }
   ],
   "source": [
    "Demand.getHEATdemand(1)"
   ]
  },
  {
   "cell_type": "code",
   "execution_count": 17,
   "metadata": {},
   "outputs": [
    {
     "data": {
      "text/plain": [
       "<matplotlib.legend.Legend at 0x1240be750>"
      ]
     },
     "execution_count": 17,
     "metadata": {},
     "output_type": "execute_result"
    },
    {
     "data": {
      "image/png": "[encoded data removed]",
      "text/plain": [
       "<Figure size 936x504 with 1 Axes>"
      ]
     },
     "metadata": {
      "needs_background": "light"
     },
     "output_type": "display_data"
    }
   ],
   "source": [
    "x = [0,1,2,3,4,5,6,7,8,9,10,11,12,13,14,15,16,17,18,19,20,21,22,23]\n",
    "\n",
    "fig, ax = plt.subplots(sharey=True,sharex=True,figsize=[13,7])\n",
    "ax.step(x,Demand.getHEATdemand(364),color='blue',label='heat')\n",
    "ax.step(x,Demand.getCOOLdemand(364),color='red',label='cool')\n",
    "ax.legend()"
   ]
  },
  {
   "cell_type": "code",
   "execution_count": null,
   "metadata": {},
   "outputs": [],
   "source": []
  }
 ],
 "metadata": {
  "kernelspec": {
   "display_name": "Python 3",
   "language": "python",
   "name": "python3"
  },
  "language_info": {
   "codemirror_mode": {
    "name": "ipython",
    "version": 3
   },
   "file_extension": ".py",
   "mimetype": "text/x-python",
   "name": "python",
   "nbconvert_exporter": "python",
   "pygments_lexer": "ipython3",
   "version": "3.7.4"
  }
 },
 "nbformat": 4,
 "nbformat_minor": 4
}
