{
 "cells": [
  {
   "cell_type": "code",
   "execution_count": 1,
   "metadata": {},
   "outputs": [],
   "source": [
    "import pandas as pd\n",
    "import matplotlib.pyplot as plt\n",
    "import numpy as np\n",
    "import Demand\n",
    "import Solar\n",
    "import Price\n",
    "import Date\n",
    "import Forecast"
   ]
  },
  {
   "cell_type": "code",
   "execution_count": 2,
   "metadata": {},
   "outputs": [
    {
     "data": {
      "text/plain": [
       "'\\nsmart with regression fit for solar\\n'"
      ]
     },
     "execution_count": 2,
     "metadata": {},
     "output_type": "execute_result"
    }
   ],
   "source": [
    "'''\n",
    "NEW smart with regression fit for solar\n",
    "'''"
   ]
  },
  {
   "cell_type": "code",
   "execution_count": 3,
   "metadata": {},
   "outputs": [],
   "source": [
    "def predictedcharge(bigdata, daywanted):\n",
    "    \n",
    "    slope_intercept = pd.read_csv('Data/regression_values.csv')\n",
    "    \n",
    "    date = Date.getdatewanted(daywanted, 2014)\n",
    "    month = Date.getmonth(date)\n",
    "\n",
    "    slope = slope_intercept['slope'][month-1]\n",
    "    intercept = slope_intercept['intercept'][month-1]\n",
    "\n",
    "    cloud = Forecast.getcloudcover(daywanted)\n",
    "\n",
    "    predicted_insolance = slope*cloud+intercept\n",
    "    \n",
    "    predictedcharge = predicted_insolance*1600*0.9\n",
    "    \n",
    "    daydemand = []\n",
    "    for n in range(24):\n",
    "        if bigdata['Total Supply (kWh)'][n] > 0:\n",
    "            daydemand.append(bigdata['Total Demand (kWh)'][n])\n",
    "        \n",
    "    predictedcharge = predictedcharge-np.sum(daydemand)\n",
    "    \n",
    "    return predictedcharge"
   ]
  },
  {
   "cell_type": "code",
   "execution_count": 4,
   "metadata": {},
   "outputs": [],
   "source": [
    "def chargeneeded(bigdata):\n",
    "\n",
    "    eff = 0.9\n",
    "    chargeneeded = 0\n",
    "    median = np.median(bigdata['Grid Buy Price'])\n",
    "    batterycharge = 0\n",
    "    \n",
    "\n",
    "    for n in range(0,24):\n",
    "            \n",
    "        if bigdata['Grid Buy Price'][n] >= median*1.5:\n",
    "            chargeneeded = chargeneeded + bigdata['Net Demand'][n]/(eff)\n",
    "\n",
    "\n",
    "    return chargeneeded\n"
   ]
  },
  {
   "cell_type": "code",
   "execution_count": 5,
   "metadata": {},
   "outputs": [],
   "source": [
    "## method to run the SMART system ##\n",
    "## if its predicted\n",
    "\n",
    "def run_SMART(bigdata, daywanted, starting_soc):\n",
    "    \n",
    "    batteryoutput = np.zeros(24)\n",
    "    soc = np.ones(24)*0\n",
    "    capacity = 1120\n",
    "    power = 415\n",
    "    eff = 0.9\n",
    "    \n",
    "    median = np.median(bigdata['Grid Buy Price'])\n",
    "    required_battery_charge = chargeneeded(bigdata)\n",
    "    predicted_battery_charge = predictedcharge(bigdata, daywanted)\n",
    "    \n",
    "    print(required_battery_charge, predicted_battery_charge)\n",
    "    \n",
    "    for n in range(0,24):\n",
    "        \n",
    "        if n == 0:\n",
    "            soc_temp = starting_soc[daywanted-1]\n",
    "        else:\n",
    "            soc_temp = soc[n-1]\n",
    "\n",
    "        ## the smart design ##\n",
    "        ## the smart design ##\n",
    "        ## the smart design ##\n",
    "\n",
    "        \n",
    "        if required_battery_charge > predicted_battery_charge: \n",
    "            if n == 5:\n",
    "                batteryoutput[n] = max(-power, -(1/eff)*(required_battery_charge - predicted_battery_charge))\n",
    "                soc[n] = soc_temp - batteryoutput[n]*eff\n",
    "                continue\n",
    "                \n",
    "        if n == 0:\n",
    "            use = True\n",
    "        if n == 14:\n",
    "            use = False\n",
    "        if bigdata['Grid Buy Price'][n] >= median*1.5:\n",
    "            use = True\n",
    "            \n",
    "\n",
    "        ## the smart design ##\n",
    "        ## the smart design ##\n",
    "        ## the smart design ##\n",
    "\n",
    "        if bigdata['Net Demand'][n] > 0:   #using the battery\n",
    "            batteryoutput[n] = min(bigdata['Net Demand'][n], soc_temp*eff, power)\n",
    "            soc[n] = soc_temp - batteryoutput[n]*(1/eff)\n",
    "            if use == False:\n",
    "                soc[n] = soc[n-1]\n",
    "                batteryoutput[n] = 0\n",
    "\n",
    "        elif bigdata['Net Demand'][n] < 0:     # charge the battery\n",
    "            batteryoutput[n] = max(bigdata['Net Demand'][n], -(1/eff)*(capacity - soc_temp), -power)\n",
    "            soc[n] = soc_temp - batteryoutput[n]*(eff)\n",
    "\n",
    "        elif bigdata['Net Demand'][n] == 0:      # do nothing\n",
    "            soc[n] = soc_temp\n",
    "\n",
    "        \n",
    "    ## adds the battery output to total demand and adds to bigdata ##\n",
    "\n",
    "    bigdata['Net Demand - SMART'] = bigdata['Net Demand']-batteryoutput\n",
    "    bigdata['Running Cost - SMART'] = bigdata['Net Demand - SMART']*bigdata['Grid Buy Price']\n",
    "    bigdata['Running Cost - SMART'] = bigdata['Running Cost - SMART'].clip(lower=0)\n",
    "    bigdata['Running Profit - SMART'] = -bigdata['Net Demand - SMART']*bigdata['Grid Sell Price']\n",
    "    bigdata['Running Profit - SMART'] = bigdata['Running Profit - SMART'].clip(lower=0)\n",
    "    bigdata['soc - SMART'] = soc\n",
    "    bigdata['battery output - SMART'] = batteryoutput\n",
    "    \n",
    "    ## adds the end day soc into the global vector to use for the next day ##\n",
    "    starting_soc[daywanted] = soc[23]\n",
    "    ## returns the new bigdata ##\n",
    "    \n",
    "    return bigdata\n"
   ]
  },
  {
   "cell_type": "code",
   "execution_count": 6,
   "metadata": {},
   "outputs": [
    {
     "name": "stdout",
     "output_type": "stream",
     "text": [
      "238.13333333333333 483.00102505600006\n",
      "226.07777777777778 503.4857363520001\n",
      "289.44444444444446 395.58686377599975\n",
      "318.2611111111111 293.68224814400014\n",
      "326.40555555555557 557.8576136800001\n",
      "322.9222222222222 124.76159219200008\n",
      "238.47222222222223 345.609231408\n",
      "250.13888888888886 566.3697865600001\n",
      "339.19999999999993 235.02290580800025\n",
      "329.72222222222223 525.5978921120002\n",
      "422.36111111111114 472.9522344479999\n",
      "331.15 529.58761368\n",
      "349.45 407.6689358560002\n",
      "235.45555555555552 374.32894784000007\n",
      "257.1777777777778 8.91519147200006\n",
      "364.3388888888889 24.375838864000116\n",
      "338.77222222222224 164.45158705599988\n",
      "447.5 172.83234209600005\n",
      "321.9222222222222 276.50073464000013\n",
      "309.2166666666667 538.6143082399999\n",
      "232.99444444444444 480.82799976\n",
      "230.97777777777776 60.95103875199993\n",
      "343.9555555555556 314.37497617600025\n",
      "434.4222222222222 263.80979169600016\n",
      "438.26666666666665 -31.96000670400008\n",
      "488.65555555555557 314.7116741599999\n",
      "543.4555555555555 479.0186505759998\n",
      "232.57222222222222 374.8766844319998\n",
      "241.65555555555557 56.90717131199983\n",
      "438.29444444444437 -229.08575318400005\n",
      "353.33888888888885 -175.78198140799998\n",
      "353.2555555555556 1799.2681282623998\n",
      "429.3777777777778 2480.7499189888003\n",
      "431.5666666666666 2477.7111699200004\n",
      "218.29999999999995 1368.31444624\n",
      "303.42777777777775 604.7551536511996\n",
      "628.9277777777777 809.8982362815996\n",
      "299.9888888888889 464.11950583680004\n",
      "304.7444444444444 1064.3560061791995\n",
      "280.12777777777774 1148.2206934464002\n",
      "349.3277777777778 164.44767786239993\n",
      "239.93888888888887 1661.3406673727998\n",
      "294.7222222222222 1080.5141633056\n",
      "304.18333333333334 2335.3855593535995\n",
      "409.25 431.9870263231992\n",
      "426.51666666666665 1337.8597254495999\n",
      "303.40555555555557 3037.3776702624\n",
      "294.26666666666665 686.1579272735994\n",
      "259.4555555555555 1229.4879011999997\n",
      "202.18333333333334 624.3842042783999\n",
      "391.33888888888885 12.29267413759942\n",
      "356.9944444444444 2122.7237053056\n",
      "339.65 2430.7546099808005\n",
      "399.9555555555555 1084.5122533856\n",
      "351.6333333333333 442.54857136320015\n",
      "209.67777777777775 605.0867098655997\n",
      "174.91666666666666 3090.1942488256\n",
      "396.3888888888889 1420.0584670687995\n",
      "363.9666666666667 324.19327352959965\n",
      "-161.75000000000003 3323.2157169711995\n",
      "342.25 3083.5277093391996\n",
      "153.6611111111111 2678.4271893839987\n",
      "-76.96111111111107 3374.7256303119984\n",
      "-224.95555555555555 4338.962072511999\n",
      "-101.41666666666669 2678.9176719728\n",
      "-495.4888888888891 3246.463600577599\n",
      "-667.3944444444446 3924.5283843264\n",
      "-708.3555555555556 5298.432667199999\n",
      "-257.4944444444445 3347.4828890175995\n",
      "-351.8166666666667 2231.0978699375996\n",
      "-784.0833333333334 4854.440940376\n",
      "-543.8777777777779 2440.4862981456\n",
      "-704.9000000000001 3618.820494359999\n",
      "-714.1055555555555 3565.4313792383987\n",
      "-827.4388888888889 5222.971751315199\n",
      "38.216666666666654 2164.823154561599\n",
      "-621.1388888888889 2573.563618863999\n",
      "-918.0277777777778 2440.148241220798\n",
      "26.39999999999999 3483.0486315839994\n",
      "-347.2166666666667 2740.6555372927996\n",
      "-43.55000000000001 3617.7996094815985\n",
      "-438.5000000000001 3688.7054387071994\n",
      "-492.12222222222226 4453.3847088608\n",
      "-30.08333333333337 3544.8732356543987\n",
      "-184.55555555555557 3318.5607416175994\n",
      "-284.1333333333333 3321.4907416175993\n",
      "76.50000000000001 3801.1990402335987\n",
      "-995.8277777777778 5063.8390346671995\n",
      "-476.84444444444455 3462.3895784751994\n",
      "-295.0444444444445 2629.737591673599\n",
      "-836.6666666666669 5739.344225779201\n",
      "-373.5777777777777 6558.906699936002\n",
      "-229.83333333333343 4898.515330691202\n",
      "-645.0611111111111 2282.9714760032\n",
      "-94.81666666666672 5350.813382249602\n",
      "-393.6166666666668 1980.3616856992016\n",
      "113.10555555555555 2807.7021211232004\n",
      "-1102.9 6267.9632854176\n",
      "-846.2555555555557 5858.130788688\n",
      "-803.6111111111113 5227.894622598402\n",
      "-1067.322222222222 4129.437369424001\n",
      "-756.9166666666667 5510.431043529601\n",
      "-1676.505555555556 5616.512640297602\n",
      "-1353.0722222222225 6868.629185379201\n",
      "-1493.9166666666665 7083.578386995202\n",
      "-1474.0444444444445 6891.3712466848\n",
      "-142.07222222222225 4477.084221033601\n",
      "-1497.3500000000001 5359.2864854944\n",
      "-1319.7777777777778 3729.9367581632005\n",
      "-105.11111111111109 3451.454617852801\n",
      "-127.05000000000003 5517.574735462401\n",
      "-918.9722222222222 3446.012766243202\n",
      "-96.02222222222221 5748.7326177248015\n",
      "-688.7777777777778 4112.478100089602\n",
      "-18.600000000000023 1854.4756324736006\n",
      "-1014.7111111111111 5210.426241939202\n",
      "-660.5388888888891 4665.655885520002\n",
      "-474.9 3770.5020468640014\n",
      "-534.6 2194.968593740801\n",
      "-1158.1833333333334 3718.9806597920006\n",
      "-458.0722222222223 3875.5924118912\n",
      "-985.2388888888889 4047.7236725952007\n",
      "-1542.9833333333336 5478.094010368001\n",
      "-1151.9222222222224 8495.4116078928\n",
      "-319.57222222222225 5630.115271072001\n",
      "-1006.6666666666667 4608.318782014401\n",
      "-1087.4 5276.6560512815995\n",
      "-461.22222222222223 3466.0432729760005\n",
      "-1293.2444444444445 5324.961569835201\n",
      "-1103.7333333333333 3712.2126117008\n",
      "-952.5833333333334 3457.1321597504\n",
      "-772.5611111111111 4557.9465936224005\n",
      "-747.1611111111112 4791.805547\n",
      "-1548.6000000000001 7076.109904753601\n",
      "-1383.4555555555557 7516.0031159808\n",
      "-756.4277777777778 6417.329386199999\n",
      "-1249.1666666666667 6143.757369073601\n",
      "-1418.5444444444447 8541.1494337728\n",
      "-1408.6444444444446 7378.392744905601\n",
      "-27.28888888888892 5202.8795003775995\n",
      "-606.0222222222222 3518.2672786847997\n",
      "-854.15 5386.8016221664\n",
      "-907.5722222222221 6750.8219599392005\n",
      "-1287.2111111111112 5014.956807704001\n",
      "-1563.6166666666666 6240.1624356768\n",
      "-142.06111111111113 4433.624590768\n",
      "-502.0055555555556 2145.121346240001\n",
      "-225.0888888888889 2234.0068362496004\n",
      "-1013.9333333333334 3428.3702092272\n",
      "-926.6166666666668 4361.554257751999\n",
      "-768.3222222222222 5658.377088388801\n",
      "-955.1666666666666 6803.019811359997\n",
      "-775.6833333333334 5993.433419715198\n",
      "-990.7944444444445 5630.457042864\n",
      "-335.8833333333334 5872.468403635199\n",
      "-1504.1166666666668 6960.528898819199\n",
      "-1535.35 7631.754839017599\n",
      "-1458.7277777777779 6884.528906537599\n",
      "-1413.4222222222222 7022.637543193598\n",
      "-1354.677777777778 6505.332528399998\n",
      "-1577.566666666667 6990.2634525184\n",
      "-1284.2055555555555 7376.075277599999\n",
      "-1511.6833333333332 6947.387536118399\n",
      "-1168.9444444444443 6571.9266222912\n",
      "-1121.0833333333333 5346.018397846398\n",
      "-963.2833333333335 4745.640194627198\n",
      "-649.5000000000001 4895.6479264608\n",
      "-1539.0333333333333 5619.662496883199\n",
      "-1227.0 5586.732034502398\n",
      "-861.5777777777778 6393.4961534784\n",
      "-1145.0277777777776 6466.228892387198\n",
      "-1521.9111111111113 6583.6838988191985\n",
      "-1187.8111111111114 6504.5948042847995\n",
      "-922.5555555555558 5244.455667299199\n",
      "-1358.4333333333334 6234.0670628032\n",
      "-1219.7999999999997 6972.555717468799\n",
      "-1043.2444444444445 6249.569783059199\n",
      "-960.7611111111112 5391.522942540799\n",
      "-593.7944444444445 6488.937526470399\n",
      "-1180.9055555555553 6065.982966982399\n",
      "-734.2500000000002 6327.165249942399\n",
      "-1420.5388888888888 5749.408083190401\n",
      "-605.6944444444445 5942.652433296\n",
      "-1630.9333333333334 6023.421159086401\n",
      "-1190.927777777778 5772.4520126352\n",
      "-650.1222222222221 5669.624859297601\n",
      "-1226.5 5679.9258704943995\n",
      "-644.0555555555555 5714.1227897728\n",
      "-452.22222222222223 5719.4749175312\n",
      "-657.0388888888889 5913.8830976672\n",
      "-1676.611111111111 5907.1634686208\n",
      "-833.6444444444445 5586.985704320001\n",
      "-538.4555555555556 5612.657162881599\n",
      "-887.8388888888888 5637.941380918401\n",
      "-876.3277777777779 5639.6022344672\n",
      "-1531.0666666666666 5625.079393755201\n",
      "-1286.3444444444444 5912.5177497168\n",
      "-1232.8222222222223 5984.447681831999\n",
      "-1321.8666666666668 5795.488611792\n",
      "-129.6777777777778 5802.3613263856005\n",
      "-329.96666666666664 5685.9340591568\n",
      "-1257.7388888888888 5634.516032968\n",
      "-1490.6444444444446 5709.698255315201\n",
      "-1283.188888888889 5938.019677521601\n",
      "-1550.4 5983.6632905456\n",
      "-977.9000000000001 5687.6371168752\n",
      "-1168.0833333333335 5691.3880334832\n",
      "-1165.4611111111112 5629.435265481601\n",
      "-1414.088888888889 5664.199953886401\n",
      "-1418.361111111111 5725.3837972688\n",
      "-1463.9055555555556 5958.068842150401\n",
      "-345.98888888888894 5942.3172478192\n",
      "-192.87777777777785 5188.4673817728\n",
      "-797.4277777777778 4271.156210380799\n",
      "-1411.3444444444447 6510.6437833472\n",
      "-1160.4055555555556 5088.1815830015985\n",
      "-360.5000000000001 4511.065991603199\n",
      "-1383.2388888888888 4016.984689177598\n",
      "-1135.3166666666666 5229.4309483135985\n",
      "-122.75555555555556 4020.608124684799\n",
      "-266.15000000000003 4455.843628339198\n",
      "-1402.8166666666666 3847.515072038399\n",
      "-1137.327777777778 6444.862459276799\n",
      "-539.7777777777778 5669.858268288\n",
      "-1078.177777777778 6353.827316838399\n",
      "-215.20555555555558 4239.000378559998\n",
      "-645.4055555555556 4743.335751180799\n"
     ]
    },
    {
     "name": "stdout",
     "output_type": "stream",
     "text": [
      "-873.1388888888889 4293.702774873599\n",
      "-1166.4722222222226 2964.963517785599\n",
      "-1121.2111111111112 4397.4069544576\n",
      "-843.9555555555556 4760.060641791999\n",
      "-1052.3333333333335 4934.296134041599\n",
      "-129.8722222222222 5143.490149542399\n",
      "-939.1055555555557 3736.620236121599\n",
      "-909.3333333333336 5147.6673817728\n",
      "-912.2833333333333 5580.544231142399\n",
      "-272.5277777777778 1788.534206003199\n",
      "-394.12222222222226 2350.200125567999\n",
      "-272.87777777777785 5262.2382568832\n",
      "-660.4833333333333 3719.3689667455988\n",
      "-702.6166666666666 5172.1012217856\n",
      "-343.5 4292.690138137599\n",
      "-1204.7055555555557 3709.105181427199\n",
      "-472.15000000000003 4023.377068012802\n",
      "-1205.8166666666666 3156.084688710401\n",
      "-799.3777777777777 5902.0770895488\n",
      "-802.0500000000001 4256.7115421504\n",
      "-643.1666666666667 2807.7474904384003\n",
      "-313.23333333333335 4493.274354646401\n",
      "-1131.1666666666665 4764.530322316801\n",
      "-1012.538888888889 5908.712442995201\n",
      "-986.2555555555558 4497.749968870402\n",
      "-775.6277777777776 6355.8603395456\n",
      "-1062.8055555555557 2871.1046800960003\n",
      "-935.5611111111112 5452.556382656001\n",
      "-869.6277777777779 4938.4837447296\n",
      "-230.57777777777778 4523.8544408544\n",
      "-219.23333333333335 5000.951289987201\n",
      "-241.2111111111111 3050.2507382816016\n",
      "-741.1555555555556 2552.7052900128\n",
      "-109.81111111111116 4001.9860981888005\n",
      "-43.99444444444448 3192.3122318144005\n",
      "10.8055555555555 1784.7346693280012\n",
      "-868.4777777777778 4360.832772752\n",
      "-878.6666666666667 4813.967339558401\n",
      "10.988888888888894 3802.4652210336003\n",
      "-854.6722222222224 4585.665404217601\n",
      "-230.29444444444442 4322.572330944002\n",
      "105.68888888888885 3463.5279365536007\n",
      "145.82777777777778 1989.3682684640012\n",
      "235.89999999999998 4189.163999046401\n",
      "66.4722222222222 3633.96329\n",
      "-275.4444444444445 5449.662516281601\n",
      "134.7277777777778 1691.8817349472\n",
      "130.62777777777774 2093.1698273439993\n",
      "10.883333333333326 3029.2847195487993\n",
      "-50.9666666666667 2356.0115159872003\n",
      "270.3277777777778 4540.132120415999\n",
      "158.26666666666662 1451.5899524640004\n",
      "172.04999999999998 2637.726248422401\n",
      "166.72222222222223 2225.332311704\n",
      "143.65555555555557 3698.8656194528\n",
      "188.1333333333333 2929.367353331199\n",
      "-26.22222222222223 2545.5391810496\n",
      "81.11111111111111 3332.6348689711995\n",
      "75.44444444444443 422.798340336\n",
      "45.55555555555556 943.2897058320003\n",
      "337.3833333333333 259.2979859087998\n",
      "354.04999999999995 1265.8131143983996\n",
      "365.4944444444444 2015.3982185856007\n",
      "279.93888888888887 1848.108368008\n",
      "269.06111111111113 2242.993857902399\n",
      "266.5611111111111 2549.8624784512\n",
      "180.16111111111113 2168.7648829264\n",
      "211.95555555555552 2762.5831803280007\n",
      "223.91666666666663 1315.8545807119995\n",
      "310.97777777777776 1036.6338788352\n",
      "321.9777777777778 3143.855216420799\n",
      "310.0833333333333 530.9070164672002\n",
      "255.67222222222222 2519.6430934656\n",
      "288.4888888888889 3598.5609113200003\n",
      "251.85555555555555 299.00445222240035\n",
      "208.9111111111111 1790.4847474591998\n",
      "267.39444444444445 2267.772777296\n",
      "369.49444444444447 1318.3472908735996\n",
      "331.66666666666663 374.7977777855999\n",
      "278.8277777777778 265.6286782592001\n",
      "315.30555555555554 964.4379347583998\n",
      "227.86111111111111 642.0242069823997\n",
      "270.81111111111113 1285.7619701375997\n",
      "490.7055555555555 601.8094193471998\n",
      "448.43333333333334 917.0856847808002\n",
      "309.7888888888889 850.427153824\n",
      "343.74444444444447 965.3887113152\n",
      "305.15 702.5114569599996\n",
      "262.89444444444445 905.9428463104001\n",
      "276.46666666666664 787.9603839679996\n",
      "303.2055555555556 258.34758534399964\n",
      "438.25 598.7527578623999\n",
      "354.1 467.2885344192001\n",
      "333.0 335.12731320959983\n",
      "344.2222222222222 416.3857600959999\n",
      "351.55555555555554 443.15481539839993\n",
      "353.1111111111111 647.1327180159999\n",
      "343.22222222222223 63.92146812799956\n",
      "341.77777777777777 -197.7089566016001\n",
      "336.77777777777777 -207.91700305920028\n",
      "340.33333333333337 1133.8452887295998\n",
      "332.29999999999995 743.0218573887998\n",
      "334.26666666666665 -377.0120074368006\n",
      "349.7777777777777 -38.926810617600495\n",
      "342.77777777777777 395.6840786880001\n",
      "425.2833333333333 1059.6307489279998\n",
      "329.6333333333333 241.74235305600007\n",
      "326.3777777777778 -1215.0997466848005\n",
      "281.4888888888889 -923.7686431072002\n",
      "239.92777777777775 -151.67356639360094\n",
      "249.73888888888888 -801.8715875968005\n",
      "313.18888888888887 106.19147795199945\n",
      "325.8 1573.2585915679997\n",
      "310.4888888888889 409.43870549759947\n",
      "324.50555555555553 605.0899589375996\n",
      "323.72222222222223 -247.6104720416007\n",
      "250.61111111111111 841.1856980543995\n",
      "253.39444444444445 483.15594323839946\n",
      "291.2 193.6503216159996\n",
      "334.2944444444445 1063.2958598943997\n",
      "317.6111111111111 399.8059006751994\n",
      "315.81111111111113 -153.5310816864005\n",
      "302.5111111111111 344.3807184447995\n",
      "229.3888888888889 -160.5060289280009\n",
      "233.82777777777778 -640.4714053664002\n",
      "316.1388888888889 403.22612546879975\n",
      "304.3 1012.2922835871996\n",
      "308.7055555555555 -268.9750973856006\n",
      "298.4277777777778 -329.5893480736008\n",
      "267.73333333333335 -178.93039711040058\n",
      "247.8 579.8561254687997\n",
      "234.13333333333333 1323.6087294527997\n",
      "241.5 806.3776138975996\n",
      "217.2111111111111 94.83589889279926\n",
      "219.9111111111111 1012.2752808351995\n",
      "216.35555555555555 1475.3049181567997\n",
      "207.2111111111111 1065.3711374463996\n",
      "240.0 1267.7213844127998\n"
     ]
    }
   ],
   "source": [
    "## initialises the daily cost vectors ##\n",
    "SMART_cost = np.zeros(365)\n",
    "SMART_profit = np.zeros(365)\n",
    "_import_ = np.zeros(24*365)\n",
    "_export_ = np.zeros(24*365)\n",
    "solar_prediction = pd.read_csv('Data/solarprediction.csv')\n",
    "# starting_soc = np.zeros(365)\n",
    "starting_soc = np.zeros(366)\n",
    "\n",
    "\n",
    "for n in range(0, 365):\n",
    "\n",
    "    ## loads in the data ##\n",
    "\n",
    "    daywanted = n+1\n",
    "    datewanted = Date.getdatewanted(daywanted, 2014)\n",
    "    totaldemand = Demand.gettotaldemand(daywanted)\n",
    "    solarsupply = Solar.getsolarsupply(daywanted)\n",
    "    buyprice = Price.getvariablebuyprice(daywanted)\n",
    "    sellprice = Price.getvariablesellprice(daywanted)\n",
    "    bigdata =pd.concat([totaldemand, solarsupply, buyprice, sellprice], axis=1)\n",
    "    bigdata['Net Demand'] = bigdata['Total Demand (kWh)']-bigdata['Total Supply (kWh)']\n",
    "    bigdata['Running Cost'] = bigdata['Grid Buy Price']*bigdata['Net Demand']\n",
    "    bigdata['Running Cost'] = bigdata['Running Cost'].clip(lower=0)\n",
    "    bigdata['Running Profit'] = -bigdata['Grid Sell Price']*bigdata['Net Demand']\n",
    "    bigdata['Running Profit'] = bigdata['Running Profit'].clip(lower=0)\n",
    "\n",
    "    ## runs the battery for that day ##\n",
    "    \n",
    "    bigdata = run_SMART(bigdata, daywanted, starting_soc)\n",
    "\n",
    "    ## adds the day into the year vector ##\n",
    "\n",
    " \n",
    "    SMART_cost[n] = bigdata['Running Cost - SMART'].sum()\n",
    "    SMART_profit[n] = bigdata['Running Profit - SMART'].sum()\n",
    "    \n",
    "#     _import_[n] = bigdata['Net Demand - SMART'].clip(lower=0).sum()\n",
    "#     temp = bigdata['Net Demand - SMART']*(-1)\n",
    "#     _export_[n] = temp.clip(lower=0).sum()\n",
    "    \n",
    "    ## adds the day into the year vector ##\n",
    "\n",
    "    for q in range(24):\n",
    "    \n",
    "        if bigdata['Net Demand - SMART'][q] < 0:\n",
    "            _export_[n*24+q] = bigdata['Net Demand - SMART'][q]*-1\n",
    "            \n",
    "        if bigdata['Net Demand - SMART'][q] > 0:\n",
    "            _import_[n*24+q] = bigdata['Net Demand - SMART'][q]\n"
   ]
  },
  {
   "cell_type": "code",
   "execution_count": 7,
   "metadata": {},
   "outputs": [
    {
     "data": {
      "text/plain": [
       "9306.86912602327"
      ]
     },
     "execution_count": 7,
     "metadata": {},
     "output_type": "execute_result"
    }
   ],
   "source": [
    "SMART_cost.sum()"
   ]
  },
  {
   "cell_type": "code",
   "execution_count": 8,
   "metadata": {},
   "outputs": [
    {
     "data": {
      "text/plain": [
       "80755.0594082926"
      ]
     },
     "execution_count": 8,
     "metadata": {},
     "output_type": "execute_result"
    }
   ],
   "source": [
    "SMART_profit.sum()"
   ]
  },
  {
   "cell_type": "code",
   "execution_count": 9,
   "metadata": {},
   "outputs": [
    {
     "data": {
      "text/plain": [
       "71448.19028226932"
      ]
     },
     "execution_count": 9,
     "metadata": {},
     "output_type": "execute_result"
    }
   ],
   "source": [
    "SMART_profit.sum()-SMART_cost.sum()"
   ]
  },
  {
   "cell_type": "code",
   "execution_count": 10,
   "metadata": {},
   "outputs": [
    {
     "data": {
      "text/plain": [
       "94286.01417433684"
      ]
     },
     "execution_count": 10,
     "metadata": {},
     "output_type": "execute_result"
    }
   ],
   "source": [
    "_import_.sum()"
   ]
  },
  {
   "cell_type": "code",
   "execution_count": 11,
   "metadata": {},
   "outputs": [
    {
     "data": {
      "text/plain": [
       "1163387.6860379062"
      ]
     },
     "execution_count": 11,
     "metadata": {},
     "output_type": "execute_result"
    }
   ],
   "source": [
    "_export_.sum()"
   ]
  },
  {
   "cell_type": "code",
   "execution_count": 12,
   "metadata": {},
   "outputs": [
    {
     "data": {
      "text/plain": [
       "1069101.6718635694"
      ]
     },
     "execution_count": 12,
     "metadata": {},
     "output_type": "execute_result"
    }
   ],
   "source": [
    "_export_.sum()-_import_.sum()"
   ]
  },
  {
   "cell_type": "code",
   "execution_count": 13,
   "metadata": {},
   "outputs": [
    {
     "data": {
      "text/plain": [
       "[<matplotlib.lines.Line2D at 0x1231526d0>]"
      ]
     },
     "execution_count": 13,
     "metadata": {},
     "output_type": "execute_result"
    },
    {
     "data": {
      "image/png": "[encoded data removed]",
      "text/plain": [
       "<Figure size 1800x504 with 2 Axes>"
      ]
     },
     "metadata": {
      "needs_background": "light"
     },
     "output_type": "display_data"
    }
   ],
   "source": [
    "fig, ax = plt.subplots(2, figsize=[25,7])\n",
    "\n",
    "ax[0].plot(_import_)\n",
    "ax[1].plot(_export_)"
   ]
  },
  {
   "cell_type": "code",
   "execution_count": 14,
   "metadata": {},
   "outputs": [],
   "source": [
    "importing = pd.DataFrame(_import_)\n",
    "exporting = pd.DataFrame(_export_)\n",
    "exporting.to_csv('Export_vector.csv')\n",
    "importing.to_csv('Import_vector.csv')"
   ]
  },
  {
   "cell_type": "code",
   "execution_count": null,
   "metadata": {},
   "outputs": [],
   "source": []
  },
  {
   "cell_type": "code",
   "execution_count": null,
   "metadata": {},
   "outputs": [],
   "source": []
  },
  {
   "cell_type": "code",
   "execution_count": null,
   "metadata": {},
   "outputs": [],
   "source": []
  },
  {
   "cell_type": "code",
   "execution_count": 15,
   "metadata": {},
   "outputs": [
    {
     "ename": "TypeError",
     "evalue": "run_SMART() missing 1 required positional argument: 'starting_soc'",
     "output_type": "error",
     "traceback": [
      "\u001b[0;31m---------------------------------------------------------------------------\u001b[0m",
      "\u001b[0;31mTypeError\u001b[0m                                 Traceback (most recent call last)",
      "\u001b[0;32m<ipython-input-15-ec63e435bf8d>\u001b[0m in \u001b[0;36m<module>\u001b[0;34m\u001b[0m\n\u001b[1;32m     14\u001b[0m \u001b[0;31m## runs the battery for that day ##\u001b[0m\u001b[0;34m\u001b[0m\u001b[0;34m\u001b[0m\u001b[0;34m\u001b[0m\u001b[0m\n\u001b[1;32m     15\u001b[0m \u001b[0;34m\u001b[0m\u001b[0m\n\u001b[0;32m---> 16\u001b[0;31m \u001b[0mbigdata\u001b[0m \u001b[0;34m=\u001b[0m \u001b[0mrun_SMART\u001b[0m\u001b[0;34m(\u001b[0m\u001b[0mbigdata\u001b[0m\u001b[0;34m,\u001b[0m \u001b[0mdaywanted\u001b[0m\u001b[0;34m)\u001b[0m\u001b[0;34m\u001b[0m\u001b[0;34m\u001b[0m\u001b[0m\n\u001b[0m",
      "\u001b[0;31mTypeError\u001b[0m: run_SMART() missing 1 required positional argument: 'starting_soc'"
     ]
    }
   ],
   "source": [
    "daywanted = 361\n",
    "datewanted = Date.getdatewanted(daywanted, 2014)\n",
    "totaldemand = Demand.gettotaldemand(daywanted)\n",
    "solarsupply = Solar.getsolarsupply(daywanted)\n",
    "buyprice = Price.getvariablebuyprice(daywanted)\n",
    "sellprice = Price.getvariablesellprice(daywanted)\n",
    "bigdata =pd.concat([totaldemand, solarsupply, buyprice, sellprice], axis=1)\n",
    "bigdata['Net Demand'] = bigdata['Total Demand (kWh)']-bigdata['Total Supply (kWh)']\n",
    "bigdata['Running Cost'] = bigdata['Grid Buy Price']*bigdata['Net Demand']\n",
    "bigdata['Running Cost'] = bigdata['Running Cost'].clip(lower=0)\n",
    "bigdata['Running Profit'] = -bigdata['Grid Sell Price']*bigdata['Net Demand']\n",
    "bigdata['Running Profit'] = bigdata['Running Profit'].clip(lower=0)\n",
    "\n",
    "## runs the battery for that day ##\n",
    "\n",
    "bigdata = run_SMART(bigdata, daywanted)"
   ]
  },
  {
   "cell_type": "code",
   "execution_count": null,
   "metadata": {},
   "outputs": [],
   "source": [
    "bigdata"
   ]
  },
  {
   "cell_type": "code",
   "execution_count": null,
   "metadata": {},
   "outputs": [],
   "source": [
    "0.9**2"
   ]
  },
  {
   "cell_type": "code",
   "execution_count": null,
   "metadata": {},
   "outputs": [],
   "source": []
  }
 ],
 "metadata": {
  "kernelspec": {
   "display_name": "Python 3",
   "language": "python",
   "name": "python3"
  },
  "language_info": {
   "codemirror_mode": {
    "name": "ipython",
    "version": 3
   },
   "file_extension": ".py",
   "mimetype": "text/x-python",
   "name": "python",
   "nbconvert_exporter": "python",
   "pygments_lexer": "ipython3",
   "version": "3.7.4"
  }
 },
 "nbformat": 4,
 "nbformat_minor": 4
}
