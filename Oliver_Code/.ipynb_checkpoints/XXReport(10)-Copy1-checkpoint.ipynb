{
 "cells": [
  {
   "cell_type": "code",
   "execution_count": 1,
   "metadata": {},
   "outputs": [],
   "source": [
    "import pandas as pd\n",
    "import matplotlib.pyplot as plt\n",
    "import numpy as np\n",
    "import Demand\n",
    "import Solar\n",
    "import Price\n",
    "import Date"
   ]
  },
  {
   "cell_type": "code",
   "execution_count": 3,
   "metadata": {},
   "outputs": [],
   "source": [
    "## method to run the battery ##\n",
    "\n",
    "def run_battery(bigdata):\n",
    "    \n",
    "    batteryoutput = np.zeros(24)\n",
    "    soc = np.ones(24)*0\n",
    "    capacity = 750\n",
    "    power = 420\n",
    "    eff = 0.9\n",
    "\n",
    "\n",
    "    for n in range(0,24):\n",
    "        if n == 0:\n",
    "            soc_temp = 0\n",
    "        else:\n",
    "            soc_temp = soc[n-1]\n",
    "\n",
    "        if bigdata['Net Demand'][n] > 0:   #using the battery\n",
    "            batteryoutput[n] = min(bigdata['Net Demand'][n], soc_temp*eff, power)\n",
    "            soc[n] = soc_temp - batteryoutput[n]*(1/eff)\n",
    "\n",
    "        elif bigdata['Net Demand'][n] < 0:     # charge the battery, NOTE NET DEMAND = -VE\n",
    "            batteryoutput[n] = max(bigdata['Net Demand'][n], -(1/eff)*(capacity - soc_temp), -power)\n",
    "            soc[n] = soc_temp - batteryoutput[n]*(eff)\n",
    "\n",
    "        elif bigdata['Net Demand'][n] == 0:      # do nothing\n",
    "            soc[n] = soc_temp\n",
    "\n",
    "\n",
    "    ## adds the battery output to total demand and adds to bigdata ##\n",
    "\n",
    "    bigdata['Net Demand - battery'] = bigdata['Net Demand']-batteryoutput\n",
    "    bigdata['Running Cost - battery'] = bigdata['Net Demand - battery']*bigdata['Grid Buy Price']\n",
    "    bigdata['Running Cost - battery'] = bigdata['Running Cost - battery'].clip(lower=0)\n",
    "    bigdata['Running Profit - battery'] = -bigdata['Net Demand - battery']*bigdata['Grid Sell Price']\n",
    "    bigdata['Running Profit - battery'] = bigdata['Running Profit - battery'].clip(lower=0)\n",
    "    bigdata['soc - battery'] = soc\n",
    "    bigdata['battery output - battery'] = batteryoutput\n",
    "    \n",
    "    #bigdata = bigdata.round(3)\n",
    "    ## returns the new bigdata ##\n",
    "    \n",
    "    return bigdata"
   ]
  },
  {
   "cell_type": "code",
   "execution_count": 19,
   "metadata": {},
   "outputs": [],
   "source": [
    "## initialises the daily cost vectors ##\n",
    "yes_battery_cost = np.zeros(365)\n",
    "yes_battery_profit = np.zeros(365)\n",
    "_import_ = np.zeros(365)\n",
    "_export_ = np.zeros(365)\n",
    "\n",
    "for n in range(0, 365):\n",
    "\n",
    "    ## loads in the data ##\n",
    "\n",
    "    daywanted = n+1\n",
    "    datewanted = Date.getdatewanted(daywanted)\n",
    "    totaldemand = Demand.gettotaldemand(daywanted)\n",
    "    solarsupply = Solar.getsolarsupply(daywanted)\n",
    "    buyprice = Price.getconstantbuyprice(daywanted)\n",
    "    sellprice = Price.getconstantsellprice(daywanted)\n",
    "    bigdata =pd.concat([totaldemand, solarsupply, buyprice, sellprice], axis=1)\n",
    "    bigdata['Net Demand'] = bigdata['Total Demand (kWh)']-bigdata['Total Supply (kWh)']\n",
    "    bigdata['Running Cost'] = bigdata['Grid Buy Price']*bigdata['Net Demand']\n",
    "    bigdata['Running Cost'] = bigdata['Running Cost'].clip(lower=0)\n",
    "    bigdata['Running Profit'] = -bigdata['Grid Sell Price']*bigdata['Net Demand']\n",
    "    bigdata['Running Profit'] = bigdata['Running Profit'].clip(lower=0)\n",
    "\n",
    "    ## runs the battery for that day ##\n",
    "\n",
    "    bigdata = run_battery(bigdata)\n",
    "\n",
    "    ## adds the day into the year vector ##\n",
    "\n",
    " \n",
    "    yes_battery_cost[n] = bigdata['Running Cost - battery'].sum()\n",
    "    yes_battery_profit[n] = bigdata['Running Profit - battery'].sum()\n",
    "    \n",
    "    _import_[n] = bigdata['Net Demand - battery'].clip(lower=0).sum()\n",
    "    temp = bigdata['Net Demand - battery']*(-1)\n",
    "    _export_[n] = temp.clip(lower=0).sum()\n"
   ]
  },
  {
   "cell_type": "code",
   "execution_count": 20,
   "metadata": {},
   "outputs": [
    {
     "data": {
      "text/plain": [
       "29167.929957600005"
      ]
     },
     "execution_count": 20,
     "metadata": {},
     "output_type": "execute_result"
    }
   ],
   "source": [
    "yes_battery_cost.sum()"
   ]
  },
  {
   "cell_type": "code",
   "execution_count": 21,
   "metadata": {},
   "outputs": [
    {
     "data": {
      "text/plain": [
       "67416.66873333334"
      ]
     },
     "execution_count": 21,
     "metadata": {},
     "output_type": "execute_result"
    }
   ],
   "source": [
    "yes_battery_profit.sum()"
   ]
  },
  {
   "cell_type": "code",
   "execution_count": 22,
   "metadata": {},
   "outputs": [
    {
     "data": {
      "text/plain": [
       "38248.738775733334"
      ]
     },
     "execution_count": 22,
     "metadata": {},
     "output_type": "execute_result"
    }
   ],
   "source": [
    "yes_battery_profit.sum()-yes_battery_cost.sum()"
   ]
  },
  {
   "cell_type": "code",
   "execution_count": 23,
   "metadata": {},
   "outputs": [
    {
     "data": {
      "text/plain": [
       "202555.06915000002"
      ]
     },
     "execution_count": 23,
     "metadata": {},
     "output_type": "execute_result"
    }
   ],
   "source": [
    "_import_.sum()"
   ]
  },
  {
   "cell_type": "code",
   "execution_count": 24,
   "metadata": {},
   "outputs": [
    {
     "data": {
      "text/plain": [
       "1225757.6133333333"
      ]
     },
     "execution_count": 24,
     "metadata": {},
     "output_type": "execute_result"
    }
   ],
   "source": [
    "_export_.sum()"
   ]
  },
  {
   "cell_type": "code",
   "execution_count": 25,
   "metadata": {},
   "outputs": [
    {
     "data": {
      "text/plain": [
       "1023202.5441833333"
      ]
     },
     "execution_count": 25,
     "metadata": {},
     "output_type": "execute_result"
    }
   ],
   "source": [
    "_export_.sum()-_import_.sum()"
   ]
  },
  {
   "cell_type": "code",
   "execution_count": null,
   "metadata": {},
   "outputs": [],
   "source": []
  }
 ],
 "metadata": {
  "kernelspec": {
   "display_name": "Python 3",
   "language": "python",
   "name": "python3"
  },
  "language_info": {
   "codemirror_mode": {
    "name": "ipython",
    "version": 3
   },
   "file_extension": ".py",
   "mimetype": "text/x-python",
   "name": "python",
   "nbconvert_exporter": "python",
   "pygments_lexer": "ipython3",
   "version": "3.7.4"
  }
 },
 "nbformat": 4,
 "nbformat_minor": 4
}
