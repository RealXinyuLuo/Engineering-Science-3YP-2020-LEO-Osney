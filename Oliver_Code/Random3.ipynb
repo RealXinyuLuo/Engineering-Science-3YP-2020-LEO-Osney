{
 "cells": [
  {
   "cell_type": "code",
   "execution_count": 1,
   "metadata": {},
   "outputs": [],
   "source": [
    "import datetime\n",
    "import Date\n",
    "import pandas as pd\n",
    "import numpy as np\n",
    "import Forecast\n",
    "import Date\n",
    "import Demand\n",
    "import requests\n",
    "import matplotlib.pyplot as plt\n",
    "import Price"
   ]
  },
  {
   "cell_type": "code",
   "execution_count": 2,
   "metadata": {},
   "outputs": [],
   "source": [
    "gaheat = np.zeros(365)\n",
    "gacool = np.zeros(365)\n",
    "tesaheat = np.zeros(365)\n",
    "tesacool = np.zeros(365)\n",
    "\n",
    "\n",
    "for n in range(365):\n",
    "    daywanted = n+1\n",
    "\n",
    "    gaheat[n] = Demand.GA_HEAT(daywanted).sum()[0]\n",
    "    gacool[n] = Demand.GA_COOL(daywanted).sum()[0]\n",
    "    tesaheat[n] = Demand.TESA_HEAT(daywanted).sum()[0]\n",
    "    tesacool[n] = Demand.TESA_COOL(daywanted).sum()[0]"
   ]
  },
  {
   "cell_type": "code",
   "execution_count": 3,
   "metadata": {},
   "outputs": [
    {
     "name": "stdout",
     "output_type": "stream",
     "text": [
      "135198.75158333333 185056.87437499996 54985.470261574075 403318.0708773148\n"
     ]
    }
   ],
   "source": [
    "print(gaheat.sum(),gacool.sum(),tesaheat.sum(),tesacool.sum())"
   ]
  },
  {
   "cell_type": "code",
   "execution_count": 5,
   "metadata": {},
   "outputs": [
    {
     "data": {
      "text/plain": [
       "778559.1670972221"
      ]
     },
     "execution_count": 5,
     "metadata": {},
     "output_type": "execute_result"
    }
   ],
   "source": [
    "gaheat.sum()+gacool.sum()+tesaheat.sum()+tesacool.sum()"
   ]
  },
  {
   "cell_type": "code",
   "execution_count": 6,
   "metadata": {},
   "outputs": [
    {
     "data": {
      "text/plain": [
       "190184.2218449074"
      ]
     },
     "execution_count": 6,
     "metadata": {},
     "output_type": "execute_result"
    }
   ],
   "source": [
    "gaheat.sum()+tesaheat.sum()"
   ]
  },
  {
   "cell_type": "code",
   "execution_count": 7,
   "metadata": {},
   "outputs": [
    {
     "data": {
      "text/plain": [
       "588374.9452523147"
      ]
     },
     "execution_count": 7,
     "metadata": {},
     "output_type": "execute_result"
    }
   ],
   "source": [
    "gacool.sum()+tesacool.sum()"
   ]
  },
  {
   "cell_type": "code",
   "execution_count": null,
   "metadata": {},
   "outputs": [],
   "source": []
  }
 ],
 "metadata": {
  "kernelspec": {
   "display_name": "Python 3",
   "language": "python",
   "name": "python3"
  },
  "language_info": {
   "codemirror_mode": {
    "name": "ipython",
    "version": 3
   },
   "file_extension": ".py",
   "mimetype": "text/x-python",
   "name": "python",
   "nbconvert_exporter": "python",
   "pygments_lexer": "ipython3",
   "version": "3.7.4"
  }
 },
 "nbformat": 4,
 "nbformat_minor": 4
}
