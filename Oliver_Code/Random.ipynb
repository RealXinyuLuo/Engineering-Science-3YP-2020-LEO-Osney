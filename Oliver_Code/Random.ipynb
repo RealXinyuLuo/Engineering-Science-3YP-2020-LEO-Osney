{
 "cells": [
  {
   "cell_type": "code",
   "execution_count": 1,
   "metadata": {},
   "outputs": [],
   "source": [
    "import datetime\n",
    "import Date\n",
    "import pandas as pd\n",
    "import numpy as np\n",
    "import Forecast\n",
    "import Date\n",
    "import Demand\n",
    "import requests\n",
    "import matplotlib.pyplot as plt\n",
    "import Price"
   ]
  },
  {
   "cell_type": "code",
   "execution_count": 60,
   "metadata": {},
   "outputs": [
    {
     "data": {
      "text/plain": [
       "Text(0.5, 1.0, 'TESA Electricity Demand 17/01/2018')"
      ]
     },
     "execution_count": 60,
     "metadata": {},
     "output_type": "execute_result"
    },
    {
     "data": {
      "image/png": "[encoded data removed]",
      "text/plain": [
       "<Figure size 504x504 with 1 Axes>"
      ]
     },
     "metadata": {
      "needs_background": "light"
     },
     "output_type": "display_data"
    }
   ],
   "source": [
    "\n",
    "x = [0,1,2,3,4,5,6,7,8,9,10,11,12,13,14,15,16,17,18,19,20,21,22,23,24]\n",
    "\n",
    "daywanted = 17\n",
    "\n",
    "tesa = Demand.getTESAdemand(daywanted)\n",
    "tesa.drop('00:00.1',axis=0)\n",
    "tesa = np.array(tesa)\n",
    "\n",
    "ga = Demand.getGAdemand(daywanted)\n",
    "ga.drop('00:00.1',axis=0)\n",
    "ga = np.array(ga)\n",
    "\n",
    "\n",
    "fig, ax = plt.subplots(figsize=[7,7])\n",
    "\n",
    "ax.step(x, tesa, label='TESA')#, color='crimson')\n",
    "ax.set_ylim(0,100)\n",
    "ax.set_xlabel('Time throughout the day', fontsize=15)\n",
    "ax.set_ylabel('(kW)',fontsize=15)\n",
    "ax.set_xticks((0,4,8,12,16,20,24))\n",
    "ax.set_xticklabels(('00:00','04:00','08:00','12:00','16:00','20:00','24:00'))\n",
    "ax.grid()\n",
    "ax.legend()\n",
    "ax.set_title('TESA Electricity Demand 17/01/2018',fontsize=15)"
   ]
  },
  {
   "cell_type": "code",
   "execution_count": 55,
   "metadata": {},
   "outputs": [],
   "source": [
    "tesa = Demand.getTESAdemand(daywanted)\n",
    "tesa.drop('00:00.1',axis=0)\n",
    "tesa = np.array(tesa)"
   ]
  },
  {
   "cell_type": "code",
   "execution_count": 56,
   "metadata": {},
   "outputs": [
    {
     "data": {
      "text/plain": [
       "array([[47.965],\n",
       "       [47.965],\n",
       "       [47.06 ],\n",
       "       [47.06 ],\n",
       "       [46.155],\n",
       "       [47.965],\n",
       "       [47.965],\n",
       "       [47.06 ],\n",
       "       [48.87 ],\n",
       "       [66.065],\n",
       "       [76.02 ],\n",
       "       [81.45 ],\n",
       "       [79.64 ],\n",
       "       [78.735],\n",
       "       [78.735],\n",
       "       [82.355],\n",
       "       [78.735],\n",
       "       [71.495],\n",
       "       [66.065],\n",
       "       [52.49 ],\n",
       "       [47.965],\n",
       "       [47.965],\n",
       "       [48.87 ],\n",
       "       [48.87 ],\n",
       "       [47.965]])"
      ]
     },
     "execution_count": 56,
     "metadata": {},
     "output_type": "execute_result"
    }
   ],
   "source": [
    "tesa"
   ]
  },
  {
   "cell_type": "code",
   "execution_count": null,
   "metadata": {},
   "outputs": [],
   "source": []
  }
 ],
 "metadata": {
  "kernelspec": {
   "display_name": "Python 3",
   "language": "python",
   "name": "python3"
  },
  "language_info": {
   "codemirror_mode": {
    "name": "ipython",
    "version": 3
   },
   "file_extension": ".py",
   "mimetype": "text/x-python",
   "name": "python",
   "nbconvert_exporter": "python",
   "pygments_lexer": "ipython3",
   "version": "3.7.4"
  }
 },
 "nbformat": 4,
 "nbformat_minor": 4
}
