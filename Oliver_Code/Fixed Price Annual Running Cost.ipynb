{
 "cells": [
  {
   "cell_type": "code",
   "execution_count": 1,
   "metadata": {},
   "outputs": [],
   "source": [
    "import pandas as pd\n",
    "import matplotlib.pyplot as plt\n",
    "import datetime\n",
    "import Demand\n",
    "import Solar\n",
    "import Price"
   ]
  },
  {
   "cell_type": "code",
   "execution_count": 2,
   "metadata": {},
   "outputs": [],
   "source": [
    "def getrunningcost(datewanted):\n",
    "    \n",
    "    daywanted = Demand.getdaywanted(datewanted)\n",
    "    \n",
    "    totaldemand = Demand.gettotaldemand(daywanted)\n",
    "    \n",
    "    solarsupply = Solar.getsolarsupply(daywanted)\n",
    "    \n",
    "    price = Price.getconstantsellprice()\n",
    "    \n",
    "    bigdata =pd.concat([totaldemand, solarsupply, price], axis=1)\n",
    "    \n",
    "    bigdata['Net Demand'] = bigdata['Total Demand (kWh)']-bigdata['Total Supply (kWh)']\n",
    "    \n",
    "    bigdata['Running Cost (£)'] = bigdata['Grid Price']*bigdata['Net Demand']\n",
    "    \n",
    "    bigdata['Running Cost (£)'] = bigdata['Running Cost (£)'].clip(lower=0)\n",
    "    \n",
    "    runningcost = bigdata['Running Cost (£)'].sum()\n",
    "    \n",
    "    return runningcost"
   ]
  },
  {
   "cell_type": "code",
   "execution_count": 3,
   "metadata": {},
   "outputs": [],
   "source": [
    "def createdate(n):\n",
    "    \n",
    "    dt = datetime.datetime(2019,1,1)\n",
    "    \n",
    "    dtdelta = datetime.timedelta(days=(n-1))\n",
    "    \n",
    "    hello = dt + dtdelta\n",
    "    \n",
    "    string = hello.strftime(\"%m/%d/%Y\")\n",
    "    \n",
    "    return string"
   ]
  },
  {
   "cell_type": "code",
   "execution_count": 4,
   "metadata": {},
   "outputs": [
    {
     "name": "stdout",
     "output_type": "stream",
     "text": [
      "£ 44849.91423640001\n"
     ]
    }
   ],
   "source": [
    "cost = 0\n",
    "\n",
    "for n in range (0, 366):\n",
    "    datewanted = createdate(n)\n",
    "    cost = cost + getrunningcost(datewanted)\n",
    "    \n",
    "print(\"£\",cost)"
   ]
  },
  {
   "cell_type": "code",
   "execution_count": null,
   "metadata": {},
   "outputs": [],
   "source": []
  }
 ],
 "metadata": {
  "kernelspec": {
   "display_name": "Python 3",
   "language": "python",
   "name": "python3"
  },
  "language_info": {
   "codemirror_mode": {
    "name": "ipython",
    "version": 3
   },
   "file_extension": ".py",
   "mimetype": "text/x-python",
   "name": "python",
   "nbconvert_exporter": "python",
   "pygments_lexer": "ipython3",
   "version": "3.7.4"
  }
 },
 "nbformat": 4,
 "nbformat_minor": 4
}
