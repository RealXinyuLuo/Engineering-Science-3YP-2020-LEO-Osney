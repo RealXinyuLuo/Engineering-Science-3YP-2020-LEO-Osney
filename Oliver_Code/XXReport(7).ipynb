{
 "cells": [
  {
   "cell_type": "code",
   "execution_count": 1,
   "metadata": {},
   "outputs": [],
   "source": [
    "import pandas as pd\n",
    "import matplotlib.pyplot as plt\n",
    "import numpy as np\n",
    "import Demand\n",
    "import Solar\n",
    "import Price\n",
    "import Date"
   ]
  },
  {
   "cell_type": "code",
   "execution_count": 2,
   "metadata": {},
   "outputs": [],
   "source": [
    "daywanted = 1\n",
    "datewanted1 = Date.getdatewanted(daywanted,2014)\n",
    "totaldemand = Demand.gettotaldemand(daywanted)\n",
    "solarsupply = Solar.getsolarsupply(daywanted)\n",
    "bigdata = pd.concat([totaldemand, solarsupply], axis=1)\n",
    "bigdata['Net Demand'] = bigdata['Total Demand (kWh)']-bigdata['Total Supply (kWh)']\n",
    "\n",
    "daywanted = 90\n",
    "datewanted2 = Date.getdatewanted(daywanted,2014)\n",
    "totaldemand = Demand.gettotaldemand(daywanted)\n",
    "solarsupply = Solar.getsolarsupply(daywanted)\n",
    "bigdata100 = pd.concat([totaldemand, solarsupply], axis=1)\n",
    "bigdata100['Net Demand'] = bigdata100['Total Demand (kWh)']-bigdata100['Total Supply (kWh)']\n",
    "\n",
    "daywanted = 180\n",
    "datewanted3 = Date.getdatewanted(daywanted,2014)\n",
    "totaldemand = Demand.gettotaldemand(daywanted)\n",
    "solarsupply = Solar.getsolarsupply(daywanted)\n",
    "bigdata200 = pd.concat([totaldemand, solarsupply], axis=1)\n",
    "bigdata200['Net Demand'] = bigdata200['Total Demand (kWh)']-bigdata200['Total Supply (kWh)']"
   ]
  },
  {
   "cell_type": "code",
   "execution_count": 3,
   "metadata": {},
   "outputs": [],
   "source": [
    "bigdata.loc[24] = bigdata.iloc[23][0]\n",
    "bigdata.rename(index={24:'24:00'}, inplace=True)\n",
    "\n",
    "bigdata100.loc[24] = bigdata.iloc[23][0]\n",
    "bigdata100.rename(index={24:'24:00'}, inplace=True)\n",
    "\n",
    "bigdata200.loc[24] = bigdata.iloc[23][0]\n",
    "bigdata200.rename(index={24:'24:00'}, inplace=True)"
   ]
  },
  {
   "cell_type": "code",
   "execution_count": 17,
   "metadata": {},
   "outputs": [
    {
     "data": {
      "text/plain": [
       "(-1100, 250)"
      ]
     },
     "execution_count": 17,
     "metadata": {},
     "output_type": "execute_result"
    },
    {
     "data": {
      "image/png": "[encoded data removed]",
      "text/plain": [
       "<Figure size 1080x288 with 3 Axes>"
      ]
     },
     "metadata": {
      "needs_background": "light"
     },
     "output_type": "display_data"
    }
   ],
   "source": [
    "x = [0,1,2,3,4,5,6,7,8,9,10,11,12,13,14,15,16,17,18,19,20,21,22,23,24]\n",
    "color1 = 'maroon'\n",
    "color2 = 'dodgerblue'\n",
    "\n",
    "fig, ax = plt.subplots(1,3,sharey=True, sharex=True,figsize=[15,4])\n",
    "\n",
    "ax[0].step(x, bigdata['Net Demand'], color=color1)\n",
    "ax[0].title.set_text('1\\u02E2\\u1D57 Jan')\n",
    "ax[0].set_xticks((0,3,6,9,12,15,18,21,24))\n",
    "ax[0].set_xticklabels(('00:00','','06:00','','12:00','','18:00','','24:00'))\n",
    "ax[0].set_xlabel('Time throughout the day',fontsize=13)\n",
    "ax[0].set_ylabel('kWh',fontsize=13)\n",
    "ax[0].spines['top'].set_visible(False)\n",
    "ax[0].spines['right'].set_visible(False)\n",
    "ax[0].grid(lw=0.5)\n",
    "\n",
    "ax[1].step(x, bigdata100['Net Demand'], color=color1)\n",
    "ax[1].title.set_text('31\\u02E2\\u1D57 March')\n",
    "ax[1].set_xticks((0,3,6,9,12,15,18,21,24))\n",
    "ax[1].set_xticklabels(('00:00','','06:00','','12:00','','18:00','','24:00'))\n",
    "ax[1].set_xlabel('Time throughout the day',fontsize=13)\n",
    "# ax[1].set_ylabel('(kWh)')\n",
    "ax[1].spines['top'].set_visible(False)\n",
    "ax[1].spines['right'].set_visible(False)\n",
    "ax[1].grid(lw=0.5)\n",
    "\n",
    "ax[2].step(x, bigdata200['Net Demand'], color=color1)\n",
    "ax[2].title.set_text('29\\u1D57\\u02B0 June')\n",
    "ax[2].set_xticks((0,3,6,9,12,15,18,21,24))\n",
    "ax[2].set_xticklabels(('00:00','','06:00','','12:00','','18:00','','24:00'))\n",
    "ax[2].set_xlabel('Time throughout the day',fontsize=13)\n",
    "# ax[2].set_ylabel('(kWh)')\n",
    "ax[2].spines['top'].set_visible(False)\n",
    "ax[2].spines['right'].set_visible(False)\n",
    "ax[2].grid(lw=0.5)\n",
    "ax[2].set_ylim(-1100,250)"
   ]
  },
  {
   "cell_type": "code",
   "execution_count": null,
   "metadata": {},
   "outputs": [],
   "source": []
  }
 ],
 "metadata": {
  "kernelspec": {
   "display_name": "Python 3",
   "language": "python",
   "name": "python3"
  },
  "language_info": {
   "codemirror_mode": {
    "name": "ipython",
    "version": 3
   },
   "file_extension": ".py",
   "mimetype": "text/x-python",
   "name": "python",
   "nbconvert_exporter": "python",
   "pygments_lexer": "ipython3",
   "version": "3.7.4"
  }
 },
 "nbformat": 4,
 "nbformat_minor": 4
}
