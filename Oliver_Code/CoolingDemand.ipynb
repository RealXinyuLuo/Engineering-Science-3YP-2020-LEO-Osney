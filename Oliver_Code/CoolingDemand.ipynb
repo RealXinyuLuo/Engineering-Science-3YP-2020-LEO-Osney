{
 "cells": [
  {
   "cell_type": "code",
   "execution_count": 1,
   "metadata": {},
   "outputs": [],
   "source": [
    "import pandas as pd\n",
    "import numpy as np\n",
    "import matplotlib.pyplot as plt\n",
    "import Forecast\n",
    "import Date"
   ]
  },
  {
   "cell_type": "code",
   "execution_count": 2,
   "metadata": {},
   "outputs": [],
   "source": [
    "## date in    %month / %day / %year    ##\n",
    "\n",
    "def getCOOLdemand(datewanted):\n",
    "    \n",
    "    [T, UV] = Forecast.forecastF(datewanted)\n",
    "    \n",
    "    T = pd.DataFrame(T)\n",
    "    \n",
    "    T.columns = ['Temp (°C)']\n",
    "    \n",
    "    T.rename(index={0:'00:00',1:'01:00',2:'02:00',3:'03:00',4:'04:00',5:'05:00',6:'06:00',7:'07:00',8:'08:00',9:'09:00',10:'10:00',11:'11:00',12:'12:00',13:'13:00',14:'14:00',15:'15:00',16:'16:00',17:'17:00',18:'18:00',19:'19:00',20:'20:00',21:'21:00',22:'22:00',23:'23:00'}, inplace=True)\n",
    "    \n",
    "    T['const'] = [22,22,22,22,22,22,22,22,22,22,22,22,22,22,22,22,22,22,22,22,22,22,22,22]\n",
    "    \n",
    "    T['diff'] = T['Temp (°C)']-T['const']\n",
    "    \n",
    "    T['Degree Days'] = T['diff']*(1/24)\n",
    "    \n",
    "    T['Cooling Demand (kWh)'] = T['Degree Days']*235.5\n",
    "    \n",
    "    ## including the internal heat sources\n",
    "    \n",
    "    T['Cooling Demand (kWh)'] = T['Cooling Demand (kWh)']+50\n",
    "    \n",
    "    ## including the internal heat sources\n",
    "    \n",
    "    T['Cooling Demand (kWh)'] = T['Cooling Demand (kWh)'].clip(lower=0)\n",
    "    \n",
    "    T = T.drop(['Temp (°C)','const','diff','Degree Days'], axis = 1);\n",
    "    \n",
    "    return T\n"
   ]
  },
  {
   "cell_type": "code",
   "execution_count": 13,
   "metadata": {},
   "outputs": [
    {
     "data": {
      "image/png": "[encoded data removed]",
      "text/plain": [
       "<Figure size 432x288 with 1 Axes>"
      ]
     },
     "metadata": {
      "needs_background": "light"
     },
     "output_type": "display_data"
    }
   ],
   "source": [
    "## date in    %month / %day / %year    ## \n",
    "daywanted = 184\n",
    "datewanted = Date.getdatewanted(daywanted)\n",
    "cooldemand = getCOOLdemand(datewanted)\n",
    "\n",
    "plt.plot(cooldemand)\n",
    "plt.xlabel('Time throughout the day')\n",
    "plt.ylabel('Total Cooling Demand (kWh)')\n",
    "plt.title('Total Cooling Demand (kWh)')\n",
    "plt.xticks((0,5,11,17,23),('00:00','06:00','12:00','18:00','24:00'))\n",
    "plt.ylim(ymin=0, ymax=90)\n",
    "plt.grid()\n",
    "plt.show()"
   ]
  },
  {
   "cell_type": "code",
   "execution_count": 14,
   "metadata": {},
   "outputs": [
    {
     "data": {
      "text/plain": [
       "'07/03/2018'"
      ]
     },
     "execution_count": 14,
     "metadata": {},
     "output_type": "execute_result"
    }
   ],
   "source": [
    "datewanted"
   ]
  },
  {
   "cell_type": "code",
   "execution_count": 4,
   "metadata": {},
   "outputs": [],
   "source": [
    "\n",
    "def getyearlycooldemand():\n",
    "\n",
    "#     for q in range(1,90):\n",
    "# #         for some reason when q=90 there is an error (maybe to do with leap year)\n",
    "\n",
    "# #         if q == 90:\n",
    "# #             for n in range(24):\n",
    "# #                 yearlycooldemand[n+(q-1)*24] = cooldemand.iloc[n, 0]\n",
    "# #             continue\n",
    "\n",
    "#         datewanted = Date.getdatewanted(q)\n",
    "\n",
    "#         cooldemand = getCOOLdemand(datewanted)\n",
    "\n",
    "#         for n in range(24):\n",
    "#             yearlycooldemand[n+(q-1)*24] = cooldemand.iloc[n, 0]\n",
    "            \n",
    "    \n",
    "    for q in range(365,366):\n",
    "#         for some reason when q=90 there is an error (maybe to do with leap year)\n",
    "\n",
    "#         if q == 90:\n",
    "#             for n in range(24):\n",
    "#                 yearlycooldemand[n+(q-1)*24] = cooldemand.iloc[n, 0]\n",
    "#             continue\n",
    "\n",
    "        datewanted = Date.getdatewanted(q)\n",
    "\n",
    "        cooldemand = getCOOLdemand(datewanted)\n",
    "\n",
    "        for n in range(24):\n",
    "            yearlycooldemand[n+(q-1)*24] = cooldemand.iloc[n, 0]\n",
    "            \n",
    "    return yearlycooldemand"
   ]
  },
  {
   "cell_type": "code",
   "execution_count": 5,
   "metadata": {},
   "outputs": [],
   "source": [
    "# yearlycooldemand = np.zeros(365*24)\n",
    "# demand = getyearlycooldemand()"
   ]
  },
  {
   "cell_type": "code",
   "execution_count": 6,
   "metadata": {},
   "outputs": [],
   "source": [
    "# plt.plot(yearlycooldemand)"
   ]
  },
  {
   "cell_type": "code",
   "execution_count": 7,
   "metadata": {},
   "outputs": [],
   "source": [
    "# demand"
   ]
  },
  {
   "cell_type": "code",
   "execution_count": 8,
   "metadata": {},
   "outputs": [],
   "source": [
    "# demand.hello"
   ]
  },
  {
   "cell_type": "code",
   "execution_count": null,
   "metadata": {},
   "outputs": [],
   "source": []
  }
 ],
 "metadata": {
  "kernelspec": {
   "display_name": "Python 3",
   "language": "python",
   "name": "python3"
  },
  "language_info": {
   "codemirror_mode": {
    "name": "ipython",
    "version": 3
   },
   "file_extension": ".py",
   "mimetype": "text/x-python",
   "name": "python",
   "nbconvert_exporter": "python",
   "pygments_lexer": "ipython3",
   "version": "3.7.4"
  }
 },
 "nbformat": 4,
 "nbformat_minor": 4
}
