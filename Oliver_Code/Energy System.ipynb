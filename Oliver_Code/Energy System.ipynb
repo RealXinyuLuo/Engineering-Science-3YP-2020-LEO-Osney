{
 "cells": [
  {
   "cell_type": "code",
   "execution_count": 1,
   "metadata": {},
   "outputs": [],
   "source": [
    "import pandas as pd\n",
    "import matplotlib.pyplot as plt\n",
    "import numpy as np\n",
    "import Demand\n",
    "import Solar\n",
    "import Price\n",
    "import Date"
   ]
  },
  {
   "cell_type": "code",
   "execution_count": 2,
   "metadata": {},
   "outputs": [],
   "source": [
    "def analysis(bigdata):\n",
    "\n",
    "    eff = 0.9\n",
    "    batterycharge = 0\n",
    "    chargeneeded = 0\n",
    "    median = np.median(bigdata['Grid Buy Price'])\n",
    "    \n",
    "\n",
    "    for n in range(0,24):\n",
    "        \n",
    "        if bigdata['Net Demand'][n] <= 0:\n",
    "            batterycharge = batterycharge - bigdata['Net Demand'][n]*eff\n",
    "            \n",
    "        if bigdata['Grid Buy Price'][n] >= median*1.5:\n",
    "            chargeneeded = chargeneeded + bigdata['Net Demand'][n]/eff\n",
    "            \n",
    "\n",
    "    return batterycharge, chargeneeded\n"
   ]
  },
  {
   "cell_type": "code",
   "execution_count": 3,
   "metadata": {},
   "outputs": [],
   "source": [
    "## method to run the battery ##\n",
    "\n",
    "def run_battery(bigdata):\n",
    "    \n",
    "    batteryoutput = np.zeros(24)\n",
    "    soc = np.ones(24)*0\n",
    "    capacity = 750\n",
    "    power = 420\n",
    "    eff = 0.9\n",
    "\n",
    "\n",
    "    for n in range(0,24):\n",
    "        if n == 0:\n",
    "            soc_temp = 0\n",
    "        else:\n",
    "            soc_temp = soc[n-1]\n",
    "\n",
    "        if bigdata['Net Demand'][n] > 0:   #using the battery\n",
    "            batteryoutput[n] = min(bigdata['Net Demand'][n], soc_temp*eff, power)\n",
    "            soc[n] = soc_temp - batteryoutput[n]*(1/eff)\n",
    "\n",
    "        elif bigdata['Net Demand'][n] < 0:     # charge the battery, NOTE NET DEMAND = -VE\n",
    "            batteryoutput[n] = max(bigdata['Net Demand'][n], -(1/eff)*(capacity - soc_temp), -power)\n",
    "            soc[n] = soc_temp - batteryoutput[n]*(eff)\n",
    "\n",
    "        elif bigdata['Net Demand'][n] == 0:      # do nothing\n",
    "            soc[n] = soc_temp\n",
    "\n",
    "\n",
    "    ## adds the battery output to total demand and adds to bigdata ##\n",
    "\n",
    "    bigdata['Net Demand - battery'] = bigdata['Net Demand']-batteryoutput\n",
    "    bigdata['Running Cost - battery'] = bigdata['Net Demand - battery']*bigdata['Grid Buy Price']\n",
    "    bigdata['Running Cost - battery'] = bigdata['Running Cost - battery'].clip(lower=0)\n",
    "    bigdata['Running Profit - battery'] = -bigdata['Net Demand - battery']*bigdata['Grid Sell Price']\n",
    "    bigdata['Running Profit - battery'] = bigdata['Running Profit - battery'].clip(lower=0)\n",
    "    bigdata['soc - battery'] = soc\n",
    "    bigdata['battery output - battery'] = batteryoutput\n",
    "    \n",
    "    #bigdata = bigdata.round(3)\n",
    "    ## returns the new bigdata ##\n",
    "    \n",
    "    return bigdata"
   ]
  },
  {
   "cell_type": "code",
   "execution_count": 4,
   "metadata": {},
   "outputs": [],
   "source": [
    "## method to run the SMART system ##\n",
    "\n",
    "def run_SMART(bigdata):\n",
    "    \n",
    "    batteryoutput = np.zeros(24)\n",
    "    soc = np.ones(24)*0\n",
    "    capacity = 750\n",
    "    power = 420\n",
    "    eff = 0.9\n",
    "    \n",
    "    median = np.median(bigdata['Grid Buy Price'])\n",
    "    predicted_battery_charge, required_battery_charge = analysis(bigdata)\n",
    "\n",
    "    for n in range(0,24):\n",
    "        \n",
    "        if n == 0:\n",
    "            soc_temp = 0\n",
    "        else:\n",
    "            soc_temp = soc[n-1]\n",
    "\n",
    "        ## the smart design ##\n",
    "        ## the smart design ##\n",
    "        ## the smart design ##\n",
    "\n",
    "        \n",
    "        if required_battery_charge > predicted_battery_charge: \n",
    "            if n == 5:\n",
    "                batteryoutput[n] = max(-power, -(1/eff)*(required_battery_charge - predicted_battery_charge))\n",
    "                soc[n] = soc_temp - batteryoutput[n]*(1/eff)\n",
    "                continue\n",
    "                \n",
    "        if n == 0:\n",
    "            use = False\n",
    "        if bigdata['Grid Buy Price'][n] >= median*1.5:\n",
    "            use = True\n",
    "            \n",
    "\n",
    "        ## the smart design ##\n",
    "        ## the smart design ##\n",
    "        ## the smart design ##\n",
    "\n",
    "        if bigdata['Net Demand'][n] > 0:   #using the battery\n",
    "            batteryoutput[n] = min(bigdata['Net Demand'][n], soc_temp*eff, power)\n",
    "            soc[n] = soc_temp - batteryoutput[n]*(1/eff)\n",
    "            if use == False:\n",
    "                soc[n] = soc[n-1]\n",
    "                batteryoutput[n] = 0\n",
    "\n",
    "        elif bigdata['Net Demand'][n] < 0:     # charge the battery\n",
    "            batteryoutput[n] = max(bigdata['Net Demand'][n], -(1/eff)*(capacity - soc_temp), -power)\n",
    "            soc[n] = soc_temp - batteryoutput[n]*(eff)\n",
    "\n",
    "        elif bigdata['Net Demand'][n] == 0:      # do nothing\n",
    "            soc[n] = soc_temp\n",
    "\n",
    "        \n",
    "    ## adds the battery output to total demand and adds to bigdata ##\n",
    "\n",
    "    bigdata['Net Demand - SMART'] = bigdata['Net Demand']-batteryoutput\n",
    "    bigdata['Running Cost - SMART'] = bigdata['Net Demand - SMART']*bigdata['Grid Buy Price']\n",
    "    bigdata['Running Cost - SMART'] = bigdata['Running Cost - SMART'].clip(lower=0)\n",
    "    bigdata['Running Profit - SMART'] = -bigdata['Net Demand - SMART']*bigdata['Grid Sell Price']\n",
    "    bigdata['Running Profit - SMART'] = bigdata['Running Profit - SMART'].clip(lower=0)\n",
    "    bigdata['soc - SMART'] = soc\n",
    "    bigdata['battery output - SMART'] = batteryoutput\n",
    "    \n",
    "    #bigdata = bigdata.round(3)\n",
    "    ## returns the new bigdata ##\n",
    "    \n",
    "    return bigdata\n"
   ]
  },
  {
   "cell_type": "code",
   "execution_count": 5,
   "metadata": {},
   "outputs": [],
   "source": [
    "## plots the graphs ##\n",
    "\n",
    "def plotgraphs(bigdata):\n",
    "    \n",
    "    x = [0,1,2,3,4,5,6,7,8,9,10,11,12,13,14,15,16,17,18,19,20,21,22,23]\n",
    "\n",
    "    #############.  Net Demand: No battery vs battery    ##########\n",
    "    fig, (ax1, ax2) = plt.subplots(1,2,figsize=(14,7))\n",
    "    ax1.step(x, bigdata['Net Demand'], color = 'red', label = 'raw demand')\n",
    "    ax1.grid()\n",
    "    ax1.set_xlabel('Time throughout the day')\n",
    "    ax1.set_ylabel('(kWh)')\n",
    "    ax1.set_xticks((0,5,11,17,23))\n",
    "    ax1.set_xticklabels(('00:00','06:00','12:00','18:00','23:00'))\n",
    "    ax2.step(x, bigdata['Net Demand - battery'], color = 'blue', label = 'demand with battery')\n",
    "    ax2.grid()\n",
    "    ax2.set_xlabel('Time throughout the day')\n",
    "    ax2.set_ylabel('(kWh)')\n",
    "    ax2.set_xticks((0,5,11,17,23))\n",
    "    ax2.set_xticklabels(('00:00','06:00','12:00','18:00','23:00'))\n",
    "    fig.suptitle('Net Demand: No battery vs battery', fontsize=20)\n",
    "    fig.legend(fontsize=12)\n",
    "\n",
    "\n",
    "    #############.  Net Demand: No battery vs SMART    ##########\n",
    "    fig, (ax1, ax2) = plt.subplots(1,2,figsize=(14,7))\n",
    "    ax1.step(x, bigdata['Net Demand'], color = 'red', label = 'raw demand')\n",
    "    ax1.grid()\n",
    "    ax1.set_xlabel('Time throughout the day')\n",
    "    ax1.set_ylabel('(kWh)')\n",
    "    ax1.set_xticks((0,5,11,17,23))\n",
    "    ax1.set_xticklabels(('00:00','06:00','12:00','18:00','23:00'))\n",
    "    ax2.step(x, bigdata['Net Demand - SMART'], color = 'blue', label = 'demand with SMART')\n",
    "    ax2.grid()\n",
    "    ax2.set_xlabel('Time throughout the day')\n",
    "    ax2.set_ylabel('(kWh)')\n",
    "    ax2.set_xticks((0,5,11,17,23))\n",
    "    ax2.set_xticklabels(('00:00','06:00','12:00','18:00','23:00'))\n",
    "    fig.suptitle('Net Demand: No battery vs SMART', fontsize=20)\n",
    "    fig.legend(fontsize=12)\n",
    "\n",
    "\n",
    "    #############.  Net Demand: battery vs SMART    ##########\n",
    "    fig, (ax1, ax2) = plt.subplots(1,2,figsize=(14,7))\n",
    "    ax1.step(x, bigdata['Net Demand - battery'], color = 'red', label = 'demand with battery')\n",
    "    ax1.grid()\n",
    "    ax1.set_xlabel('Time throughout the day')\n",
    "    ax1.set_ylabel('(kWh)')\n",
    "    ax1.set_xticks((0,5,11,17,23))\n",
    "    ax1.set_xticklabels(('00:00','06:00','12:00','18:00','23:00'))\n",
    "    ax2.step(x, bigdata['Net Demand - SMART'], color = 'blue', label = 'demand with SMART')\n",
    "    ax2.grid()\n",
    "    ax2.set_xlabel('Time throughout the day')\n",
    "    ax2.set_ylabel('(kWh)')\n",
    "    ax2.set_xticks((0,5,11,17,23))\n",
    "    ax2.set_xticklabels(('00:00','06:00','12:00','18:00','23:00'))\n",
    "    fig.suptitle('Net Demand: No battery vs SMART', fontsize=20)\n",
    "    fig.legend(fontsize=12)"
   ]
  },
  {
   "cell_type": "code",
   "execution_count": 6,
   "metadata": {},
   "outputs": [],
   "source": [
    "def summary(bigdata):\n",
    "    \n",
    "            print('no battery running cost is £' +str(bigdata['Running Cost'].sum()))\n",
    "            print('with battery running cost is £' +str(bigdata['Running Cost - battery'].sum()))\n",
    "            print('with SMART running cost is £' +str(bigdata['Running Cost - SMART'].sum()))\n",
    "            print('no battery Profit is £' +str(bigdata['Running Profit'].sum()))\n",
    "            print('with battery Profit is £' +str(bigdata['Running Profit - battery'].sum()))\n",
    "            print('with SMART Profit is £' +str(bigdata['Running Profit - SMART'].sum()))\n",
    " "
   ]
  },
  {
   "cell_type": "code",
   "execution_count": 7,
   "metadata": {},
   "outputs": [],
   "source": [
    "def year_summary(no_battery_cost,yes_battery_cost,SMART_battery_cost,no_battery_profit,yes_battery_profit,SMART_battery_profit):\n",
    "    \n",
    "    print('no battery running cost is £' +str(no_battery_cost.sum()))\n",
    "    print('with battery running cost is £' +str(yes_battery_cost.sum()))\n",
    "    print('with SMART running cost is £' +str(SMART_battery_cost.sum()))\n",
    "    print('no battery Profit is £' +str(no_battery_profit.sum()))\n",
    "    print('with battery Profit is £' +str(yes_battery_profit.sum()))\n",
    "    print('with SMART Profit is £' +str(SMART_battery_profit.sum()))\n"
   ]
  },
  {
   "cell_type": "code",
   "execution_count": 8,
   "metadata": {},
   "outputs": [],
   "source": [
    "def costs(bigdata):\n",
    "    \n",
    "    return bigdata['Running Cost'].sum(), bigdata['Running Cost - battery'].sum(), bigdata['Running Cost - SMART'].sum()"
   ]
  },
  {
   "cell_type": "code",
   "execution_count": 9,
   "metadata": {},
   "outputs": [],
   "source": [
    "def profit(bigdata):\n",
    "    \n",
    "    return bigdata['Running Profit'].sum(), bigdata['Running Profit - battery'].sum(), bigdata['Running Profit - SMART'].sum()"
   ]
  },
  {
   "cell_type": "markdown",
   "metadata": {},
   "source": [
    " "
   ]
  },
  {
   "cell_type": "markdown",
   "metadata": {},
   "source": [
    "# input the date you want here"
   ]
  },
  {
   "cell_type": "code",
   "execution_count": 10,
   "metadata": {},
   "outputs": [],
   "source": [
    "datewanted = \"01/04/2019\"    ###  month day year  ###"
   ]
  },
  {
   "cell_type": "markdown",
   "metadata": {},
   "source": [
    "# input the date you want here"
   ]
  },
  {
   "cell_type": "markdown",
   "metadata": {},
   "source": [
    " "
   ]
  },
  {
   "cell_type": "code",
   "execution_count": 11,
   "metadata": {
    "scrolled": true
   },
   "outputs": [],
   "source": [
    "## initialises the daily cost vectors ##\n",
    "no_battery_cost = np.zeros(365)\n",
    "yes_battery_cost = np.zeros(365)\n",
    "SMART_battery_cost = np.zeros(365)\n",
    "no_battery_profit = np.zeros(365)\n",
    "yes_battery_profit = np.zeros(365)\n",
    "SMART_battery_profit = np.zeros(365)\n",
    "\n",
    "\n",
    "for n in range(0, 365):\n",
    "\n",
    "    ## loads in the data ##\n",
    "\n",
    "    daywanted = n+1\n",
    "    datewanted = Date.getdatewanted(daywanted)\n",
    "    totaldemand = Demand.gettotaldemand(daywanted)\n",
    "    solarsupply = Solar.getsolarsupply(daywanted)\n",
    "    buyprice = Price.getvariablebuyprice(daywanted)\n",
    "    sellprice = Price.getvariablesellprice(daywanted)\n",
    "    bigdata =pd.concat([totaldemand, solarsupply, buyprice, sellprice], axis=1)\n",
    "    bigdata['Net Demand'] = bigdata['Total Demand (kWh)']-bigdata['Total Supply (kWh)']\n",
    "    bigdata['Running Cost'] = bigdata['Grid Buy Price']*bigdata['Net Demand']\n",
    "    bigdata['Running Cost'] = bigdata['Running Cost'].clip(lower=0)\n",
    "    bigdata['Running Profit'] = -bigdata['Grid Sell Price']*bigdata['Net Demand']\n",
    "    bigdata['Running Profit'] = bigdata['Running Profit'].clip(lower=0)\n",
    "\n",
    "    ## runs the battery for that day ##\n",
    "\n",
    "    bigdata = run_battery(bigdata)\n",
    "\n",
    "    ## runs the SNART system for that day ##\n",
    "\n",
    "    bigdata = run_SMART(bigdata)\n",
    "\n",
    "    ## analyses that day ##\n",
    "\n",
    "    nothing_cost, battery_cost, smart_cost = costs(bigdata)\n",
    "    nothing_profit, battery_profit, smart_profit = profit(bigdata)\n",
    "\n",
    "    ## adds the day into the year vector ##\n",
    "\n",
    "    no_battery_cost[n] = nothing_cost\n",
    "    yes_battery_cost[n] = battery_cost\n",
    "    SMART_battery_cost[n] = smart_cost\n",
    "    no_battery_profit[n] = nothing_profit\n",
    "    yes_battery_profit[n] = battery_profit\n",
    "    SMART_battery_profit[n] = smart_profit"
   ]
  },
  {
   "cell_type": "code",
   "execution_count": 12,
   "metadata": {
    "scrolled": true
   },
   "outputs": [
    {
     "name": "stdout",
     "output_type": "stream",
     "text": [
      "no battery running cost is £38169.4776973125\n",
      "with battery running cost is £17917.85601740925\n",
      "with SMART running cost is £16162.480315279665\n",
      "no battery Profit is £102623.56742500002\n",
      "with battery Profit is £84761.50756083336\n",
      "with SMART Profit is £84761.50756083336\n"
     ]
    }
   ],
   "source": [
    "year_summary(no_battery_cost,yes_battery_cost,SMART_battery_cost,no_battery_profit,yes_battery_profit,SMART_battery_profit)"
   ]
  },
  {
   "cell_type": "code",
   "execution_count": 13,
   "metadata": {},
   "outputs": [],
   "source": [
    "# yearvar = np.zeros((366,23))\n",
    "# yearcons = np.zeros((366,23))\n",
    "\n",
    "\n",
    "# for n in range(0,366):\n",
    "#     daywanted = n\n",
    "#     var = Price.getvariablesellprice(daywanted)\n",
    "#     cons = Price.getconstantsellprice(daywanted)\n",
    "    \n",
    "#     for j in range(0,23):\n",
    "#         yearvar[n,j] = var.iloc[j][0]\n",
    "#         yearcons[n,j] = cons.iloc[j][0]\n",
    "\n",
    "# fig, ax = plt.subplots()\n",
    "\n",
    "# ax.plot(np.average(yearvar, axis=0))\n",
    "# ax.plot(np.average(yearcons, axis=0))\n",
    "# ax.set_ylim([0,0.15])"
   ]
  },
  {
   "cell_type": "code",
   "execution_count": null,
   "metadata": {},
   "outputs": [],
   "source": []
  }
 ],
 "metadata": {
  "kernelspec": {
   "display_name": "Python 3",
   "language": "python",
   "name": "python3"
  },
  "language_info": {
   "codemirror_mode": {
    "name": "ipython",
    "version": 3
   },
   "file_extension": ".py",
   "mimetype": "text/x-python",
   "name": "python",
   "nbconvert_exporter": "python",
   "pygments_lexer": "ipython3",
   "version": "3.7.4"
  }
 },
 "nbformat": 4,
 "nbformat_minor": 4
}
