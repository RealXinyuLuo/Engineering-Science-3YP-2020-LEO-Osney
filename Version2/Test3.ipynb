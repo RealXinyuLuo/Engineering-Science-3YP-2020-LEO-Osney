{
 "cells": [
  {
   "cell_type": "code",
   "execution_count": 1,
   "metadata": {},
   "outputs": [],
   "source": [
    "__version__ = '0.3'\n",
    "import pandas as pd\n",
    "import numpy as np\n",
    "\n"
   ]
  },
  {
   "cell_type": "code",
   "execution_count": 4,
   "metadata": {},
   "outputs": [],
   "source": [
    "class control_class:\n",
    "    \"\"\"\n",
    "     Input\n",
    "    ----\n",
    "    request status from the buildings \n",
    "    \n",
    "    Return\n",
    "    ----\n",
    "    a control signal\n",
    "    \"\"\"\n",
    "    def __init__(self,request_status):\n",
    "        self.request_status = request_status\n",
    "        \n",
    "    \n",
    "    \n",
    "    def signalGen(self,request_status):\n",
    "        import_price1 = pd.read_csv('data/octopus_imprt_price_southern.csv', index_col=0,parse_dates=True,header = 0)\n",
    "        export_price1 = pd.read_csv('data/octopus_export_price_southern.csv', index_col=0,parse_dates=True,header = 0)\n",
    "\n",
    "        start_time = \"2019-1-31 00:00:00\"\n",
    "        end_time = \"2019-5-15 22:30:00\"\n",
    "        \n",
    "        import_price2 =import_price1.loc[start_time:end_time]\n",
    "        export_price2 =export_price1.loc[start_time:end_time]\n",
    "        \n",
    "        import_price3 = import_price2.between_time('09:00:00','16:30:00')\n",
    "        export_price3 = export_price2.between_time('09:00:00','16:30:00')\n",
    "        \n",
    "        for column in import_price3 [['Import Rate (p/kWh)']]:\n",
    "            import_price = import_price3[column] \n",
    "            import_price_value = import_price.values\n",
    "            \n",
    "        for column in export_price3 [['Outgoing Agile Rate (p/kWh)']]:\n",
    "            export_price = export_price3[column]\n",
    "            export_price_value = export_price.values\n",
    "            \n",
    "        \n",
    "\n",
    "        \n",
    "        T = len(import_price_value) \n",
    "        signal = np.zeros((T, 1))\n",
    "        \n",
    "        \n",
    "        \n",
    "        \n",
    "        if request_status == 0:  \n",
    "            for time,price in enumerate(import_price_value):\n",
    "                if price < 5:       # Charge/Buys \n",
    "                    signal[time] = 1\n",
    "                else:\n",
    "                    signal[time] = 0  # Set all other cases to \"do nothing\" first\n",
    "                    \n",
    "            for time,price in enumerate(export_price_value):\n",
    "                if price > 5 :       # Discharge/Sells\n",
    "                    signal[time] = -1 # Corrects some cases to sell electricity \n",
    "                \n",
    "        elif request_status == 1: \n",
    "            signal = np.zeros((T, 1))  # Always connected to the buildings in this verison \n",
    "                   \n",
    "        return signal"
   ]
  },
  {
   "cell_type": "code",
   "execution_count": 5,
   "metadata": {},
   "outputs": [
    {
     "data": {
      "text/plain": [
       "array([[-1.],\n",
       "       [-1.],\n",
       "       [-1.],\n",
       "       ...,\n",
       "       [ 0.],\n",
       "       [-1.],\n",
       "       [-1.]])"
      ]
     },
     "execution_count": 5,
     "metadata": {},
     "output_type": "execute_result"
    }
   ],
   "source": [
    "request_status = 0\n",
    "signal = control_class(request_status)\n",
    "signal1 = signal.signalGen(request_status)\n",
    "signal1"
   ]
  },
  {
   "cell_type": "code",
   "execution_count": null,
   "metadata": {},
   "outputs": [],
   "source": []
  },
  {
   "cell_type": "code",
   "execution_count": null,
   "metadata": {},
   "outputs": [],
   "source": []
  },
  {
   "cell_type": "code",
   "execution_count": null,
   "metadata": {},
   "outputs": [],
   "source": []
  }
 ],
 "metadata": {
  "kernelspec": {
   "display_name": "Python 3",
   "language": "python",
   "name": "python3"
  },
  "language_info": {
   "codemirror_mode": {
    "name": "ipython",
    "version": 3
   },
   "file_extension": ".py",
   "mimetype": "text/x-python",
   "name": "python",
   "nbconvert_exporter": "python",
   "pygments_lexer": "ipython3",
   "version": "3.7.4"
  }
 },
 "nbformat": 4,
 "nbformat_minor": 2
}
