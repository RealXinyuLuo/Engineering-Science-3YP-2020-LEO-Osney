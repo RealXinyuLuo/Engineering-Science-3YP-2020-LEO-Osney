{
 "cells": [
  {
   "cell_type": "code",
   "execution_count": 7,
   "metadata": {},
   "outputs": [],
   "source": [
    "__version__ = '0.3'\n",
    "\n",
    "import numpy as np\n",
    "import pandas as pd\n",
    "\n"
   ]
  },
  {
   "cell_type": "code",
   "execution_count": 8,
   "metadata": {},
   "outputs": [],
   "source": [
    "import_price1 = pd.read_csv('data/octopus_imprt_price_southern.csv', index_col=0,parse_dates=True,header = 0)\n",
    "export_price1 = pd.read_csv('data/octopus_export_price_southern.csv', index_col=0,parse_dates=True,header = 0)\n",
    "\n",
    "start_time = \"2019-1-31 00:00:00\"\n",
    "end_time = \"2019-5-15 22:30:00\"\n",
    "        \n",
    "import_price2 =import_price1.loc[start_time:end_time]\n",
    "export_price2 =export_price1.loc[start_time:end_time]\n",
    "        \n",
    "import_price3 = import_price2.between_time('09:00:00','16:30:00')\n",
    "export_price3 = export_price2.between_time('09:00:00','16:30:00')\n",
    "        \n"
   ]
  },
  {
   "cell_type": "code",
   "execution_count": 9,
   "metadata": {},
   "outputs": [
    {
     "data": {
      "text/html": [
       "<div>\n",
       "<style scoped>\n",
       "    .dataframe tbody tr th:only-of-type {\n",
       "        vertical-align: middle;\n",
       "    }\n",
       "\n",
       "    .dataframe tbody tr th {\n",
       "        vertical-align: top;\n",
       "    }\n",
       "\n",
       "    .dataframe thead th {\n",
       "        text-align: right;\n",
       "    }\n",
       "</style>\n",
       "<table border=\"1\" class=\"dataframe\">\n",
       "  <thead>\n",
       "    <tr style=\"text-align: right;\">\n",
       "      <th></th>\n",
       "      <th>Import Rate (p/kWh)</th>\n",
       "    </tr>\n",
       "    <tr>\n",
       "      <th>local_time</th>\n",
       "      <th></th>\n",
       "    </tr>\n",
       "  </thead>\n",
       "  <tbody>\n",
       "    <tr>\n",
       "      <td>2019-01-31 09:00:00</td>\n",
       "      <td>15.6555</td>\n",
       "    </tr>\n",
       "    <tr>\n",
       "      <td>2019-01-31 09:30:00</td>\n",
       "      <td>14.8155</td>\n",
       "    </tr>\n",
       "    <tr>\n",
       "      <td>2019-01-31 10:00:00</td>\n",
       "      <td>14.5110</td>\n",
       "    </tr>\n",
       "    <tr>\n",
       "      <td>2019-01-31 10:30:00</td>\n",
       "      <td>13.5345</td>\n",
       "    </tr>\n",
       "    <tr>\n",
       "      <td>2019-01-31 11:00:00</td>\n",
       "      <td>13.8075</td>\n",
       "    </tr>\n",
       "    <tr>\n",
       "      <td>...</td>\n",
       "      <td>...</td>\n",
       "    </tr>\n",
       "    <tr>\n",
       "      <td>2019-05-15 14:30:00</td>\n",
       "      <td>7.5810</td>\n",
       "    </tr>\n",
       "    <tr>\n",
       "      <td>2019-05-15 15:00:00</td>\n",
       "      <td>20.3385</td>\n",
       "    </tr>\n",
       "    <tr>\n",
       "      <td>2019-05-15 15:30:00</td>\n",
       "      <td>20.5380</td>\n",
       "    </tr>\n",
       "    <tr>\n",
       "      <td>2019-05-15 16:00:00</td>\n",
       "      <td>21.3780</td>\n",
       "    </tr>\n",
       "    <tr>\n",
       "      <td>2019-05-15 16:30:00</td>\n",
       "      <td>22.1235</td>\n",
       "    </tr>\n",
       "  </tbody>\n",
       "</table>\n",
       "<p>1680 rows × 1 columns</p>\n",
       "</div>"
      ],
      "text/plain": [
       "                     Import Rate (p/kWh)\n",
       "local_time                              \n",
       "2019-01-31 09:00:00              15.6555\n",
       "2019-01-31 09:30:00              14.8155\n",
       "2019-01-31 10:00:00              14.5110\n",
       "2019-01-31 10:30:00              13.5345\n",
       "2019-01-31 11:00:00              13.8075\n",
       "...                                  ...\n",
       "2019-05-15 14:30:00               7.5810\n",
       "2019-05-15 15:00:00              20.3385\n",
       "2019-05-15 15:30:00              20.5380\n",
       "2019-05-15 16:00:00              21.3780\n",
       "2019-05-15 16:30:00              22.1235\n",
       "\n",
       "[1680 rows x 1 columns]"
      ]
     },
     "execution_count": 9,
     "metadata": {},
     "output_type": "execute_result"
    }
   ],
   "source": [
    "import_price3"
   ]
  },
  {
   "cell_type": "code",
   "execution_count": 10,
   "metadata": {},
   "outputs": [
    {
     "data": {
      "text/html": [
       "<div>\n",
       "<style scoped>\n",
       "    .dataframe tbody tr th:only-of-type {\n",
       "        vertical-align: middle;\n",
       "    }\n",
       "\n",
       "    .dataframe tbody tr th {\n",
       "        vertical-align: top;\n",
       "    }\n",
       "\n",
       "    .dataframe thead th {\n",
       "        text-align: right;\n",
       "    }\n",
       "</style>\n",
       "<table border=\"1\" class=\"dataframe\">\n",
       "  <thead>\n",
       "    <tr style=\"text-align: right;\">\n",
       "      <th></th>\n",
       "      <th>Outgoing Agile Rate (p/kWh)</th>\n",
       "    </tr>\n",
       "    <tr>\n",
       "      <th>local_time</th>\n",
       "      <th></th>\n",
       "    </tr>\n",
       "  </thead>\n",
       "  <tbody>\n",
       "    <tr>\n",
       "      <td>2019-01-31 09:00:00</td>\n",
       "      <td>7.60</td>\n",
       "    </tr>\n",
       "    <tr>\n",
       "      <td>2019-01-31 09:30:00</td>\n",
       "      <td>7.24</td>\n",
       "    </tr>\n",
       "    <tr>\n",
       "      <td>2019-01-31 10:00:00</td>\n",
       "      <td>7.11</td>\n",
       "    </tr>\n",
       "    <tr>\n",
       "      <td>2019-01-31 10:30:00</td>\n",
       "      <td>6.70</td>\n",
       "    </tr>\n",
       "    <tr>\n",
       "      <td>2019-01-31 11:00:00</td>\n",
       "      <td>6.81</td>\n",
       "    </tr>\n",
       "    <tr>\n",
       "      <td>...</td>\n",
       "      <td>...</td>\n",
       "    </tr>\n",
       "    <tr>\n",
       "      <td>2019-05-15 14:30:00</td>\n",
       "      <td>4.11</td>\n",
       "    </tr>\n",
       "    <tr>\n",
       "      <td>2019-05-15 15:00:00</td>\n",
       "      <td>4.03</td>\n",
       "    </tr>\n",
       "    <tr>\n",
       "      <td>2019-05-15 15:30:00</td>\n",
       "      <td>4.16</td>\n",
       "    </tr>\n",
       "    <tr>\n",
       "      <td>2019-05-15 16:00:00</td>\n",
       "      <td>11.27</td>\n",
       "    </tr>\n",
       "    <tr>\n",
       "      <td>2019-05-15 16:30:00</td>\n",
       "      <td>11.36</td>\n",
       "    </tr>\n",
       "  </tbody>\n",
       "</table>\n",
       "<p>1680 rows × 1 columns</p>\n",
       "</div>"
      ],
      "text/plain": [
       "                     Outgoing Agile Rate (p/kWh)\n",
       "local_time                                      \n",
       "2019-01-31 09:00:00                         7.60\n",
       "2019-01-31 09:30:00                         7.24\n",
       "2019-01-31 10:00:00                         7.11\n",
       "2019-01-31 10:30:00                         6.70\n",
       "2019-01-31 11:00:00                         6.81\n",
       "...                                          ...\n",
       "2019-05-15 14:30:00                         4.11\n",
       "2019-05-15 15:00:00                         4.03\n",
       "2019-05-15 15:30:00                         4.16\n",
       "2019-05-15 16:00:00                        11.27\n",
       "2019-05-15 16:30:00                        11.36\n",
       "\n",
       "[1680 rows x 1 columns]"
      ]
     },
     "execution_count": 10,
     "metadata": {},
     "output_type": "execute_result"
    }
   ],
   "source": [
    "export_price3"
   ]
  },
  {
   "cell_type": "code",
   "execution_count": 11,
   "metadata": {},
   "outputs": [],
   "source": [
    "for column in import_price3 [['Import Rate (p/kWh)']]:\n",
    "    import_price = import_price3[column] \n",
    "    import_price_value = import_price.values\n",
    "            \n",
    "for column in export_price3 [['Outgoing Agile Rate (p/kWh)']]:\n",
    "    export_price = export_price3[column]\n",
    "    export_price_value = export_price.values"
   ]
  },
  {
   "cell_type": "code",
   "execution_count": 12,
   "metadata": {},
   "outputs": [
    {
     "data": {
      "text/plain": [
       "array([15.6555, 14.8155, 14.511 , ..., 20.538 , 21.378 , 22.1235])"
      ]
     },
     "execution_count": 12,
     "metadata": {},
     "output_type": "execute_result"
    }
   ],
   "source": [
    "import_price_value"
   ]
  },
  {
   "cell_type": "code",
   "execution_count": 13,
   "metadata": {},
   "outputs": [
    {
     "data": {
      "text/plain": [
       "array([ 7.6 ,  7.24,  7.11, ...,  4.16, 11.27, 11.36])"
      ]
     },
     "execution_count": 13,
     "metadata": {},
     "output_type": "execute_result"
    }
   ],
   "source": [
    "export_price_value"
   ]
  },
  {
   "cell_type": "code",
   "execution_count": null,
   "metadata": {},
   "outputs": [],
   "source": []
  },
  {
   "cell_type": "code",
   "execution_count": null,
   "metadata": {},
   "outputs": [],
   "source": []
  },
  {
   "cell_type": "code",
   "execution_count": null,
   "metadata": {},
   "outputs": [],
   "source": []
  },
  {
   "cell_type": "code",
   "execution_count": null,
   "metadata": {},
   "outputs": [],
   "source": []
  },
  {
   "cell_type": "code",
   "execution_count": null,
   "metadata": {},
   "outputs": [],
   "source": []
  },
  {
   "cell_type": "code",
   "execution_count": null,
   "metadata": {},
   "outputs": [],
   "source": []
  }
 ],
 "metadata": {
  "kernelspec": {
   "display_name": "Python 3",
   "language": "python",
   "name": "python3"
  },
  "language_info": {
   "codemirror_mode": {
    "name": "ipython",
    "version": 3
   },
   "file_extension": ".py",
   "mimetype": "text/x-python",
   "name": "python",
   "nbconvert_exporter": "python",
   "pygments_lexer": "ipython3",
   "version": "3.7.4"
  }
 },
 "nbformat": 4,
 "nbformat_minor": 2
}
