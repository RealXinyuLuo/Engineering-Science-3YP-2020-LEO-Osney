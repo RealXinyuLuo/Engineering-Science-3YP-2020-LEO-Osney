{
 "cells": [
  {
   "cell_type": "code",
   "execution_count": 10,
   "metadata": {},
   "outputs": [],
   "source": [
    "import numpy as np\n",
    "import pandas as pd\n",
    "from datetime import timedelta\n"
   ]
  },
  {
   "cell_type": "code",
   "execution_count": 22,
   "metadata": {},
   "outputs": [],
   "source": [
    "excess_profile1 = pd.read_csv('data/Export_vector.csv', index_col=0,\n",
    "                         parse_dates=True)  # W/kWp\n",
    "excess_profile2 = excess_profile1.resample('0.5H').mean()\n",
    "excess_profile3 = excess_profile2.append(pd.DataFrame({excess_profile2.columns[0]: np.nan},\n",
    "                                      index=[(excess_profile2.index[-1] +\n",
    "                                              timedelta(minutes=30))]))\n",
    "excess_profile4 = excess_profile3.interpolate()\n",
    "excess_profile5 = excess_profile4.between_time('09:00:00','16:30:00')\n",
    "excess_vector = excess_profile5.values\n",
    "\n",
    "\n",
    "import_profile1 = pd.read_csv('data/Import_vector.csv', index_col=0,parse_dates=True)  # W/kWp\n",
    "import_profile2 = import_profile1.resample('0.5H').mean()\n",
    "import_profile3 = import_profile2.append(pd.DataFrame({import_profile2.columns[0]: np.nan},\n",
    "                                      index=[(import_profile2.index[-1] +timedelta(minutes=30))]))\n",
    "import_profile4 = import_profile3.interpolate()\n",
    "import_profile5 = import_profile4.between_time('09:00:00','16:30:00')\n",
    "import_vector = import_profile5.values\n",
    "\n",
    "\n",
    "       \n"
   ]
  },
  {
   "cell_type": "code",
   "execution_count": 23,
   "metadata": {},
   "outputs": [
    {
     "data": {
      "text/plain": [
       "5840"
      ]
     },
     "execution_count": 23,
     "metadata": {},
     "output_type": "execute_result"
    }
   ],
   "source": [
    "len(excess_vector)"
   ]
  },
  {
   "cell_type": "code",
   "execution_count": 24,
   "metadata": {},
   "outputs": [
    {
     "data": {
      "text/plain": [
       "5840"
      ]
     },
     "execution_count": 24,
     "metadata": {},
     "output_type": "execute_result"
    }
   ],
   "source": [
    "len(import_vector)"
   ]
  },
  {
   "cell_type": "code",
   "execution_count": 21,
   "metadata": {},
   "outputs": [],
   "source": [
    "import_price1 = pd.read_csv('data/octopus_imprt_price_southern.csv', index_col=0,parse_dates=True,header = 0)\n",
    "export_price1 = pd.read_csv('data/octopus_export_price_southern.csv', index_col=0,parse_dates=True,header = 0)\n",
    "\n",
    "start_time1 = \"2019-1-31 00:00:00\"\n",
    "end_time1 = \"2020-1-30 22:30:00\"\n",
    "        \n",
    "start_time2 = \"2018-1-31 00:00:00\"\n",
    "end_time2 = \"2019-1-30 22:30:00\"\n",
    "        \n",
    "import_price2 =import_price1.loc[start_time1:end_time1]\n",
    "export_price2 =export_price1.loc[start_time2:end_time2]\n",
    "        \n",
    "import_price3 = import_price2.between_time('09:00:00','16:30:00')\n",
    "export_price3 = export_price2.between_time('09:00:00','16:30:00')\n",
    "        \n",
    "for column in import_price3 [['Import Rate (p/kWh)']]:\n",
    "        import_price = import_price3[column] \n",
    "        import_price_value = import_price.values\n",
    "            \n",
    "for column in export_price3 [['Outgoing Agile Rate (p/kWh)']]:\n",
    "        export_price = export_price3[column]\n",
    "        export_price_value = export_price.values \n",
    "           \n"
   ]
  },
  {
   "cell_type": "code",
   "execution_count": 16,
   "metadata": {},
   "outputs": [
    {
     "data": {
      "text/plain": [
       "5840"
      ]
     },
     "execution_count": 16,
     "metadata": {},
     "output_type": "execute_result"
    }
   ],
   "source": [
    "len(import_price_value)"
   ]
  },
  {
   "cell_type": "code",
   "execution_count": 17,
   "metadata": {},
   "outputs": [
    {
     "data": {
      "text/plain": [
       "5840"
      ]
     },
     "execution_count": 17,
     "metadata": {},
     "output_type": "execute_result"
    }
   ],
   "source": [
    "len(export_price_value)"
   ]
  },
  {
   "cell_type": "code",
   "execution_count": null,
   "metadata": {},
   "outputs": [],
   "source": []
  },
  {
   "cell_type": "code",
   "execution_count": null,
   "metadata": {},
   "outputs": [],
   "source": []
  },
  {
   "cell_type": "code",
   "execution_count": null,
   "metadata": {},
   "outputs": [],
   "source": []
  },
  {
   "cell_type": "code",
   "execution_count": null,
   "metadata": {},
   "outputs": [],
   "source": []
  },
  {
   "cell_type": "code",
   "execution_count": null,
   "metadata": {},
   "outputs": [],
   "source": []
  },
  {
   "cell_type": "code",
   "execution_count": null,
   "metadata": {},
   "outputs": [],
   "source": []
  },
  {
   "cell_type": "code",
   "execution_count": null,
   "metadata": {},
   "outputs": [],
   "source": []
  },
  {
   "cell_type": "code",
   "execution_count": null,
   "metadata": {},
   "outputs": [],
   "source": []
  }
 ],
 "metadata": {
  "kernelspec": {
   "display_name": "Python 3",
   "language": "python",
   "name": "python3"
  },
  "language_info": {
   "codemirror_mode": {
    "name": "ipython",
    "version": 3
   },
   "file_extension": ".py",
   "mimetype": "text/x-python",
   "name": "python",
   "nbconvert_exporter": "python",
   "pygments_lexer": "ipython3",
   "version": "3.7.4"
  }
 },
 "nbformat": 4,
 "nbformat_minor": 2
}
