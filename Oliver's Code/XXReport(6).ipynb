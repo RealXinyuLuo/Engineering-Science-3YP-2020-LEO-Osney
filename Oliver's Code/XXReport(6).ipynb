{
 "cells": [
  {
   "cell_type": "code",
   "execution_count": 1,
   "metadata": {},
   "outputs": [],
   "source": [
    "import pandas as pd\n",
    "import numpy as np\n",
    "import matplotlib.pyplot as plt\n",
    "import datetime"
   ]
  },
  {
   "cell_type": "code",
   "execution_count": 2,
   "metadata": {},
   "outputs": [],
   "source": [
    "import Demand\n",
    "import Date"
   ]
  },
  {
   "cell_type": "code",
   "execution_count": 3,
   "metadata": {},
   "outputs": [],
   "source": [
    "# x = [0,1,2,3,4,5,6,7,8,9,10,11,12,13,14,15,16,17,18,19,20,21,22,23]\n",
    "# color1 = 'maroon'\n",
    "# color2 = 'dodgerblue'\n",
    "# fig, ax = plt.subplots(2,2,sharey=True,sharex=True,figsize=[13,7])\n",
    "\n",
    "# ax[0,0].step(x, T['TESA Int Gen - Lighting(weekday)'],color=color1, label='weekday', alpha = 5)\n",
    "# ax[0,0].step(x, T['TESA Int Gen - Lighting(weekend)'],color=color2, label='weekend')\n",
    "# ax[0,0].set_ylabel('(kWh)')\n",
    "# ax[0,0].legend()\n",
    "# ax[0,0].title.set_text('Lighting')\n",
    "# ax[0,0].spines['top'].set_visible(False)\n",
    "# ax[0,0].spines['right'].set_visible(False)\n",
    "\n",
    "# ax[0,1].step(x, T['TESA Int Gen - Occupants(weekday)'],color=color1, label='weekday')\n",
    "# ax[0,1].step(x, T['TESA Int Gen - Occupants(weekend)'],color=color2, label='weekend')\n",
    "# ax[0,1].legend()\n",
    "# ax[0,1].title.set_text('Occupants')\n",
    "# ax[0,1].spines['top'].set_visible(False)\n",
    "# ax[0,1].spines['right'].set_visible(False)\n",
    "\n",
    "# ax[1,0].step(x, T['TESA Int Gen - Monitors(weekday)']+T['TESA Int Gen - Computers(weekday)'],color=color1, label='weekday')\n",
    "# ax[1,0].step(x, T['TESA Int Gen - Monitors(weekend)']+T['TESA Int Gen - Computers(weekend)'],color=color2, label='weekend')\n",
    "# ax[1,0].set_xticks((0,5,11,17,23))\n",
    "# ax[1,0].set_xticklabels(('00:00','06:00','12:00','18:00','23:00'))\n",
    "# ax[1,0].set_xlabel('time throughout the day')\n",
    "# ax[1,0].set_ylabel('(kWh)')\n",
    "# ax[1,0].legend()\n",
    "# ax[1,0].title.set_text('Monitors + Computers')\n",
    "# ax[1,0].spines['top'].set_visible(False)\n",
    "# ax[1,0].spines['right'].set_visible(False)\n",
    "\n",
    "# ax[1,1].step(x, T['TESA Total Int Gen - weekday'],color=color1,label='weekday')\n",
    "# ax[1,1].step(x, T['TESA Total Int Gen - weekend'],color=color2, label='weekend')\n",
    "# ax[1,1].set_xlabel('time throughout the day')\n",
    "# ax[1,1].legend()\n",
    "# ax[1,1].title.set_text('Total')\n",
    "# ax[1,1].spines['top'].set_visible(False)\n",
    "# ax[1,1].spines['right'].set_visible(False)\n",
    "\n",
    "# # fig.suptitle('Time throughout the day', y=0)\n",
    "# # fig.ylabel('Internal Generation (kW)')\n",
    "# # fig.ylabel('Time throughout the day')"
   ]
  },
  {
   "cell_type": "code",
   "execution_count": 4,
   "metadata": {},
   "outputs": [],
   "source": [
    "heating = np.zeros([24,31])\n",
    "cooling = np.zeros([24,31])\n",
    "HEAT = Demand.getHEATdemand(1)\n",
    "COOL = Demand.getCOOLdemand(1)"
   ]
  },
  {
   "cell_type": "code",
   "execution_count": 5,
   "metadata": {},
   "outputs": [],
   "source": [
    "jan_heating = np.zeros([24,32])\n",
    "jan_cooling = np.zeros([24,32])\n",
    "\n",
    "\n",
    "for q in range(0,32):\n",
    "    HEAT = Demand.getHEATdemand(q+1)\n",
    "    COOL = Demand.getCOOLdemand(q+1)\n",
    "\n",
    "    for n in range(0,24):\n",
    "        jan_heating[n,q] = HEAT.iloc[n]\n",
    "        jan_cooling[n,q] = COOL.iloc[n]\n",
    "        \n"
   ]
  },
  {
   "cell_type": "code",
   "execution_count": 6,
   "metadata": {},
   "outputs": [],
   "source": [
    "ja_h_a = np.sum(jan_heating, axis=1)*1/31\n",
    "ja_c_a = np.sum(jan_cooling, axis=1)*1/31\n"
   ]
  },
  {
   "cell_type": "code",
   "execution_count": 7,
   "metadata": {},
   "outputs": [],
   "source": [
    "jul_heating = np.zeros([24,32])\n",
    "jul_cooling = np.zeros([24,32])\n",
    "\n",
    "\n",
    "for q in range(182,214):\n",
    "    HEAT = Demand.getHEATdemand(q-31)\n",
    "    COOL = Demand.getCOOLdemand(q-31)\n",
    "\n",
    "    for n in range(0,24):\n",
    "        jul_heating[n,q-182] = HEAT.iloc[n]\n",
    "        jul_cooling[n,q-182] = COOL.iloc[n]"
   ]
  },
  {
   "cell_type": "code",
   "execution_count": 8,
   "metadata": {},
   "outputs": [],
   "source": [
    "ju_h_a = np.sum(jul_heating, axis=1)*1/31\n",
    "ju_c_a = np.sum(jul_cooling, axis=1)*1/31"
   ]
  },
  {
   "cell_type": "code",
   "execution_count": 9,
   "metadata": {},
   "outputs": [],
   "source": [
    "ju_h_a = np.append(ju_h_a,ju_h_a[23])\n",
    "ju_c_a = np.append(ju_c_a,ju_c_a[23])\n",
    "ja_h_a = np.append(ja_h_a,ja_h_a[23])\n",
    "ja_c_a = np.append(ja_c_a,ja_c_a[23])"
   ]
  },
  {
   "cell_type": "code",
   "execution_count": 10,
   "metadata": {},
   "outputs": [
    {
     "data": {
      "image/png": "[encoded data removed]",
      "text/plain": [
       "<Figure size 1080x360 with 4 Axes>"
      ]
     },
     "metadata": {
      "needs_background": "light"
     },
     "output_type": "display_data"
    }
   ],
   "source": [
    "x = [0,1,2,3,4,5,6,7,8,9,10,11,12,13,14,15,16,17,18,19,20,21,22,23,24]\n",
    "color1 = 'maroon'\n",
    "color2 = 'dodgerblue'\n",
    "\n",
    "fig, ax = plt.subplots(2,2,sharey=True, sharex=True,figsize=[15,5])\n",
    "\n",
    "ax[0,0].step(x, ja_h_a, label='heating average - january', color=color1)\n",
    "ax[0,0].title.set_text('Total Heating Average - January')\n",
    "ax[0,0].set_ylabel('(kWh)')\n",
    "ax[0,0].spines['top'].set_visible(False)\n",
    "ax[0,0].spines['right'].set_visible(False)\n",
    "ax[0,0].grid(lw=0.5)\n",
    "\n",
    "ax[0,1].step(x, ja_c_a, label='cooling average - january', color=color2)\n",
    "ax[0,1].title.set_text('Total Cooling Average - January')\n",
    "ax[0,1].spines['top'].set_visible(False)\n",
    "ax[0,1].spines['right'].set_visible(False)\n",
    "ax[0,1].grid(lw=0.5)\n",
    "\n",
    "ax[1,0].step(x, ju_h_a, label='heating average - july', color=color1)\n",
    "ax[1,0].title.set_text('Total Heating Average - July')\n",
    "ax[1,0].set_xticks((0,3,6,9,12,15,18,21,24))\n",
    "ax[1,0].set_xticklabels(('00:00','','06:00','','12:00','','18:00','','24:00'))\n",
    "ax[1,0].set_xlabel('time throughout the day')\n",
    "ax[1,0].set_ylabel('(kWh)')\n",
    "ax[1,0].spines['top'].set_visible(False)\n",
    "ax[1,0].spines['right'].set_visible(False)\n",
    "ax[1,0].grid(lw=0.5)\n",
    "\n",
    "ax[1,1].step(x, ju_c_a, label='cooling average - july', color=color2)\n",
    "ax[1,1].title.set_text('Total Cooling Average - July')\n",
    "ax[1,1].set_xlabel('time throughout the day')\n",
    "ax[1,1].spines['top'].set_visible(False)\n",
    "ax[1,1].spines['right'].set_visible(False)\n",
    "ax[1,1].grid(lw=0.5)\n"
   ]
  },
  {
   "cell_type": "code",
   "execution_count": null,
   "metadata": {},
   "outputs": [],
   "source": []
  }
 ],
 "metadata": {
  "kernelspec": {
   "display_name": "Python 3",
   "language": "python",
   "name": "python3"
  },
  "language_info": {
   "codemirror_mode": {
    "name": "ipython",
    "version": 3
   },
   "file_extension": ".py",
   "mimetype": "text/x-python",
   "name": "python",
   "nbconvert_exporter": "python",
   "pygments_lexer": "ipython3",
   "version": "3.7.4"
  }
 },
 "nbformat": 4,
 "nbformat_minor": 4
}
