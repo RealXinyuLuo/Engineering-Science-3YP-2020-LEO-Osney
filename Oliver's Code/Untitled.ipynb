{
 "cells": [
  {
   "cell_type": "code",
   "execution_count": 1,
   "metadata": {},
   "outputs": [],
   "source": [
    "import datetime\n",
    "import Date\n",
    "import pandas as pd\n",
    "import numpy as np\n",
    "import Forecast\n",
    "import Date\n",
    "import Demand\n",
    "import requests\n",
    "import matplotlib.pyplot as plt\n",
    "import Price"
   ]
  },
  {
   "cell_type": "code",
   "execution_count": 2,
   "metadata": {},
   "outputs": [],
   "source": [
    "revenue = np.zeros(24*365)\n",
    "costs = np.zeros(24*365)\n",
    "\n",
    "for q in range(365):\n",
    "    \n",
    "    daywanted = q+1\n",
    "\n",
    "    im = pd.read_csv('Import_vector.csv',usecols=[1])\n",
    "    im = im[0+24*(daywanted-1):23+24*(daywanted-1)]\n",
    "    im = np.array(im)\n",
    "    ex = pd.read_csv('Export_vector.csv',usecols=[1])\n",
    "    ex = ex[0+24*(daywanted-1):23+24*(daywanted-1)]\n",
    "    ex = np.array(ex)\n",
    "    buyprice = Price.getvariablebuyprice(daywanted)\n",
    "    buy = np.array(buyprice)\n",
    "    sellprice = Price.getvariablesellprice(daywanted)\n",
    "    sell = np.array(sellprice)\n",
    "\n",
    "    for n in range(23):\n",
    "        revenue[n+24*(daywanted-1)] = ex[n]*sell[n]\n",
    "        costs[n+24*(daywanted-1)] = im[n]*buy[n]"
   ]
  },
  {
   "cell_type": "code",
   "execution_count": 3,
   "metadata": {},
   "outputs": [
    {
     "data": {
      "text/plain": [
       "63808.882049295054"
      ]
     },
     "execution_count": 3,
     "metadata": {},
     "output_type": "execute_result"
    }
   ],
   "source": [
    "revenue.sum()-costs.sum()"
   ]
  },
  {
   "cell_type": "code",
   "execution_count": 4,
   "metadata": {},
   "outputs": [
    {
     "data": {
      "text/plain": [
       "74933.53755291573"
      ]
     },
     "execution_count": 4,
     "metadata": {},
     "output_type": "execute_result"
    }
   ],
   "source": [
    "revenue.sum()"
   ]
  },
  {
   "cell_type": "code",
   "execution_count": 5,
   "metadata": {},
   "outputs": [
    {
     "data": {
      "text/plain": [
       "11124.655503620676"
      ]
     },
     "execution_count": 5,
     "metadata": {},
     "output_type": "execute_result"
    }
   ],
   "source": [
    "costs.sum()"
   ]
  },
  {
   "cell_type": "code",
   "execution_count": 6,
   "metadata": {},
   "outputs": [],
   "source": [
    "xim = pd.read_csv('xinyuimport.csv',usecols=[1])\n",
    "xim = np.array(xim)"
   ]
  },
  {
   "cell_type": "code",
   "execution_count": 7,
   "metadata": {},
   "outputs": [
    {
     "data": {
      "text/plain": [
       "8879.0"
      ]
     },
     "execution_count": 7,
     "metadata": {},
     "output_type": "execute_result"
    }
   ],
   "source": [
    "len(xim)/2"
   ]
  },
  {
   "cell_type": "code",
   "execution_count": 8,
   "metadata": {},
   "outputs": [
    {
     "data": {
      "text/plain": [
       "8760"
      ]
     },
     "execution_count": 8,
     "metadata": {},
     "output_type": "execute_result"
    }
   ],
   "source": [
    "365*24"
   ]
  },
  {
   "cell_type": "code",
   "execution_count": 9,
   "metadata": {},
   "outputs": [],
   "source": [
    "im = pd.read_csv('Import_vector.csv',usecols=[1])\n",
    "im = np.array(im)\n",
    "ex = pd.read_csv('Export_vector.csv',usecols=[1])\n",
    "ex = np.array(ex)\n",
    "xim = pd.read_csv('xinyuimport.csv',usecols=[1])\n",
    "xim = np.array(xim)\n",
    "xex = pd.read_csv('xinyuexport.csv', usecols=[1])\n",
    "xex = np.array(xex)\n",
    "\n",
    "revenue = np.zeros(24*365)\n",
    "costs = np.zeros(24*365)\n",
    "\n",
    "for n in range(365*24):\n",
    "    revenue[n] = ex[n]*xex[2*n]\n",
    "    costs[n] = im[n]*xim[2*n]"
   ]
  },
  {
   "cell_type": "code",
   "execution_count": 10,
   "metadata": {},
   "outputs": [
    {
     "data": {
      "text/plain": [
       "7706063.280625857"
      ]
     },
     "execution_count": 10,
     "metadata": {},
     "output_type": "execute_result"
    }
   ],
   "source": [
    "revenue.sum()"
   ]
  },
  {
   "cell_type": "code",
   "execution_count": 13,
   "metadata": {},
   "outputs": [
    {
     "data": {
      "text/plain": [
       "11492.025659434556"
      ]
     },
     "execution_count": 13,
     "metadata": {},
     "output_type": "execute_result"
    }
   ],
   "source": [
    "costs.sum()/100"
   ]
  },
  {
   "cell_type": "code",
   "execution_count": 12,
   "metadata": {},
   "outputs": [
    {
     "data": {
      "text/plain": [
       "65568.60714682403"
      ]
     },
     "execution_count": 12,
     "metadata": {},
     "output_type": "execute_result"
    }
   ],
   "source": [
    "(revenue.sum()-costs.sum())/100"
   ]
  },
  {
   "cell_type": "code",
   "execution_count": null,
   "metadata": {},
   "outputs": [],
   "source": []
  }
 ],
 "metadata": {
  "kernelspec": {
   "display_name": "Python 3",
   "language": "python",
   "name": "python3"
  },
  "language_info": {
   "codemirror_mode": {
    "name": "ipython",
    "version": 3
   },
   "file_extension": ".py",
   "mimetype": "text/x-python",
   "name": "python",
   "nbconvert_exporter": "python",
   "pygments_lexer": "ipython3",
   "version": "3.7.4"
  }
 },
 "nbformat": 4,
 "nbformat_minor": 4
}
