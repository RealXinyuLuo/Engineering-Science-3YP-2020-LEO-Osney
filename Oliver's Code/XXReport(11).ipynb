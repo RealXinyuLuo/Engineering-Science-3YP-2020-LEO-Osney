{
 "cells": [
  {
   "cell_type": "code",
   "execution_count": 1,
   "metadata": {},
   "outputs": [],
   "source": [
    "import pandas as pd\n",
    "import matplotlib.pyplot as plt\n",
    "import numpy as np\n",
    "import Demand\n",
    "import Solar\n",
    "import Price\n",
    "import Date"
   ]
  },
  {
   "cell_type": "code",
   "execution_count": 2,
   "metadata": {},
   "outputs": [
    {
     "data": {
      "text/plain": [
       "'\\nin a perfect world smart system\\n'"
      ]
     },
     "execution_count": 2,
     "metadata": {},
     "output_type": "execute_result"
    }
   ],
   "source": [
    "'''\n",
    "in a perfect world smart system\n",
    "'''"
   ]
  },
  {
   "cell_type": "code",
   "execution_count": 3,
   "metadata": {},
   "outputs": [],
   "source": [
    "def analysis(bigdata):\n",
    "\n",
    "    eff = 0.9\n",
    "    chargeneeded = 0\n",
    "    median = np.median(bigdata['Grid Buy Price'])\n",
    "    batterycharge = 0\n",
    "    \n",
    "\n",
    "    for n in range(0,24):\n",
    "            \n",
    "        if bigdata['Grid Buy Price'][n] >= median*1.5:\n",
    "            chargeneeded = chargeneeded + bigdata['Net Demand'][n]/(eff)\n",
    "            \n",
    "        if bigdata['Net Demand'][n] <= 0:\n",
    "            batterycharge = batterycharge - bigdata['Net Demand'][n]*eff\n",
    "            \n",
    "\n",
    "    return chargeneeded, batterycharge\n"
   ]
  },
  {
   "cell_type": "code",
   "execution_count": null,
   "metadata": {},
   "outputs": [],
   "source": [
    "def chargeneeded(bigdata):\n",
    "\n",
    "    eff = 0.9\n",
    "    chargeneeded = 0\n",
    "    median = np.median(bigdata['Grid Buy Price'])\n",
    "    batterycharge = 0\n",
    "    \n",
    "\n",
    "    for n in range(0,24):\n",
    "            \n",
    "        if bigdata['Grid Buy Price'][n] >= median*1.5:\n",
    "            chargeneeded = chargeneeded + bigdata['Net Demand'][n]/(eff)\n",
    "\n",
    "\n",
    "    return chargeneeded\n"
   ]
  },
  {
   "cell_type": "code",
   "execution_count": null,
   "metadata": {},
   "outputs": [],
   "source": [
    "def predictedcharge(bigdata):\n",
    "    \n",
    "    predictedcharge = 0\n",
    "    eff = 0.9\n",
    "    \n",
    "    for n in range(24):\n",
    "        \n",
    "        if bigdata['Net Demand'][n] <= 0:\n",
    "            predictedcharge = predictedcharge - bigdata['Net Demand'][n]*eff"
   ]
  },
  {
   "cell_type": "code",
   "execution_count": 4,
   "metadata": {},
   "outputs": [],
   "source": [
    "## method to run the SMART system ##\n",
    "## if its perfect\n",
    "\n",
    "def run_SMART(bigdata, daywanted, starting_soc):\n",
    "    \n",
    "    batteryoutput = np.zeros(24)\n",
    "    soc = np.ones(24)*0\n",
    "    capacity = 1120\n",
    "    power = 415\n",
    "    eff = 0.9\n",
    "    \n",
    "    median = np.median(bigdata['Grid Buy Price'])\n",
    "    required_battery_charge, predicted_battery_charge = analysis(bigdata)\n",
    "#     predicted_battery_charge = solar_prediction['0'][day]\n",
    "\n",
    "    for n in range(0,24):\n",
    "        \n",
    "        if n == 0:\n",
    "            soc_temp = starting_soc[daywanted-1]\n",
    "        else:\n",
    "            soc_temp = soc[n-1]\n",
    "\n",
    "        ## the smart design ##\n",
    "        ## the smart design ##\n",
    "        ## the smart design ##\n",
    "\n",
    "        \n",
    "        if required_battery_charge > predicted_battery_charge: \n",
    "            if n == 5:\n",
    "                batteryoutput[n] = max(-power, -(1/eff)*(required_battery_charge - predicted_battery_charge))\n",
    "                soc[n] = soc_temp - batteryoutput[n]*(1/eff)\n",
    "                continue\n",
    "                \n",
    "        if n == 0:\n",
    "            use = False\n",
    "        if bigdata['Grid Buy Price'][n] >= median*1.5:\n",
    "            use = True\n",
    "            \n",
    "\n",
    "        ## the smart design ##\n",
    "        ## the smart design ##\n",
    "        ## the smart design ##\n",
    "\n",
    "        if bigdata['Net Demand'][n] > 0:   #using the battery\n",
    "            batteryoutput[n] = min(bigdata['Net Demand'][n], soc_temp*eff, power)\n",
    "            soc[n] = soc_temp - batteryoutput[n]*(1/eff)\n",
    "            if use == False:\n",
    "                soc[n] = soc[n-1]\n",
    "                batteryoutput[n] = 0\n",
    "\n",
    "        elif bigdata['Net Demand'][n] < 0:     # charge the battery\n",
    "            batteryoutput[n] = max(bigdata['Net Demand'][n], -(1/eff)*(capacity - soc_temp), -power)\n",
    "            soc[n] = soc_temp - batteryoutput[n]*(eff)\n",
    "\n",
    "        elif bigdata['Net Demand'][n] == 0:      # do nothing\n",
    "            soc[n] = soc_temp\n",
    "\n",
    "        \n",
    "    ## adds the battery output to total demand and adds to bigdata ##\n",
    "\n",
    "    bigdata['Net Demand - SMART'] = bigdata['Net Demand']-batteryoutput\n",
    "    bigdata['Running Cost - SMART'] = bigdata['Net Demand - SMART']*bigdata['Grid Buy Price']\n",
    "    bigdata['Running Cost - SMART'] = bigdata['Running Cost - SMART'].clip(lower=0)\n",
    "    bigdata['Running Profit - SMART'] = -bigdata['Net Demand - SMART']*bigdata['Grid Sell Price']\n",
    "    bigdata['Running Profit - SMART'] = bigdata['Running Profit - SMART'].clip(lower=0)\n",
    "    bigdata['soc - SMART'] = soc\n",
    "    bigdata['battery output - SMART'] = batteryoutput\n",
    "    \n",
    "    ## adds the end day soc into the global vector to use for the next day ##\n",
    "    starting_soc[daywanted] = soc[23]\n",
    "    ## returns the new bigdata ##\n",
    "    \n",
    "    return bigdata\n"
   ]
  },
  {
   "cell_type": "code",
   "execution_count": 5,
   "metadata": {},
   "outputs": [],
   "source": [
    "## initialises the daily cost vectors ##\n",
    "SMART_cost = np.zeros(365)\n",
    "SMART_profit = np.zeros(365)\n",
    "\n",
    "starting_soc = np.zeros(366)\n",
    "\n",
    "_import_ = np.zeros(24*365)\n",
    "_export_ = np.zeros(24*365)\n",
    "\n",
    "for n in range(0, 365):\n",
    "\n",
    "    ## loads in the data ##\n",
    "\n",
    "    daywanted = n+1\n",
    "    datewanted = Date.getdatewanted(daywanted, 2014)\n",
    "    totaldemand = Demand.gettotaldemand(daywanted)\n",
    "    solarsupply = Solar.getsolarsupply(daywanted)\n",
    "    buyprice = Price.getvariablebuyprice(daywanted)\n",
    "    sellprice = Price.getvariablesellprice(daywanted)\n",
    "    bigdata =pd.concat([totaldemand, solarsupply, buyprice, sellprice], axis=1)\n",
    "    bigdata['Net Demand'] = bigdata['Total Demand (kWh)']-bigdata['Total Supply (kWh)']\n",
    "    bigdata['Running Cost'] = bigdata['Grid Buy Price']*bigdata['Net Demand']\n",
    "    bigdata['Running Cost'] = bigdata['Running Cost'].clip(lower=0)\n",
    "    bigdata['Running Profit'] = -bigdata['Grid Sell Price']*bigdata['Net Demand']\n",
    "    bigdata['Running Profit'] = bigdata['Running Profit'].clip(lower=0)\n",
    "\n",
    "    ## runs the battery for that day ##\n",
    "    \n",
    "    bigdata = run_SMART(bigdata, daywanted, starting_soc)\n",
    "\n",
    "    ## adds the day into the year vector ##\n",
    "\n",
    " \n",
    "    SMART_cost[n] = bigdata['Running Cost - SMART'].sum()\n",
    "    SMART_profit[n] = bigdata['Running Profit - SMART'].sum()\n",
    "    \n",
    "    _import_[n] = bigdata['Net Demand - SMART'].clip(lower=0).sum()\n",
    "    temp = bigdata['Net Demand - SMART']*(-1)\n",
    "    _export_[n] = temp.clip(lower=0).sum()\n"
   ]
  },
  {
   "cell_type": "code",
   "execution_count": 6,
   "metadata": {},
   "outputs": [
    {
     "data": {
      "text/plain": [
       "17243.36660799456"
      ]
     },
     "execution_count": 6,
     "metadata": {},
     "output_type": "execute_result"
    }
   ],
   "source": [
    "SMART_cost.sum()"
   ]
  },
  {
   "cell_type": "code",
   "execution_count": 7,
   "metadata": {},
   "outputs": [
    {
     "data": {
      "text/plain": [
       "71962.24509296274"
      ]
     },
     "execution_count": 7,
     "metadata": {},
     "output_type": "execute_result"
    }
   ],
   "source": [
    "SMART_profit.sum()"
   ]
  },
  {
   "cell_type": "code",
   "execution_count": 8,
   "metadata": {},
   "outputs": [
    {
     "data": {
      "text/plain": [
       "54718.878484968176"
      ]
     },
     "execution_count": 8,
     "metadata": {},
     "output_type": "execute_result"
    }
   ],
   "source": [
    "SMART_profit.sum()-SMART_cost.sum()"
   ]
  },
  {
   "cell_type": "code",
   "execution_count": 9,
   "metadata": {},
   "outputs": [
    {
     "data": {
      "text/plain": [
       "214981.7009828125"
      ]
     },
     "execution_count": 9,
     "metadata": {},
     "output_type": "execute_result"
    }
   ],
   "source": [
    "_import_.sum()"
   ]
  },
  {
   "cell_type": "code",
   "execution_count": 10,
   "metadata": {},
   "outputs": [
    {
     "data": {
      "text/plain": [
       "1042467.3466446762"
      ]
     },
     "execution_count": 10,
     "metadata": {},
     "output_type": "execute_result"
    }
   ],
   "source": [
    "_export_.sum()"
   ]
  },
  {
   "cell_type": "code",
   "execution_count": 11,
   "metadata": {},
   "outputs": [
    {
     "data": {
      "text/plain": [
       "827485.6456618637"
      ]
     },
     "execution_count": 11,
     "metadata": {},
     "output_type": "execute_result"
    }
   ],
   "source": [
    "_export_.sum()-_import_.sum()"
   ]
  },
  {
   "cell_type": "code",
   "execution_count": null,
   "metadata": {},
   "outputs": [],
   "source": []
  },
  {
   "cell_type": "code",
   "execution_count": null,
   "metadata": {},
   "outputs": [],
   "source": []
  },
  {
   "cell_type": "code",
   "execution_count": null,
   "metadata": {},
   "outputs": [],
   "source": []
  },
  {
   "cell_type": "code",
   "execution_count": null,
   "metadata": {},
   "outputs": [],
   "source": []
  },
  {
   "cell_type": "code",
   "execution_count": null,
   "metadata": {},
   "outputs": [],
   "source": []
  },
  {
   "cell_type": "code",
   "execution_count": null,
   "metadata": {},
   "outputs": [],
   "source": []
  },
  {
   "cell_type": "code",
   "execution_count": null,
   "metadata": {},
   "outputs": [],
   "source": []
  }
 ],
 "metadata": {
  "kernelspec": {
   "display_name": "Python 3",
   "language": "python",
   "name": "python3"
  },
  "language_info": {
   "codemirror_mode": {
    "name": "ipython",
    "version": 3
   },
   "file_extension": ".py",
   "mimetype": "text/x-python",
   "name": "python",
   "nbconvert_exporter": "python",
   "pygments_lexer": "ipython3",
   "version": "3.7.4"
  }
 },
 "nbformat": 4,
 "nbformat_minor": 4
}
