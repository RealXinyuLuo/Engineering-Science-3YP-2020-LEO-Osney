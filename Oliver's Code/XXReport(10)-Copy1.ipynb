{
 "cells": [
  {
   "cell_type": "code",
   "execution_count": 1,
   "metadata": {},
   "outputs": [],
   "source": [
    "import pandas as pd\n",
    "import matplotlib.pyplot as plt\n",
    "import numpy as np\n",
    "import Demand\n",
    "import Solar\n",
    "import Price\n",
    "import Date"
   ]
  },
  {
   "cell_type": "code",
   "execution_count": 2,
   "metadata": {},
   "outputs": [],
   "source": [
    "def analysis(bigdata):\n",
    "\n",
    "    eff = 0.9\n",
    "    batterycharge = 0\n",
    "    chargeneeded = 0\n",
    "    median = np.median(bigdata['Grid Buy Price'])\n",
    "    \n",
    "\n",
    "    for n in range(0,24):\n",
    "        \n",
    "        if bigdata['Net Demand'][n] <= 0:\n",
    "            batterycharge = batterycharge - bigdata['Net Demand'][n]*eff\n",
    "            \n",
    "        if bigdata['Grid Buy Price'][n] >= median*1.5:\n",
    "            chargeneeded = chargeneeded + bigdata['Net Demand'][n]/eff\n",
    "            \n",
    "\n",
    "    return batterycharge, chargeneeded\n"
   ]
  },
  {
   "cell_type": "code",
   "execution_count": 3,
   "metadata": {},
   "outputs": [],
   "source": [
    "## method to run the SMART system ##\n",
    "\n",
    "def run_SMART(bigdata):\n",
    "    \n",
    "    batteryoutput = np.zeros(24)\n",
    "    soc = np.ones(24)*0\n",
    "    capacity = 750\n",
    "    power = 420\n",
    "    eff = 0.9\n",
    "    \n",
    "    median = np.median(bigdata['Grid Buy Price'])\n",
    "    predicted_battery_charge, required_battery_charge = analysis(bigdata)\n",
    "\n",
    "    for n in range(0,24):\n",
    "        \n",
    "        if n == 0:\n",
    "            soc_temp = 0\n",
    "        else:\n",
    "            soc_temp = soc[n-1]\n",
    "\n",
    "        ## the smart design ##\n",
    "        ## the smart design ##\n",
    "        ## the smart design ##\n",
    "\n",
    "        \n",
    "        if required_battery_charge > predicted_battery_charge: \n",
    "            if n == 5:\n",
    "                batteryoutput[n] = max(-power, -(1/eff)*(required_battery_charge - predicted_battery_charge))\n",
    "                soc[n] = soc_temp - batteryoutput[n]*(1/eff)\n",
    "                continue\n",
    "                \n",
    "        if n == 0:\n",
    "            use = False\n",
    "        if bigdata['Grid Buy Price'][n] >= median*1.5:\n",
    "            use = True\n",
    "            \n",
    "\n",
    "        ## the smart design ##\n",
    "        ## the smart design ##\n",
    "        ## the smart design ##\n",
    "\n",
    "        if bigdata['Net Demand'][n] > 0:   #using the battery\n",
    "            batteryoutput[n] = min(bigdata['Net Demand'][n], soc_temp*eff, power)\n",
    "            soc[n] = soc_temp - batteryoutput[n]*(1/eff)\n",
    "            if use == False:\n",
    "                soc[n] = soc[n-1]\n",
    "                batteryoutput[n] = 0\n",
    "\n",
    "        elif bigdata['Net Demand'][n] < 0:     # charge the battery\n",
    "            batteryoutput[n] = max(bigdata['Net Demand'][n], -(1/eff)*(capacity - soc_temp), -power)\n",
    "            soc[n] = soc_temp - batteryoutput[n]*(eff)\n",
    "\n",
    "        elif bigdata['Net Demand'][n] == 0:      # do nothing\n",
    "            soc[n] = soc_temp\n",
    "\n",
    "        \n",
    "    ## adds the battery output to total demand and adds to bigdata ##\n",
    "\n",
    "    bigdata['Net Demand - SMART'] = bigdata['Net Demand']-batteryoutput\n",
    "    bigdata['Running Cost - SMART'] = bigdata['Net Demand - SMART']*bigdata['Grid Buy Price']\n",
    "    bigdata['Running Cost - SMART'] = bigdata['Running Cost - SMART'].clip(lower=0)\n",
    "    bigdata['Running Profit - SMART'] = -bigdata['Net Demand - SMART']*bigdata['Grid Sell Price']\n",
    "    bigdata['Running Profit - SMART'] = bigdata['Running Profit - SMART'].clip(lower=0)\n",
    "    bigdata['soc - SMART'] = soc\n",
    "    bigdata['battery output - SMART'] = batteryoutput\n",
    "    \n",
    "    #bigdata = bigdata.round(3)\n",
    "    ## returns the new bigdata ##\n",
    "    \n",
    "    return bigdata\n"
   ]
  },
  {
   "cell_type": "code",
   "execution_count": 4,
   "metadata": {},
   "outputs": [],
   "source": [
    "## method to run the battery ##\n",
    "\n",
    "def run_battery(bigdata):\n",
    "    \n",
    "    batteryoutput = np.zeros(24)\n",
    "    soc = np.ones(24)*0\n",
    "    capacity = 750\n",
    "    power = 420\n",
    "    eff = 0.9\n",
    "\n",
    "\n",
    "    for n in range(0,24):\n",
    "        if n == 0:\n",
    "            soc_temp = 0\n",
    "        else:\n",
    "            soc_temp = soc[n-1]\n",
    "\n",
    "        if bigdata['Net Demand'][n] > 0:   #using the battery\n",
    "            batteryoutput[n] = min(bigdata['Net Demand'][n], soc_temp*eff, power)\n",
    "            soc[n] = soc_temp - batteryoutput[n]*(1/eff)\n",
    "\n",
    "        elif bigdata['Net Demand'][n] < 0:     # charge the battery, NOTE NET DEMAND = -VE\n",
    "            batteryoutput[n] = max(bigdata['Net Demand'][n], -(1/eff)*(capacity - soc_temp), -power)\n",
    "            soc[n] = soc_temp - batteryoutput[n]*(eff)\n",
    "\n",
    "        elif bigdata['Net Demand'][n] == 0:      # do nothing\n",
    "            soc[n] = soc_temp\n",
    "\n",
    "\n",
    "    ## adds the battery output to total demand and adds to bigdata ##\n",
    "\n",
    "    bigdata['Net Demand - battery'] = bigdata['Net Demand']-batteryoutput\n",
    "    bigdata['Running Cost - battery'] = bigdata['Net Demand - battery']*bigdata['Grid Buy Price']\n",
    "    bigdata['Running Cost - battery'] = bigdata['Running Cost - battery'].clip(lower=0)\n",
    "    bigdata['Running Profit - battery'] = -bigdata['Net Demand - battery']*bigdata['Grid Sell Price']\n",
    "    bigdata['Running Profit - battery'] = bigdata['Running Profit - battery'].clip(lower=0)\n",
    "    bigdata['soc - battery'] = soc\n",
    "    bigdata['battery output - battery'] = batteryoutput\n",
    "    \n",
    "    #bigdata = bigdata.round(3)\n",
    "    ## returns the new bigdata ##\n",
    "    \n",
    "    return bigdata"
   ]
  },
  {
   "cell_type": "code",
   "execution_count": 5,
   "metadata": {},
   "outputs": [],
   "source": [
    "## initialises the daily cost vectors ##\n",
    "SMART_cost = np.zeros(365)\n",
    "SMART_profit = np.zeros(365)\n",
    "_import_ = np.zeros(365)\n",
    "_export_ = np.zeros(365)\n",
    "\n",
    "for n in range(0, 365):\n",
    "\n",
    "    ## loads in the data ##\n",
    "\n",
    "    daywanted = n+1\n",
    "    datewanted = Date.getdatewanted(daywanted)\n",
    "    totaldemand = Demand.gettotaldemand(daywanted)\n",
    "    solarsupply = Solar.getsolarsupply(daywanted)\n",
    "    buyprice = Price.getconstantbuyprice(daywanted)\n",
    "    sellprice = Price.getconstantsellprice(daywanted)\n",
    "    bigdata =pd.concat([totaldemand, solarsupply, buyprice, sellprice], axis=1)\n",
    "    bigdata['Net Demand'] = bigdata['Total Demand (kWh)']-bigdata['Total Supply (kWh)']\n",
    "    bigdata['Running Cost'] = bigdata['Grid Buy Price']*bigdata['Net Demand']\n",
    "    bigdata['Running Cost'] = bigdata['Running Cost'].clip(lower=0)\n",
    "    bigdata['Running Profit'] = -bigdata['Grid Sell Price']*bigdata['Net Demand']\n",
    "    bigdata['Running Profit'] = bigdata['Running Profit'].clip(lower=0)\n",
    "\n",
    "    ## runs the battery for that day ##\n",
    "\n",
    "    bigdata = run_SMART(bigdata)\n",
    "\n",
    "    ## adds the day into the year vector ##\n",
    "\n",
    " \n",
    "    SMART_cost[n] = bigdata['Running Cost - SMART'].sum()\n",
    "    SMART_profit[n] = bigdata['Running Profit - SMART'].sum()\n",
    "    \n",
    "    _import_[n] = bigdata['Net Demand - SMART'].clip(lower=0).sum()\n",
    "    temp = bigdata['Net Demand - SMART']*(-1)\n",
    "    _export_[n] = temp.clip(lower=0).sum()\n"
   ]
  },
  {
   "cell_type": "code",
   "execution_count": 6,
   "metadata": {},
   "outputs": [
    {
     "data": {
      "text/plain": [
       "52012.91232"
      ]
     },
     "execution_count": 6,
     "metadata": {},
     "output_type": "execute_result"
    }
   ],
   "source": [
    "SMART_cost.sum()"
   ]
  },
  {
   "cell_type": "code",
   "execution_count": 7,
   "metadata": {},
   "outputs": [
    {
     "data": {
      "text/plain": [
       "67416.66873333334"
      ]
     },
     "execution_count": 7,
     "metadata": {},
     "output_type": "execute_result"
    }
   ],
   "source": [
    "SMART_profit.sum()"
   ]
  },
  {
   "cell_type": "code",
   "execution_count": 8,
   "metadata": {},
   "outputs": [
    {
     "data": {
      "text/plain": [
       "15403.756413333336"
      ]
     },
     "execution_count": 8,
     "metadata": {},
     "output_type": "execute_result"
    }
   ],
   "source": [
    "SMART_profit.sum()-SMART_cost.sum()"
   ]
  },
  {
   "cell_type": "code",
   "execution_count": 9,
   "metadata": {},
   "outputs": [
    {
     "data": {
      "text/plain": [
       "361200.78"
      ]
     },
     "execution_count": 9,
     "metadata": {},
     "output_type": "execute_result"
    }
   ],
   "source": [
    "_import_.sum()"
   ]
  },
  {
   "cell_type": "code",
   "execution_count": 10,
   "metadata": {},
   "outputs": [
    {
     "data": {
      "text/plain": [
       "1225757.6133333333"
      ]
     },
     "execution_count": 10,
     "metadata": {},
     "output_type": "execute_result"
    }
   ],
   "source": [
    "_export_.sum()"
   ]
  },
  {
   "cell_type": "code",
   "execution_count": 11,
   "metadata": {},
   "outputs": [
    {
     "data": {
      "text/plain": [
       "864556.8333333333"
      ]
     },
     "execution_count": 11,
     "metadata": {},
     "output_type": "execute_result"
    }
   ],
   "source": [
    "_export_.sum()-_import_.sum()"
   ]
  },
  {
   "cell_type": "code",
   "execution_count": null,
   "metadata": {},
   "outputs": [],
   "source": []
  }
 ],
 "metadata": {
  "kernelspec": {
   "display_name": "Python 3",
   "language": "python",
   "name": "python3"
  },
  "language_info": {
   "codemirror_mode": {
    "name": "ipython",
    "version": 3
   },
   "file_extension": ".py",
   "mimetype": "text/x-python",
   "name": "python",
   "nbconvert_exporter": "python",
   "pygments_lexer": "ipython3",
   "version": "3.7.4"
  }
 },
 "nbformat": 4,
 "nbformat_minor": 4
}
