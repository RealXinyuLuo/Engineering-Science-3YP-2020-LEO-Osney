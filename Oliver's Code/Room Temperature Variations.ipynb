{
 "cells": [
  {
   "cell_type": "code",
   "execution_count": 4,
   "metadata": {},
   "outputs": [],
   "source": [
    "import pandas as pd\n",
    "import numpy as np\n",
    "import matplotlib.pyplot as plt\n",
    "import Forecast\n",
    "import Date"
   ]
  },
  {
   "cell_type": "code",
   "execution_count": 5,
   "metadata": {},
   "outputs": [],
   "source": [
    "sun = pd.read_csv('Data/oxon_solar_2014.csv', usecols=[1])"
   ]
  },
  {
   "cell_type": "code",
   "execution_count": 12,
   "metadata": {},
   "outputs": [],
   "source": [
    "daywanted = 150\n",
    "datewanted = Date.getdatewanted(daywanted, 2014)\n",
    "solar_variation = sun[0+daywanted*24:24+daywanted*24]\n",
    "outside_temp_variation, UV = Forecast.forecastF(datewanted)\n",
    "sunangle = pd.read_csv('Data/January.csv', usecols=[4])\n",
    "outside_temp_variation = pd.DataFrame(outside_temp_variation)"
   ]
  },
  {
   "cell_type": "code",
   "execution_count": 13,
   "metadata": {},
   "outputs": [],
   "source": [
    "out_temp = np.array(outside_temp_variation)\n",
    "sun_var = np.array(solar_variation)\n",
    "sun_ang = np.array(sunangle.iloc[0:24])"
   ]
  },
  {
   "cell_type": "code",
   "execution_count": 14,
   "metadata": {},
   "outputs": [],
   "source": [
    "glassthickness = 2*4.8*10**-3\n",
    "area = 20\n",
    "k = 0.39\n",
    "rho = 1.293\n",
    "V = 220\n",
    "Cv = 1.004/1.4"
   ]
  },
  {
   "cell_type": "code",
   "execution_count": 15,
   "metadata": {},
   "outputs": [],
   "source": [
    "in_temp = np.zeros(24)"
   ]
  },
  {
   "cell_type": "code",
   "execution_count": 23,
   "metadata": {},
   "outputs": [],
   "source": [
    "iteration = 10\n",
    "n = iteration\n",
    "qsun = (0.9-0.01*sun_ang[n])*sun_var[n]\n",
    "qconduct = k*((out_temp[n]-in_temp[n])/glassthickness)/1000\n",
    "Q = area*(qsun+qconduct)\n",
    "deltaT = (Q)/(rho*V*Cv)"
   ]
  },
  {
   "cell_type": "code",
   "execution_count": 24,
   "metadata": {},
   "outputs": [
    {
     "data": {
      "text/plain": [
       "array([0.59244792])"
      ]
     },
     "execution_count": 24,
     "metadata": {},
     "output_type": "execute_result"
    }
   ],
   "source": [
    "qconduct"
   ]
  },
  {
   "cell_type": "code",
   "execution_count": 25,
   "metadata": {},
   "outputs": [
    {
     "data": {
      "text/plain": [
       "array([0.3536324])"
      ]
     },
     "execution_count": 25,
     "metadata": {},
     "output_type": "execute_result"
    }
   ],
   "source": [
    "qsun"
   ]
  },
  {
   "cell_type": "code",
   "execution_count": 26,
   "metadata": {},
   "outputs": [
    {
     "data": {
      "text/plain": [
       "array([0.09275367])"
      ]
     },
     "execution_count": 26,
     "metadata": {},
     "output_type": "execute_result"
    }
   ],
   "source": [
    "deltaT"
   ]
  },
  {
   "cell_type": "code",
   "execution_count": null,
   "metadata": {},
   "outputs": [],
   "source": []
  }
 ],
 "metadata": {
  "kernelspec": {
   "display_name": "Python 3",
   "language": "python",
   "name": "python3"
  },
  "language_info": {
   "codemirror_mode": {
    "name": "ipython",
    "version": 3
   },
   "file_extension": ".py",
   "mimetype": "text/x-python",
   "name": "python",
   "nbconvert_exporter": "python",
   "pygments_lexer": "ipython3",
   "version": "3.7.4"
  }
 },
 "nbformat": 4,
 "nbformat_minor": 4
}
