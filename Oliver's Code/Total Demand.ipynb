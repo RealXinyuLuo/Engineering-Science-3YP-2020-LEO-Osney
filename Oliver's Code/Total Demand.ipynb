{
 "cells": [
  {
   "cell_type": "code",
   "execution_count": 1,
   "metadata": {},
   "outputs": [],
   "source": [
    "import pandas as pd\n",
    "import numpy as np\n",
    "import matplotlib.pyplot as plt"
   ]
  },
  {
   "cell_type": "code",
   "execution_count": 2,
   "metadata": {},
   "outputs": [],
   "source": [
    "def getdaywanted(datewanted):\n",
    "\n",
    "    from datetime import datetime\n",
    "    import datetime as dt\n",
    "\n",
    "    datestring = datewanted\n",
    "    date = datetime.strptime(datestring, '%m/%d/%Y')\n",
    "    year = date.year\n",
    "    month = date.month\n",
    "    day = date.day\n",
    "    daywanted = (dt.date(year, month, day) - dt.date(year,1,1)).days + 1\n",
    "    return daywanted"
   ]
  },
  {
   "cell_type": "code",
   "execution_count": 3,
   "metadata": {},
   "outputs": [],
   "source": [
    "def getTESAdemand(daywanted):\n",
    "    \n",
    "    rows_to_keep = [0,daywanted]\n",
    "    \n",
    "    TESA_elec_demand = pd.read_csv('Data/TESA1718.csv', index_col='Date', skiprows = lambda x: x not in rows_to_keep)\n",
    "    \n",
    "    TESA_elec_demand = TESA_elec_demand.T\n",
    "    \n",
    "    return TESA_elec_demand"
   ]
  },
  {
   "cell_type": "code",
   "execution_count": 4,
   "metadata": {},
   "outputs": [],
   "source": [
    "def getGAdemand(daywanted):\n",
    "\n",
    "    rows_to_keep = [0,daywanted+1]\n",
    "\n",
    "    GA_elec_demand = pd.read_csv('Data/CastleMillHousingArea_Elec_1617.csv', index_col='Date', skiprows = lambda x: x not in rows_to_keep)\n",
    "\n",
    "    GA_elec_demand = GA_elec_demand.drop(['Meter Id','Site Code','Meter Reference'], axis = 1);\n",
    "    \n",
    "    GA_elec_demand = GA_elec_demand.T\n",
    "    \n",
    "    return GA_elec_demand"
   ]
  },
  {
   "cell_type": "code",
   "execution_count": 5,
   "metadata": {},
   "outputs": [],
   "source": [
    "def getheatelecdemand():\n",
    "    \n",
    "    heat_demand = pd.read_csv('Data/simpleheatdemand.csv', index_col='Date')\n",
    "    \n",
    "    heat_demand = heat_demand.T\n",
    "    \n",
    "    return heat_demand"
   ]
  },
  {
   "cell_type": "code",
   "execution_count": 6,
   "metadata": {},
   "outputs": [],
   "source": [
    "def gettotaldemand(daywanted):\n",
    "    \n",
    "    TESA = getTESAdemand(daywanted)\n",
    "    \n",
    "    GA = getGAdemand(daywanted)\n",
    "    \n",
    "    Heat = getheatelecdemand()\n",
    "    \n",
    "    bigdata =pd.concat([TESA, GA, Heat], axis=1)\n",
    "    \n",
    "    bigdata['Z'] = bigdata.sum(axis=1)\n",
    "    \n",
    "    bigdata.drop(bigdata.columns[[0, 1, 2]], axis = 1, inplace = True) \n",
    "    \n",
    "    bigdata = bigdata.drop(\"00:00.1\", axis=0)\n",
    "    \n",
    "    return bigdata"
   ]
  },
  {
   "cell_type": "markdown",
   "metadata": {},
   "source": [
    "# input date wanted here"
   ]
  },
  {
   "cell_type": "code",
   "execution_count": 7,
   "metadata": {},
   "outputs": [],
   "source": [
    "datewanted = \"01/10/2020\"\n",
    "daywanted = getdaywanted(datewanted)\n",
    "totaldemand = gettotaldemand(daywanted)"
   ]
  },
  {
   "cell_type": "markdown",
   "metadata": {},
   "source": [
    "# input date wanted here"
   ]
  },
  {
   "cell_type": "code",
   "execution_count": 8,
   "metadata": {
    "scrolled": true
   },
   "outputs": [
    {
     "data": {
      "text/plain": [
       "([<matplotlib.axis.XTick at 0x113fba6d0>,\n",
       "  <matplotlib.axis.XTick at 0x1145fb610>,\n",
       "  <matplotlib.axis.XTick at 0x1145fb450>,\n",
       "  <matplotlib.axis.XTick at 0x114cc9b90>,\n",
       "  <matplotlib.axis.XTick at 0x114623290>],\n",
       " <a list of 5 Text xticklabel objects>)"
      ]
     },
     "execution_count": 8,
     "metadata": {},
     "output_type": "execute_result"
    },
    {
     "data": {
      "image/png": "[encoded data removed]",
      "text/plain": [
       "<Figure size 432x288 with 1 Axes>"
      ]
     },
     "metadata": {
      "needs_background": "light"
     },
     "output_type": "display_data"
    }
   ],
   "source": [
    "plt.plot(totaldemand)\n",
    "plt.xlabel('Time throughout the day')\n",
    "plt.ylabel('Electricity demand (kWh)')\n",
    "plt.title('Total electricity demand (kWh) for day '+str(daywanted))\n",
    "plt.xticks((0,5,11,17,23),('00:00','06:00','12:00','18:00','23:00'))"
   ]
  },
  {
   "cell_type": "code",
   "execution_count": 9,
   "metadata": {},
   "outputs": [
    {
     "data": {
      "text/html": [
       "<div>\n",
       "<style scoped>\n",
       "    .dataframe tbody tr th:only-of-type {\n",
       "        vertical-align: middle;\n",
       "    }\n",
       "\n",
       "    .dataframe tbody tr th {\n",
       "        vertical-align: top;\n",
       "    }\n",
       "\n",
       "    .dataframe thead th {\n",
       "        text-align: right;\n",
       "    }\n",
       "</style>\n",
       "<table border=\"1\" class=\"dataframe\">\n",
       "  <thead>\n",
       "    <tr style=\"text-align: right;\">\n",
       "      <th>Date</th>\n",
       "      <th>Z</th>\n",
       "    </tr>\n",
       "  </thead>\n",
       "  <tbody>\n",
       "    <tr>\n",
       "      <th>00:00</th>\n",
       "      <td>76.595</td>\n",
       "    </tr>\n",
       "    <tr>\n",
       "      <th>01:00</th>\n",
       "      <td>75.090</td>\n",
       "    </tr>\n",
       "    <tr>\n",
       "      <th>02:00</th>\n",
       "      <td>74.790</td>\n",
       "    </tr>\n",
       "    <tr>\n",
       "      <th>03:00</th>\n",
       "      <td>73.585</td>\n",
       "    </tr>\n",
       "    <tr>\n",
       "      <th>04:00</th>\n",
       "      <td>74.290</td>\n",
       "    </tr>\n",
       "    <tr>\n",
       "      <th>05:00</th>\n",
       "      <td>69.565</td>\n",
       "    </tr>\n",
       "    <tr>\n",
       "      <th>06:00</th>\n",
       "      <td>71.175</td>\n",
       "    </tr>\n",
       "    <tr>\n",
       "      <th>07:00</th>\n",
       "      <td>70.265</td>\n",
       "    </tr>\n",
       "    <tr>\n",
       "      <th>08:00</th>\n",
       "      <td>71.960</td>\n",
       "    </tr>\n",
       "    <tr>\n",
       "      <th>09:00</th>\n",
       "      <td>83.635</td>\n",
       "    </tr>\n",
       "    <tr>\n",
       "      <th>10:00</th>\n",
       "      <td>102.640</td>\n",
       "    </tr>\n",
       "    <tr>\n",
       "      <th>11:00</th>\n",
       "      <td>100.225</td>\n",
       "    </tr>\n",
       "    <tr>\n",
       "      <th>12:00</th>\n",
       "      <td>104.635</td>\n",
       "    </tr>\n",
       "    <tr>\n",
       "      <th>13:00</th>\n",
       "      <td>101.220</td>\n",
       "    </tr>\n",
       "    <tr>\n",
       "      <th>14:00</th>\n",
       "      <td>98.285</td>\n",
       "    </tr>\n",
       "    <tr>\n",
       "      <th>15:00</th>\n",
       "      <td>94.095</td>\n",
       "    </tr>\n",
       "    <tr>\n",
       "      <th>16:00</th>\n",
       "      <td>98.800</td>\n",
       "    </tr>\n",
       "    <tr>\n",
       "      <th>17:00</th>\n",
       "      <td>102.095</td>\n",
       "    </tr>\n",
       "    <tr>\n",
       "      <th>18:00</th>\n",
       "      <td>98.955</td>\n",
       "    </tr>\n",
       "    <tr>\n",
       "      <th>19:00</th>\n",
       "      <td>85.275</td>\n",
       "    </tr>\n",
       "    <tr>\n",
       "      <th>20:00</th>\n",
       "      <td>75.465</td>\n",
       "    </tr>\n",
       "    <tr>\n",
       "      <th>21:00</th>\n",
       "      <td>77.945</td>\n",
       "    </tr>\n",
       "    <tr>\n",
       "      <th>22:00</th>\n",
       "      <td>72.950</td>\n",
       "    </tr>\n",
       "    <tr>\n",
       "      <th>23:00</th>\n",
       "      <td>73.370</td>\n",
       "    </tr>\n",
       "  </tbody>\n",
       "</table>\n",
       "</div>"
      ],
      "text/plain": [
       "Date         Z\n",
       "00:00   76.595\n",
       "01:00   75.090\n",
       "02:00   74.790\n",
       "03:00   73.585\n",
       "04:00   74.290\n",
       "05:00   69.565\n",
       "06:00   71.175\n",
       "07:00   70.265\n",
       "08:00   71.960\n",
       "09:00   83.635\n",
       "10:00  102.640\n",
       "11:00  100.225\n",
       "12:00  104.635\n",
       "13:00  101.220\n",
       "14:00   98.285\n",
       "15:00   94.095\n",
       "16:00   98.800\n",
       "17:00  102.095\n",
       "18:00   98.955\n",
       "19:00   85.275\n",
       "20:00   75.465\n",
       "21:00   77.945\n",
       "22:00   72.950\n",
       "23:00   73.370"
      ]
     },
     "execution_count": 9,
     "metadata": {},
     "output_type": "execute_result"
    }
   ],
   "source": [
    "totaldemand"
   ]
  }
 ],
 "metadata": {
  "kernelspec": {
   "display_name": "Python 3",
   "language": "python",
   "name": "python3"
  },
  "language_info": {
   "codemirror_mode": {
    "name": "ipython",
    "version": 3
   },
   "file_extension": ".py",
   "mimetype": "text/x-python",
   "name": "python",
   "nbconvert_exporter": "python",
   "pygments_lexer": "ipython3",
   "version": "3.7.4"
  }
 },
 "nbformat": 4,
 "nbformat_minor": 4
}
