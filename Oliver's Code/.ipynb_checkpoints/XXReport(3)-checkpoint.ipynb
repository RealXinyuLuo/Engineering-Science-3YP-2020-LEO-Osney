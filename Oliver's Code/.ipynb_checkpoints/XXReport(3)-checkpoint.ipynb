{
 "cells": [
  {
   "cell_type": "code",
   "execution_count": 1,
   "metadata": {},
   "outputs": [],
   "source": [
    "import pandas as pd\n",
    "import numpy as np\n",
    "import matplotlib.pyplot as plt"
   ]
  },
  {
   "cell_type": "code",
   "execution_count": 2,
   "metadata": {},
   "outputs": [],
   "source": [
    "import Demand\n",
    "import Date"
   ]
  },
  {
   "cell_type": "code",
   "execution_count": 32,
   "metadata": {},
   "outputs": [],
   "source": [
    "datewanted = Date.getdatewanted(2,2014)\n",
    "GA = Demand.getrawHEATdemand(datewanted)*(460245/606645)\n",
    "TESA = Demand.getrawHEATdemand(datewanted)*(146400/606645)\n",
    "GA = np.array(GA)\n",
    "TESA = np.array(TESA)\n",
    "GA = np.append(GA,GA[23]-3)\n",
    "TESA = np.append(TESA,TESA[23]-1)"
   ]
  },
  {
   "cell_type": "code",
   "execution_count": 39,
   "metadata": {},
   "outputs": [
    {
     "data": {
      "text/plain": [
       "Text(0.5, 0.98, '\\nJanuary 2ⁿᵈ Raw Heating Demand')"
      ]
     },
     "execution_count": 39,
     "metadata": {},
     "output_type": "execute_result"
    },
    {
     "data": {
      "image/png": "[encoded data removed]",
      "text/plain": [
       "<Figure size 720x360 with 1 Axes>"
      ]
     },
     "metadata": {
      "needs_background": "light"
     },
     "output_type": "display_data"
    }
   ],
   "source": [
    "x = [0,1,2,3,4,5,6,7,8,9,10,11,12,13,14,15,16,17,18,19,20,21,22,23,24]\n",
    "\n",
    "fig, ax = plt.subplots(figsize=[10,5])\n",
    "\n",
    "ax.step(x, GA, color='crimson', label='GA')\n",
    "ax.step(x, TESA, color='dodgerblue', label='TESA')\n",
    "ax.grid(lw=0.5)\n",
    "ax.legend()\n",
    "ax.set_ylabel(\"(kW)\")\n",
    "ax.set_xlabel('Time throughout the day')\n",
    "ax.set_xticks((0,3,6,9,12,15,18,21,24))\n",
    "ax.set_xticklabels(('00:00','','06:00','','12:00','','18:00','','24:00'))\n",
    "ax.set_ylim(0,110)\n",
    "ax.set_xlim(-1,25)\n",
    "\n",
    "fig.suptitle('\\nJanuary 2\\u207F\\u1D48 Raw Heating Demand')"
   ]
  },
  {
   "cell_type": "code",
   "execution_count": 26,
   "metadata": {},
   "outputs": [
    {
     "data": {
      "text/plain": [
       "array([55.43969143, 60.15243628, 62.19338878, 62.52736282, 62.41603814,\n",
       "       62.78712041, 64.64253177, 68.9099779 , 74.84729425, 75.47813411,\n",
       "       69.98611649, 64.23434127, 61.11725019, 57.4435357 , 53.73271298,\n",
       "       58.11148379, 64.97650582, 68.72443676, 68.76154499, 68.83576144,\n",
       "       68.35335449, 64.16012482, 62.41603814, 60.00400337, 17.63489191,\n",
       "       19.13397576, 19.7831853 , 19.88941959, 19.85400816, 19.97204625,\n",
       "       20.56223675, 21.91967488, 23.80828445, 24.00894922, 22.26198536,\n",
       "       20.43239484, 19.44087481, 18.27229764, 17.09191665, 18.48476621,\n",
       "       20.66847104, 21.86065583, 21.87245964, 21.89606726, 21.74261773,\n",
       "       20.40878722, 19.85400816, 19.08676052])"
      ]
     },
     "execution_count": 26,
     "metadata": {},
     "output_type": "execute_result"
    }
   ],
   "source": [
    "np.append(GA,TESA)"
   ]
  },
  {
   "cell_type": "code",
   "execution_count": 30,
   "metadata": {},
   "outputs": [
    {
     "data": {
      "text/plain": [
       "array([[55.43969143],\n",
       "       [60.15243628],\n",
       "       [62.19338878],\n",
       "       [62.52736282],\n",
       "       [62.41603814],\n",
       "       [62.78712041],\n",
       "       [64.64253177],\n",
       "       [68.9099779 ],\n",
       "       [74.84729425],\n",
       "       [75.47813411],\n",
       "       [69.98611649],\n",
       "       [64.23434127],\n",
       "       [61.11725019],\n",
       "       [57.4435357 ],\n",
       "       [53.73271298],\n",
       "       [58.11148379],\n",
       "       [64.97650582],\n",
       "       [68.72443676],\n",
       "       [68.76154499],\n",
       "       [68.83576144],\n",
       "       [68.35335449],\n",
       "       [64.16012482],\n",
       "       [62.41603814],\n",
       "       [60.00400337]])"
      ]
     },
     "execution_count": 30,
     "metadata": {},
     "output_type": "execute_result"
    }
   ],
   "source": [
    "GA"
   ]
  },
  {
   "cell_type": "code",
   "execution_count": 31,
   "metadata": {},
   "outputs": [
    {
     "data": {
      "text/plain": [
       "array([[17.63489191],\n",
       "       [19.13397576],\n",
       "       [19.7831853 ],\n",
       "       [19.88941959],\n",
       "       [19.85400816],\n",
       "       [19.97204625],\n",
       "       [20.56223675],\n",
       "       [21.91967488],\n",
       "       [23.80828445],\n",
       "       [24.00894922],\n",
       "       [22.26198536],\n",
       "       [20.43239484],\n",
       "       [19.44087481],\n",
       "       [18.27229764],\n",
       "       [17.09191665],\n",
       "       [18.48476621],\n",
       "       [20.66847104],\n",
       "       [21.86065583],\n",
       "       [21.87245964],\n",
       "       [21.89606726],\n",
       "       [21.74261773],\n",
       "       [20.40878722],\n",
       "       [19.85400816],\n",
       "       [19.08676052]])"
      ]
     },
     "execution_count": 31,
     "metadata": {},
     "output_type": "execute_result"
    }
   ],
   "source": [
    "TESA"
   ]
  },
  {
   "cell_type": "code",
   "execution_count": null,
   "metadata": {},
   "outputs": [],
   "source": []
  }
 ],
 "metadata": {
  "kernelspec": {
   "display_name": "Python 3",
   "language": "python",
   "name": "python3"
  },
  "language_info": {
   "codemirror_mode": {
    "name": "ipython",
    "version": 3
   },
   "file_extension": ".py",
   "mimetype": "text/x-python",
   "name": "python",
   "nbconvert_exporter": "python",
   "pygments_lexer": "ipython3",
   "version": "3.7.4"
  }
 },
 "nbformat": 4,
 "nbformat_minor": 4
}
