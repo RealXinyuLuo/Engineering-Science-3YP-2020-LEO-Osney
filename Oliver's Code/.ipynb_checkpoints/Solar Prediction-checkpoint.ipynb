{
 "cells": [
  {
   "cell_type": "code",
   "execution_count": 1,
   "metadata": {},
   "outputs": [],
   "source": [
    "import Solar\n",
    "import pandas as pd\n",
    "import matplotlib.pyplot as plt\n",
    "import numpy as np\n",
    "#from sklearn.gaussian_process import GaussianProcessRegressor\n",
    "\n",
    "#from sklearn.gaussian_process.kernels import WhiteKernel, RBF, ExpSineSquared"
   ]
  },
  {
   "cell_type": "code",
   "execution_count": 2,
   "metadata": {},
   "outputs": [],
   "source": [
    "def getsolarprediction(daywanted):\n",
    "    \n",
    "    days = np.array([d for d in range(1, 365+1)])\n",
    "    \n",
    "    supplies = []\n",
    "    \n",
    "    for d in days:\n",
    "        solarsupply = Solar.getsolarsupply(d).sum()[0]\n",
    "        supplies.append(solarsupply)\n",
    "\n",
    "    window = 30\n",
    "    \n",
    "    s = pd.Series(supplies, index=days)\n",
    "    \n",
    "    r = s.rolling(window=window, center=True).sum()/window\n",
    "    \n",
    "    low = int(window/2)\n",
    "    \n",
    "    high = len(s) - low\n",
    "    \n",
    "    r[:low] = r[low+1]\n",
    "    \n",
    "    r[high:] = r[high]\n",
    "    \n",
    "    return type(r)"
   ]
  },
  {
   "cell_type": "code",
   "execution_count": 3,
   "metadata": {
    "scrolled": true
   },
   "outputs": [],
   "source": [
    "days = np.array([d for d in range(1, 365+1)])\n",
    "supplies = []\n",
    "for d in days:\n",
    "    solarsupply = Solar.getsolarsupply(d).sum()[0]\n",
    "    supplies.append(solarsupply)\n",
    "\n",
    "window = 30\n",
    "s = pd.Series(supplies, index=days)\n",
    "r = s.rolling(window=window, center=True).sum()/window\n",
    "\n"
   ]
  },
  {
   "cell_type": "code",
   "execution_count": 4,
   "metadata": {},
   "outputs": [
    {
     "data": {
      "text/plain": [
       "1289.6533333333339"
      ]
     },
     "execution_count": 4,
     "metadata": {},
     "output_type": "execute_result"
    }
   ],
   "source": [
    "low = int(window/2)\n",
    "high = len(s) - low\n",
    "r[:low] = r[low+1]\n",
    "r[high:] = r[high]\n",
    "r[1]"
   ]
  },
  {
   "cell_type": "code",
   "execution_count": 5,
   "metadata": {},
   "outputs": [],
   "source": [
    "\n",
    "# kernel = WhiteKernel() + RBF(length_scale=90.0) * ExpSineSquared(length_scale=1.3, periodicity=1.0)\n",
    "\n",
    "# gpr = GaussianProcessRegressor(kernel, alpha=10^4, normalize_y=True)\n",
    "# gpr.fit(days.reshape(-1,1), supplies)\n",
    "# s_pred = gpr.predict(days.reshape(-1,1))\n",
    "# print(\"GPML kernel: %s\" % gpr.kernel_)\n",
    "# print(\"Log-marginal-likelihood: %.3f\"\n",
    "#       % gpr.log_marginal_likelihood(gpr.kernel_.theta))\n",
    "\n",
    "# fig, ax = plt.subplots()\n",
    "# ax.plot(days, supplies, label='supply')\n",
    "# ax.plot(days, r, label='prediction')\n",
    "# ax.legend()"
   ]
  },
  {
   "cell_type": "code",
   "execution_count": 6,
   "metadata": {},
   "outputs": [],
   "source": [
    "# getsolarprediction(1)"
   ]
  },
  {
   "cell_type": "code",
   "execution_count": 7,
   "metadata": {},
   "outputs": [],
   "source": [
    "# s = pd.Series({r})\n",
    "# pd.Series({r}).to_csv('/Users/oliver/Documents/My Documents/Oxford/3YP/My Model/SMART model/Data/solarprediction.csv')"
   ]
  },
  {
   "cell_type": "code",
   "execution_count": 8,
   "metadata": {},
   "outputs": [],
   "source": [
    "r = pd.DataFrame(r)"
   ]
  },
  {
   "cell_type": "code",
   "execution_count": 9,
   "metadata": {},
   "outputs": [],
   "source": [
    "# r.to_csv('Data/solarprediction.csv')"
   ]
  },
  {
   "cell_type": "code",
   "execution_count": 10,
   "metadata": {},
   "outputs": [
    {
     "data": {
      "text/html": [
       "<div>\n",
       "<style scoped>\n",
       "    .dataframe tbody tr th:only-of-type {\n",
       "        vertical-align: middle;\n",
       "    }\n",
       "\n",
       "    .dataframe tbody tr th {\n",
       "        vertical-align: top;\n",
       "    }\n",
       "\n",
       "    .dataframe thead th {\n",
       "        text-align: right;\n",
       "    }\n",
       "</style>\n",
       "<table border=\"1\" class=\"dataframe\">\n",
       "  <thead>\n",
       "    <tr style=\"text-align: right;\">\n",
       "      <th></th>\n",
       "      <th>0</th>\n",
       "    </tr>\n",
       "  </thead>\n",
       "  <tbody>\n",
       "    <tr>\n",
       "      <th>1</th>\n",
       "      <td>1289.653333</td>\n",
       "    </tr>\n",
       "    <tr>\n",
       "      <th>2</th>\n",
       "      <td>1289.653333</td>\n",
       "    </tr>\n",
       "    <tr>\n",
       "      <th>3</th>\n",
       "      <td>1289.653333</td>\n",
       "    </tr>\n",
       "    <tr>\n",
       "      <th>4</th>\n",
       "      <td>1289.653333</td>\n",
       "    </tr>\n",
       "    <tr>\n",
       "      <th>5</th>\n",
       "      <td>1289.653333</td>\n",
       "    </tr>\n",
       "    <tr>\n",
       "      <th>...</th>\n",
       "      <td>...</td>\n",
       "    </tr>\n",
       "    <tr>\n",
       "      <th>361</th>\n",
       "      <td>1717.173333</td>\n",
       "    </tr>\n",
       "    <tr>\n",
       "      <th>362</th>\n",
       "      <td>1717.173333</td>\n",
       "    </tr>\n",
       "    <tr>\n",
       "      <th>363</th>\n",
       "      <td>1717.173333</td>\n",
       "    </tr>\n",
       "    <tr>\n",
       "      <th>364</th>\n",
       "      <td>1717.173333</td>\n",
       "    </tr>\n",
       "    <tr>\n",
       "      <th>365</th>\n",
       "      <td>1717.173333</td>\n",
       "    </tr>\n",
       "  </tbody>\n",
       "</table>\n",
       "<p>365 rows × 1 columns</p>\n",
       "</div>"
      ],
      "text/plain": [
       "               0\n",
       "1    1289.653333\n",
       "2    1289.653333\n",
       "3    1289.653333\n",
       "4    1289.653333\n",
       "5    1289.653333\n",
       "..           ...\n",
       "361  1717.173333\n",
       "362  1717.173333\n",
       "363  1717.173333\n",
       "364  1717.173333\n",
       "365  1717.173333\n",
       "\n",
       "[365 rows x 1 columns]"
      ]
     },
     "execution_count": 10,
     "metadata": {},
     "output_type": "execute_result"
    }
   ],
   "source": [
    "r"
   ]
  },
  {
   "cell_type": "code",
   "execution_count": null,
   "metadata": {},
   "outputs": [],
   "source": []
  }
 ],
 "metadata": {
  "kernelspec": {
   "display_name": "Python 3",
   "language": "python",
   "name": "python3"
  },
  "language_info": {
   "codemirror_mode": {
    "name": "ipython",
    "version": 3
   },
   "file_extension": ".py",
   "mimetype": "text/x-python",
   "name": "python",
   "nbconvert_exporter": "python",
   "pygments_lexer": "ipython3",
   "version": "3.7.4"
  }
 },
 "nbformat": 4,
 "nbformat_minor": 4
}
