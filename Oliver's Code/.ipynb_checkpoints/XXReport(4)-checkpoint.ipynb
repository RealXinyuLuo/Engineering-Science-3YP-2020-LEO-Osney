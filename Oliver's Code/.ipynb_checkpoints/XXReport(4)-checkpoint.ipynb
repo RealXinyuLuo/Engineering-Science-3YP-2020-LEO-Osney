{
 "cells": [
  {
   "cell_type": "code",
   "execution_count": 1,
   "metadata": {},
   "outputs": [],
   "source": [
    "import pandas as pd\n",
    "import numpy as np\n",
    "import matplotlib.pyplot as plt"
   ]
  },
  {
   "cell_type": "code",
   "execution_count": 2,
   "metadata": {},
   "outputs": [],
   "source": [
    "import Demand\n",
    "import Date"
   ]
  },
  {
   "cell_type": "code",
   "execution_count": 3,
   "metadata": {},
   "outputs": [],
   "source": [
    "datewanted = Date.getdatewanted(1)\n",
    "T = Demand.getrawHEATdemand(datewanted)"
   ]
  },
  {
   "cell_type": "code",
   "execution_count": 4,
   "metadata": {},
   "outputs": [
    {
     "data": {
      "text/html": [
       "<div>\n",
       "<style scoped>\n",
       "    .dataframe tbody tr th:only-of-type {\n",
       "        vertical-align: middle;\n",
       "    }\n",
       "\n",
       "    .dataframe tbody tr th {\n",
       "        vertical-align: top;\n",
       "    }\n",
       "\n",
       "    .dataframe thead th {\n",
       "        text-align: right;\n",
       "    }\n",
       "</style>\n",
       "<table border=\"1\" class=\"dataframe\">\n",
       "  <thead>\n",
       "    <tr style=\"text-align: right;\">\n",
       "      <th></th>\n",
       "      <th>Heating Demand (kWh)</th>\n",
       "    </tr>\n",
       "  </thead>\n",
       "  <tbody>\n",
       "    <tr>\n",
       "      <th>00:00</th>\n",
       "      <td>96.894745</td>\n",
       "    </tr>\n",
       "    <tr>\n",
       "      <th>01:00</th>\n",
       "      <td>101.443565</td>\n",
       "    </tr>\n",
       "    <tr>\n",
       "      <th>02:00</th>\n",
       "      <td>106.139120</td>\n",
       "    </tr>\n",
       "    <tr>\n",
       "      <th>03:00</th>\n",
       "      <td>111.079236</td>\n",
       "    </tr>\n",
       "    <tr>\n",
       "      <th>04:00</th>\n",
       "      <td>114.503079</td>\n",
       "    </tr>\n",
       "    <tr>\n",
       "      <th>05:00</th>\n",
       "      <td>116.753032</td>\n",
       "    </tr>\n",
       "    <tr>\n",
       "      <th>06:00</th>\n",
       "      <td>117.339977</td>\n",
       "    </tr>\n",
       "    <tr>\n",
       "      <th>07:00</th>\n",
       "      <td>118.611690</td>\n",
       "    </tr>\n",
       "    <tr>\n",
       "      <th>08:00</th>\n",
       "      <td>118.611690</td>\n",
       "    </tr>\n",
       "    <tr>\n",
       "      <th>09:00</th>\n",
       "      <td>117.193241</td>\n",
       "    </tr>\n",
       "    <tr>\n",
       "      <th>10:00</th>\n",
       "      <td>110.003171</td>\n",
       "    </tr>\n",
       "    <tr>\n",
       "      <th>11:00</th>\n",
       "      <td>105.845648</td>\n",
       "    </tr>\n",
       "    <tr>\n",
       "      <th>12:00</th>\n",
       "      <td>100.416412</td>\n",
       "    </tr>\n",
       "    <tr>\n",
       "      <th>13:00</th>\n",
       "      <td>102.275069</td>\n",
       "    </tr>\n",
       "    <tr>\n",
       "      <th>14:00</th>\n",
       "      <td>104.035903</td>\n",
       "    </tr>\n",
       "    <tr>\n",
       "      <th>15:00</th>\n",
       "      <td>106.481505</td>\n",
       "    </tr>\n",
       "    <tr>\n",
       "      <th>16:00</th>\n",
       "      <td>107.802130</td>\n",
       "    </tr>\n",
       "    <tr>\n",
       "      <th>17:00</th>\n",
       "      <td>112.693333</td>\n",
       "    </tr>\n",
       "    <tr>\n",
       "      <th>18:00</th>\n",
       "      <td>117.926921</td>\n",
       "    </tr>\n",
       "    <tr>\n",
       "      <th>19:00</th>\n",
       "      <td>119.051898</td>\n",
       "    </tr>\n",
       "    <tr>\n",
       "      <th>20:00</th>\n",
       "      <td>116.606296</td>\n",
       "    </tr>\n",
       "    <tr>\n",
       "      <th>21:00</th>\n",
       "      <td>106.139120</td>\n",
       "    </tr>\n",
       "    <tr>\n",
       "      <th>22:00</th>\n",
       "      <td>101.394653</td>\n",
       "    </tr>\n",
       "    <tr>\n",
       "      <th>23:00</th>\n",
       "      <td>98.557755</td>\n",
       "    </tr>\n",
       "  </tbody>\n",
       "</table>\n",
       "</div>"
      ],
      "text/plain": [
       "       Heating Demand (kWh)\n",
       "00:00             96.894745\n",
       "01:00            101.443565\n",
       "02:00            106.139120\n",
       "03:00            111.079236\n",
       "04:00            114.503079\n",
       "05:00            116.753032\n",
       "06:00            117.339977\n",
       "07:00            118.611690\n",
       "08:00            118.611690\n",
       "09:00            117.193241\n",
       "10:00            110.003171\n",
       "11:00            105.845648\n",
       "12:00            100.416412\n",
       "13:00            102.275069\n",
       "14:00            104.035903\n",
       "15:00            106.481505\n",
       "16:00            107.802130\n",
       "17:00            112.693333\n",
       "18:00            117.926921\n",
       "19:00            119.051898\n",
       "20:00            116.606296\n",
       "21:00            106.139120\n",
       "22:00            101.394653\n",
       "23:00             98.557755"
      ]
     },
     "execution_count": 4,
     "metadata": {},
     "output_type": "execute_result"
    }
   ],
   "source": [
    "T"
   ]
  },
  {
   "cell_type": "code",
   "execution_count": 5,
   "metadata": {},
   "outputs": [],
   "source": [
    "T['GA Int Gen - Occupants(weekday)'] = [82.5,82.5,82.5,82.5,82.5,82.5,82.5,115,115,0,0,0,0,0,0,0,0,0,115,115,115,115,95,95]\n",
    "T['GA Int Gen - Occupants(weekday)'] = T['GA Int Gen - Occupants(weekday)']*500/1000"
   ]
  },
  {
   "cell_type": "code",
   "execution_count": 6,
   "metadata": {},
   "outputs": [],
   "source": [
    "T['GA Int Gen - Occupants(weekend)'] = [82.5,82.5,82.5,82.5,82.5,82.5,82.5,82.5,82.5,82.5,115,115,115,115,115,115,115,115,115,115,115,95,95,95]\n",
    "T['GA Int Gen - Occupants(weekend)'] = T['GA Int Gen - Occupants(weekend)']*500/1000\n"
   ]
  },
  {
   "cell_type": "code",
   "execution_count": 7,
   "metadata": {},
   "outputs": [],
   "source": [
    "T['GA Int Gen - Lighting(weekday)'] = [0,0,0,0,0,0,0,10.166,10.166,0,0,0,0,0,0,0,0,0,10.166,10.166,10.166,10.166,10.166,10.166]"
   ]
  },
  {
   "cell_type": "code",
   "execution_count": 8,
   "metadata": {},
   "outputs": [],
   "source": [
    "T['GA Int Gen - Lighting(weekend)'] = [0,0,0,0,0,0,0,0,0,0,10.166,10.166,10.166,10.166,10.166,10.166,10.166,10.166,10.166,10.166,10.166,10.166,10.166,10.166]\n"
   ]
  },
  {
   "cell_type": "code",
   "execution_count": 9,
   "metadata": {},
   "outputs": [],
   "source": [
    "T['GA Int Gen - Cooking(weekday)'] = [0,0,0,0,0,0,0,0,0,0,0,0,0,0,0,0,0,0,121,121,0,0,0,0]\n",
    "T['GA Int Gen - Cooking(weekday)'] = T['GA Int Gen - Cooking(weekday)']*500/1000"
   ]
  },
  {
   "cell_type": "code",
   "execution_count": 10,
   "metadata": {},
   "outputs": [],
   "source": [
    "T['GA Int Gen - Cooking(weekend)'] = [0,0,0,0,0,0,0,0,0,0,0,0,0,0,0,0,0,0,121,121,0,0,0,0]\n",
    "T['GA Int Gen - Cooking(weekend)'] = T['GA Int Gen - Cooking(weekend)']*500/1000"
   ]
  },
  {
   "cell_type": "code",
   "execution_count": 36,
   "metadata": {},
   "outputs": [],
   "source": [
    "T['GA Total Int Gen - weekday'] = T['GA Int Gen - Occupants(weekday)']+T['GA Int Gen - Lighting(weekday)']+T['GA Int Gen - Cooking(weekday)']\n",
    "T['GA Total Int Gen - weekend'] = T['GA Int Gen - Occupants(weekend)']+T['GA Int Gen - Lighting(weekend)']+T['GA Int Gen - Cooking(weekend)']\n",
    "\n",
    "\n"
   ]
  },
  {
   "cell_type": "code",
   "execution_count": 40,
   "metadata": {},
   "outputs": [
    {
     "data": {
      "text/plain": [
       "<matplotlib.legend.Legend at 0x118474f10>"
      ]
     },
     "execution_count": 40,
     "metadata": {},
     "output_type": "execute_result"
    },
    {
     "data": {
      "image/png": "[encoded data removed]",
      "text/plain": [
       "<Figure size 936x504 with 4 Axes>"
      ]
     },
     "metadata": {
      "needs_background": "light"
     },
     "output_type": "display_data"
    }
   ],
   "source": [
    "x = [0,1,2,3,4,5,6,7,8,9,10,11,12,13,14,15,16,17,18,19,20,21,22,23]\n",
    "fig, ax = plt.subplots(2,2,sharey=True,sharex=True,figsize=[13,7])\n",
    "ax[0,0].step(x, T['GA Int Gen - Lighting(weekday)'],color='red', label='Lighting')\n",
    "ax[0,0].legend()\n",
    "ax[0,1].step(x, T['GA Int Gen - Occupants(weekday)'],color='blue', label='Occupants')\n",
    "ax[0,1].legend()\n",
    "ax[1,0].step(x, T['GA Int Gen - Cooking(weekday)'],color='green', label='Cooking')\n",
    "ax[1,0].legend()\n",
    "ax[1,1].step(x, T['GA Total Int Gen - weekday'],color='purple',label='Total Int Gen')\n",
    "ax[1,1].legend()"
   ]
  },
  {
   "cell_type": "code",
   "execution_count": null,
   "metadata": {},
   "outputs": [],
   "source": []
  }
 ],
 "metadata": {
  "kernelspec": {
   "display_name": "Python 3",
   "language": "python",
   "name": "python3"
  },
  "language_info": {
   "codemirror_mode": {
    "name": "ipython",
    "version": 3
   },
   "file_extension": ".py",
   "mimetype": "text/x-python",
   "name": "python",
   "nbconvert_exporter": "python",
   "pygments_lexer": "ipython3",
   "version": "3.7.4"
  }
 },
 "nbformat": 4,
 "nbformat_minor": 4
}
