{
 "cells": [
  {
   "cell_type": "code",
   "execution_count": 1,
   "metadata": {},
   "outputs": [],
   "source": [
    "import pandas as pd\n",
    "import numpy as np\n",
    "import matplotlib.pyplot as plt\n"
   ]
  },
  {
   "cell_type": "code",
   "execution_count": 42,
   "metadata": {},
   "outputs": [],
   "source": [
    "daywanted = 1\n",
    "rows_to_keep = [0,daywanted]\n",
    "#data = pd.read_csv(path, skiprows = lambda x: x not in rows_to_keep)\n",
    "data = pd.read_csv('CastleMillHousingArea_Elec_1617.csv', skiprows = lambda x: x not in rows_to_keep)\n",
    "data = data.drop(['Meter Id','Site Code','Meter Reference'], axis = 1);\n"
   ]
  },
  {
   "cell_type": "code",
   "execution_count": 43,
   "metadata": {},
   "outputs": [
    {
     "data": {
      "text/html": [
       "<div>\n",
       "<style scoped>\n",
       "    .dataframe tbody tr th:only-of-type {\n",
       "        vertical-align: middle;\n",
       "    }\n",
       "\n",
       "    .dataframe tbody tr th {\n",
       "        vertical-align: top;\n",
       "    }\n",
       "\n",
       "    .dataframe thead th {\n",
       "        text-align: right;\n",
       "    }\n",
       "</style>\n",
       "<table border=\"1\" class=\"dataframe\">\n",
       "  <thead>\n",
       "    <tr style=\"text-align: right;\">\n",
       "      <th></th>\n",
       "      <th>Date</th>\n",
       "      <th>00:30</th>\n",
       "      <th>01:00</th>\n",
       "      <th>02:00</th>\n",
       "      <th>03:00</th>\n",
       "      <th>04:00</th>\n",
       "      <th>05:00</th>\n",
       "      <th>06:00</th>\n",
       "      <th>07:00</th>\n",
       "      <th>08:00</th>\n",
       "      <th>...</th>\n",
       "      <th>15:00</th>\n",
       "      <th>16:00</th>\n",
       "      <th>17:00</th>\n",
       "      <th>18:00</th>\n",
       "      <th>19:00</th>\n",
       "      <th>20:00</th>\n",
       "      <th>21:00</th>\n",
       "      <th>22:00</th>\n",
       "      <th>23:00</th>\n",
       "      <th>24:00</th>\n",
       "    </tr>\n",
       "  </thead>\n",
       "  <tbody>\n",
       "    <tr>\n",
       "      <th>0</th>\n",
       "      <td>01/01/2016</td>\n",
       "      <td>14.0</td>\n",
       "      <td>14.1</td>\n",
       "      <td>14.6</td>\n",
       "      <td>15.2</td>\n",
       "      <td>15.2</td>\n",
       "      <td>13.5</td>\n",
       "      <td>13.1</td>\n",
       "      <td>13.6</td>\n",
       "      <td>13.2</td>\n",
       "      <td>...</td>\n",
       "      <td>14.8</td>\n",
       "      <td>15.3</td>\n",
       "      <td>19.2</td>\n",
       "      <td>19.4</td>\n",
       "      <td>18.4</td>\n",
       "      <td>16.1</td>\n",
       "      <td>18.2</td>\n",
       "      <td>17.1</td>\n",
       "      <td>16.4</td>\n",
       "      <td>14.2</td>\n",
       "    </tr>\n",
       "  </tbody>\n",
       "</table>\n",
       "<p>1 rows × 26 columns</p>\n",
       "</div>"
      ],
      "text/plain": [
       "         Date  00:30  01:00  02:00  03:00  04:00  05:00  06:00  07:00  08:00  \\\n",
       "0  01/01/2016   14.0   14.1   14.6   15.2   15.2   13.5   13.1   13.6   13.2   \n",
       "\n",
       "   ...  15:00  16:00  17:00  18:00  19:00  20:00  21:00  22:00  23:00  24:00  \n",
       "0  ...   14.8   15.3   19.2   19.4   18.4   16.1   18.2   17.1   16.4   14.2  \n",
       "\n",
       "[1 rows x 26 columns]"
      ]
     },
     "execution_count": 43,
     "metadata": {},
     "output_type": "execute_result"
    }
   ],
   "source": [
    "data"
   ]
  },
  {
   "cell_type": "code",
   "execution_count": null,
   "metadata": {},
   "outputs": [],
   "source": []
  }
 ],
 "metadata": {
  "kernelspec": {
   "display_name": "Python 3",
   "language": "python",
   "name": "python3"
  },
  "language_info": {
   "codemirror_mode": {
    "name": "ipython",
    "version": 3
   },
   "file_extension": ".py",
   "mimetype": "text/x-python",
   "name": "python",
   "nbconvert_exporter": "python",
   "pygments_lexer": "ipython3",
   "version": "3.7.4"
  }
 },
 "nbformat": 4,
 "nbformat_minor": 4
}
