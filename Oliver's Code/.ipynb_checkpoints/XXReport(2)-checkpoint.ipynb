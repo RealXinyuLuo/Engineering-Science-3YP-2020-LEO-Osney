{
 "cells": [
  {
   "cell_type": "code",
   "execution_count": 1,
   "metadata": {},
   "outputs": [],
   "source": [
    "import pandas as pd\n",
    "import numpy as np\n",
    "import matplotlib.pyplot as plt\n",
    "from matplotlib.patches import Polygon\n",
    "import time"
   ]
  },
  {
   "cell_type": "code",
   "execution_count": 2,
   "metadata": {},
   "outputs": [],
   "source": [
    "import Demand\n",
    "import Date"
   ]
  },
  {
   "cell_type": "code",
   "execution_count": 7,
   "metadata": {},
   "outputs": [
    {
     "data": {
      "text/plain": [
       "<matplotlib.legend.Legend at 0x12155af10>"
      ]
     },
     "execution_count": 7,
     "metadata": {},
     "output_type": "execute_result"
    },
    {
     "data": {
      "image/png": "[encoded data removed]",
      "text/plain": [
       "<Figure size 432x288 with 1 Axes>"
      ]
     },
     "metadata": {
      "needs_background": "light"
     },
     "output_type": "display_data"
    }
   ],
   "source": [
    "data = np.zeros((24,22))\n",
    "data2 = np.zeros((24,22))\n",
    "\n",
    "for q in range(0,22):\n",
    "    demand = Demand.getGAdemand(q+1)\n",
    "    demand = demand.drop('00:00.1', axis=0)\n",
    "    demand2 = Demand.getTESAdemand(q+1)\n",
    "    demand2 = demand2.drop('00:00.1', axis=0)\n",
    "    for n in range(0,24):\n",
    "        data[n,q] = demand.iloc[n]\n",
    "        data2[n,q] = demand2.iloc[n]\n",
    "\n",
    "sum = data.sum(axis=0)\n",
    "sum2 = data2.sum(axis=0)\n",
    "x = len(sum)\n",
    "x = np.arange(x)\n",
    "\n",
    "fig, ax = plt.subplots()\n",
    "ax.step(x, sum, color='crimson', label='GA daily demand')\n",
    "ax.step(x, sum2, label='TESA daily demand')\n",
    "ax.set_ylim(0,1600)\n",
    "ax.set_xlabel('Day number')\n",
    "ax.set_ylabel('Daily total electricity demand (kWh)')\n",
    "ax.set_xticks(range(22))\n",
    "# ax.set_xticklabels(())\n",
    "ax.grid()\n",
    "ax.legend(loc='lower right')"
   ]
  },
  {
   "cell_type": "code",
   "execution_count": 4,
   "metadata": {},
   "outputs": [
    {
     "data": {
      "text/plain": [
       "array([1035.32 ,  973.78 , 1234.42 , 1320.395, 1379.22 , 1367.455,\n",
       "       1054.325, 1054.325, 1399.13 , 1412.705, 1412.705, 1389.175,\n",
       "       1398.225, 1034.415, 1038.94 , 1453.43 , 1433.52 , 1432.615,\n",
       "       1369.265, 1325.825, 1018.125,  998.215])"
      ]
     },
     "execution_count": 4,
     "metadata": {},
     "output_type": "execute_result"
    }
   ],
   "source": [
    "sum2"
   ]
  },
  {
   "cell_type": "code",
   "execution_count": 5,
   "metadata": {},
   "outputs": [
    {
     "data": {
      "text/plain": [
       "'01/04/2018'"
      ]
     },
     "execution_count": 5,
     "metadata": {},
     "output_type": "execute_result"
    }
   ],
   "source": [
    "Date.getdatewanted(4)"
   ]
  },
  {
   "cell_type": "code",
   "execution_count": 6,
   "metadata": {},
   "outputs": [
    {
     "data": {
      "text/plain": [
       "3"
      ]
     },
     "execution_count": 6,
     "metadata": {},
     "output_type": "execute_result"
    }
   ],
   "source": [
    "Date.getweekday('01/04/2018')"
   ]
  },
  {
   "cell_type": "code",
   "execution_count": null,
   "metadata": {},
   "outputs": [],
   "source": []
  }
 ],
 "metadata": {
  "kernelspec": {
   "display_name": "Python 3",
   "language": "python",
   "name": "python3"
  },
  "language_info": {
   "codemirror_mode": {
    "name": "ipython",
    "version": 3
   },
   "file_extension": ".py",
   "mimetype": "text/x-python",
   "name": "python",
   "nbconvert_exporter": "python",
   "pygments_lexer": "ipython3",
   "version": "3.7.4"
  }
 },
 "nbformat": 4,
 "nbformat_minor": 4
}
