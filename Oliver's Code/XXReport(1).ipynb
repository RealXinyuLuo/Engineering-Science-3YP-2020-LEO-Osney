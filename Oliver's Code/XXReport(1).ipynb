{
 "cells": [
  {
   "cell_type": "code",
   "execution_count": 1,
   "metadata": {},
   "outputs": [],
   "source": [
    "import pandas as pd\n",
    "import numpy as np\n",
    "import matplotlib.pyplot as plt\n",
    "from matplotlib.patches import Polygon\n",
    "import time"
   ]
  },
  {
   "cell_type": "code",
   "execution_count": 2,
   "metadata": {},
   "outputs": [],
   "source": [
    "import Demand\n",
    "import Date"
   ]
  },
  {
   "cell_type": "code",
   "execution_count": 3,
   "metadata": {},
   "outputs": [],
   "source": [
    "# demand1 = Demand.getGAdemand(1)\n",
    "# demand1 = demand1.drop('00:00.1', axis=0)\n",
    "# demand2 = Demand.getGAdemand(150)\n",
    "# demand2 = demand2.drop('00:00.1', axis=0)\n",
    "# x = [0,1,2,3,4,5,6,7,8,9,10,11,12,13,14,15,16,17,18,19,20,21,22,23]"
   ]
  },
  {
   "cell_type": "code",
   "execution_count": 4,
   "metadata": {},
   "outputs": [],
   "source": [
    "n=152\n",
    "\n",
    "\n",
    "demand1 = Demand.getGAdemand(n)\n",
    "demand1 = demand1.drop('00:00.1', axis=0)\n",
    "demand2 = Demand.getGAdemand(n+152)\n",
    "demand2 = demand2.drop('00:00.1', axis=0)\n",
    "x = [0,1,2,3,4,5,6,7,8,9,10,11,12,13,14,15,16,17,18,19,20,21,22,23]\n",
    "\n",
    "# fig, (ax1, ax2) = plt.subplots(1,2,figsize=(14,7))\n",
    "# ax1.step(x, demand1, color='crimson', label=Date.getdatewanted(1))\n",
    "# ax1.set_ylim(0,24)\n",
    "# ax1.grid()\n",
    "# ax1.set_xlabel('Time throughout the day on '+Date.getdatewanted(1))\n",
    "# ax1.set_ylabel('(kWh)')\n",
    "# ax1.set_xticks((0,5,11,17,23))\n",
    "# ax1.set_xticklabels(('00:00','06:00','12:00','18:00','23:00'))\n",
    "# ax1.legend()\n",
    "\n",
    "# ax2.step(x, demand2, label=Date.getdatewanted(n))\n",
    "# ax2.set_ylim(0,24)\n",
    "# ax2.grid()\n",
    "# ax2.set_xlabel('Time throughout the day on '+Date.getdatewanted(n))\n",
    "# ax2.set_ylabel('(kWh)')\n",
    "# ax2.set_xticks((0,5,11,17,23))\n",
    "# ax2.set_xticklabels(('00:00','06:00','12:00','18:00','23:00'))\n",
    "# ax2.legend()\n",
    "\n",
    "\n",
    "\n",
    "# fig.legend()\n",
    "# fig.suptitle('Grad Accom hourly demands for summer and winter', fontsize=15)"
   ]
  },
  {
   "cell_type": "code",
   "execution_count": 5,
   "metadata": {},
   "outputs": [],
   "source": [
    "# January = pd.concat([demand1, demand2], axis=1)\n"
   ]
  },
  {
   "cell_type": "code",
   "execution_count": 6,
   "metadata": {},
   "outputs": [
    {
     "data": {
      "text/plain": [
       "<matplotlib.legend.Legend at 0x117f52310>"
      ]
     },
     "execution_count": 6,
     "metadata": {},
     "output_type": "execute_result"
    },
    {
     "data": {
      "image/png": "[encoded data removed]",
      "text/plain": [
       "<Figure size 1008x504 with 2 Axes>"
      ]
     },
     "metadata": {
      "needs_background": "light"
     },
     "output_type": "display_data"
    }
   ],
   "source": [
    "January = np.zeros((24,31))\n",
    "\n",
    "for q in range(1,32):\n",
    "    demand = Demand.getGAdemand(q)\n",
    "    for n in range(0,24):\n",
    "        January[n,q-1] = demand.iloc[n]\n",
    "        \n",
    "January = pd.DataFrame(January)\n",
    "January['Jan'] = January.mean(axis=1)\n",
    "January.drop(January.columns.difference(['Jan']), 1, inplace=True)\n",
    "\n",
    "\n",
    "July = np.zeros((24,31))\n",
    "\n",
    "for q in range(1,32):\n",
    "    demand = Demand.getGAdemand(q+152)\n",
    "    for n in range(0,24):\n",
    "        July[n,q-1] = demand.iloc[n]\n",
    "        \n",
    "July = pd.DataFrame(July)\n",
    "July['Jul'] = July.mean(axis=1)\n",
    "July.drop(July.columns.difference(['Jul']), 1, inplace=True)\n",
    "\n",
    "fig, (ax1, ax2) = plt.subplots(1,2,figsize=(14,7))\n",
    "\n",
    "ax1.step(x, January, color='crimson', label='January average')\n",
    "ax1.set_ylim(0,28)\n",
    "ax1.grid()\n",
    "ax1.set_xlabel('Time throughout the day', fontsize=15)\n",
    "ax1.set_ylabel('(kW)',fontsize=15)\n",
    "ax1.set_xticks((0,5,11,17,23))\n",
    "ax1.set_xticklabels(('00:00','06:00','12:00','18:00','23:00'))\n",
    "ax1.legend()\n",
    "\n",
    "ax2.step(x, July, label='July average')\n",
    "ax2.set_ylim(0,28)\n",
    "ax2.grid()\n",
    "ax2.set_xlabel('Time throughout the day',fontsize=15)\n",
    "ax2.set_ylabel('(kW)',fontsize=15)\n",
    "ax2.set_xticks((0,5,11,17,23))\n",
    "ax2.set_xticklabels(('00:00','06:00','12:00','18:00','23:00'))\n",
    "ax2.legend()"
   ]
  },
  {
   "cell_type": "code",
   "execution_count": null,
   "metadata": {},
   "outputs": [],
   "source": []
  }
 ],
 "metadata": {
  "kernelspec": {
   "display_name": "Python 3",
   "language": "python",
   "name": "python3"
  },
  "language_info": {
   "codemirror_mode": {
    "name": "ipython",
    "version": 3
   },
   "file_extension": ".py",
   "mimetype": "text/x-python",
   "name": "python",
   "nbconvert_exporter": "python",
   "pygments_lexer": "ipython3",
   "version": "3.7.4"
  }
 },
 "nbformat": 4,
 "nbformat_minor": 4
}
