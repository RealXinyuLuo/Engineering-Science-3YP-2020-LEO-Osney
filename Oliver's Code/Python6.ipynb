{
 "cells": [
  {
   "cell_type": "code",
   "execution_count": 1,
   "metadata": {},
   "outputs": [],
   "source": [
    "import datetime\n",
    "import Date\n",
    "import pandas as pd\n",
    "import numpy as np\n",
    "import Forecast\n",
    "import Date\n",
    "import Demand\n",
    "import requests\n",
    "import matplotlib.pyplot as plt\n",
    "import Price\n",
    "import Solar"
   ]
  },
  {
   "cell_type": "code",
   "execution_count": 3,
   "metadata": {},
   "outputs": [],
   "source": [
    "importing = np.zeros(24*365)\n",
    "exporting = np.zeros(24*365)\n",
    "\n",
    "for n in range(365):\n",
    "    buy = np.array(Price.getvariablebuyprice(n+1))\n",
    "    sell = np.array(Price.getvariablesellprice(n+1))\n",
    "    \n",
    "    for q in range(24):\n",
    "        importing[q+n*24] = buy[q]\n",
    "        exporting[q+n*24] = sell[q]"
   ]
  },
  {
   "cell_type": "code",
   "execution_count": 5,
   "metadata": {},
   "outputs": [],
   "source": [
    "importing = pd.DataFrame(importing)\n",
    "exporting = pd.DataFrame(exporting)\n",
    "\n",
    "importing.to_csv('buyprice_oli.csv')\n",
    "exporting.to_csv('sellprice_oli.csv')"
   ]
  },
  {
   "cell_type": "code",
   "execution_count": null,
   "metadata": {},
   "outputs": [],
   "source": []
  }
 ],
 "metadata": {
  "kernelspec": {
   "display_name": "Python 3",
   "language": "python",
   "name": "python3"
  },
  "language_info": {
   "codemirror_mode": {
    "name": "ipython",
    "version": 3
   },
   "file_extension": ".py",
   "mimetype": "text/x-python",
   "name": "python",
   "nbconvert_exporter": "python",
   "pygments_lexer": "ipython3",
   "version": "3.7.4"
  }
 },
 "nbformat": 4,
 "nbformat_minor": 4
}
